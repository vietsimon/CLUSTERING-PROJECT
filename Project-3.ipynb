{
 "cells": [
  {
   "cell_type": "code",
   "execution_count": 12,
   "id": "df26e0ff",
   "metadata": {},
   "outputs": [],
   "source": [
    "import pandas as pd\n",
    "import seaborn as sns\n",
    "import matplotlib.pyplot as plt"
   ]
  },
  {
   "cell_type": "markdown",
   "id": "6396f853",
   "metadata": {},
   "source": [
    "## 1. Thu nhập dữ liệu"
   ]
  },
  {
   "cell_type": "code",
   "execution_count": 13,
   "id": "a04da4dc",
   "metadata": {},
   "outputs": [],
   "source": [
    "mall_customers_df=pd.read_csv(\"Mall_Customers.csv\")"
   ]
  },
  {
   "cell_type": "code",
   "execution_count": 14,
   "id": "61822a0b",
   "metadata": {},
   "outputs": [
    {
     "data": {
      "text/html": [
       "<div>\n",
       "<style scoped>\n",
       "    .dataframe tbody tr th:only-of-type {\n",
       "        vertical-align: middle;\n",
       "    }\n",
       "\n",
       "    .dataframe tbody tr th {\n",
       "        vertical-align: top;\n",
       "    }\n",
       "\n",
       "    .dataframe thead th {\n",
       "        text-align: right;\n",
       "    }\n",
       "</style>\n",
       "<table border=\"1\" class=\"dataframe\">\n",
       "  <thead>\n",
       "    <tr style=\"text-align: right;\">\n",
       "      <th></th>\n",
       "      <th>CustomerID</th>\n",
       "      <th>Gender</th>\n",
       "      <th>Age</th>\n",
       "      <th>Annual Income (k$)</th>\n",
       "      <th>Spending Score (1-100)</th>\n",
       "    </tr>\n",
       "  </thead>\n",
       "  <tbody>\n",
       "    <tr>\n",
       "      <th>0</th>\n",
       "      <td>1</td>\n",
       "      <td>Male</td>\n",
       "      <td>19</td>\n",
       "      <td>15</td>\n",
       "      <td>39</td>\n",
       "    </tr>\n",
       "    <tr>\n",
       "      <th>1</th>\n",
       "      <td>2</td>\n",
       "      <td>Male</td>\n",
       "      <td>21</td>\n",
       "      <td>15</td>\n",
       "      <td>81</td>\n",
       "    </tr>\n",
       "    <tr>\n",
       "      <th>2</th>\n",
       "      <td>3</td>\n",
       "      <td>Female</td>\n",
       "      <td>20</td>\n",
       "      <td>16</td>\n",
       "      <td>6</td>\n",
       "    </tr>\n",
       "    <tr>\n",
       "      <th>3</th>\n",
       "      <td>4</td>\n",
       "      <td>Female</td>\n",
       "      <td>23</td>\n",
       "      <td>16</td>\n",
       "      <td>77</td>\n",
       "    </tr>\n",
       "    <tr>\n",
       "      <th>4</th>\n",
       "      <td>5</td>\n",
       "      <td>Female</td>\n",
       "      <td>31</td>\n",
       "      <td>17</td>\n",
       "      <td>40</td>\n",
       "    </tr>\n",
       "    <tr>\n",
       "      <th>...</th>\n",
       "      <td>...</td>\n",
       "      <td>...</td>\n",
       "      <td>...</td>\n",
       "      <td>...</td>\n",
       "      <td>...</td>\n",
       "    </tr>\n",
       "    <tr>\n",
       "      <th>195</th>\n",
       "      <td>196</td>\n",
       "      <td>Female</td>\n",
       "      <td>35</td>\n",
       "      <td>120</td>\n",
       "      <td>79</td>\n",
       "    </tr>\n",
       "    <tr>\n",
       "      <th>196</th>\n",
       "      <td>197</td>\n",
       "      <td>Female</td>\n",
       "      <td>45</td>\n",
       "      <td>126</td>\n",
       "      <td>28</td>\n",
       "    </tr>\n",
       "    <tr>\n",
       "      <th>197</th>\n",
       "      <td>198</td>\n",
       "      <td>Male</td>\n",
       "      <td>32</td>\n",
       "      <td>126</td>\n",
       "      <td>74</td>\n",
       "    </tr>\n",
       "    <tr>\n",
       "      <th>198</th>\n",
       "      <td>199</td>\n",
       "      <td>Male</td>\n",
       "      <td>32</td>\n",
       "      <td>137</td>\n",
       "      <td>18</td>\n",
       "    </tr>\n",
       "    <tr>\n",
       "      <th>199</th>\n",
       "      <td>200</td>\n",
       "      <td>Male</td>\n",
       "      <td>30</td>\n",
       "      <td>137</td>\n",
       "      <td>83</td>\n",
       "    </tr>\n",
       "  </tbody>\n",
       "</table>\n",
       "<p>200 rows × 5 columns</p>\n",
       "</div>"
      ],
      "text/plain": [
       "     CustomerID  Gender  Age  Annual Income (k$)  Spending Score (1-100)\n",
       "0             1    Male   19                  15                      39\n",
       "1             2    Male   21                  15                      81\n",
       "2             3  Female   20                  16                       6\n",
       "3             4  Female   23                  16                      77\n",
       "4             5  Female   31                  17                      40\n",
       "..          ...     ...  ...                 ...                     ...\n",
       "195         196  Female   35                 120                      79\n",
       "196         197  Female   45                 126                      28\n",
       "197         198    Male   32                 126                      74\n",
       "198         199    Male   32                 137                      18\n",
       "199         200    Male   30                 137                      83\n",
       "\n",
       "[200 rows x 5 columns]"
      ]
     },
     "execution_count": 14,
     "metadata": {},
     "output_type": "execute_result"
    }
   ],
   "source": [
    "mall_customers_df"
   ]
  },
  {
   "cell_type": "markdown",
   "id": "a5b1adeb",
   "metadata": {},
   "source": [
    "## 2. Khám phá dữ liệu "
   ]
  },
  {
   "cell_type": "markdown",
   "id": "a64e3abc",
   "metadata": {},
   "source": [
    "### Dữ liệu có bao nhiều cột, bao nhiêu dòng ?"
   ]
  },
  {
   "cell_type": "code",
   "execution_count": 15,
   "id": "d6f9de81",
   "metadata": {},
   "outputs": [
    {
     "name": "stdout",
     "output_type": "stream",
     "text": [
      "Rows: 200 \n",
      "Cols: 5\n"
     ]
    }
   ],
   "source": [
    "num_rows, num_cols = mall_customers_df.shape\n",
    "print(f'Rows: {num_rows} \\nCols: {num_cols}')"
   ]
  },
  {
   "cell_type": "markdown",
   "id": "361361fe",
   "metadata": {},
   "source": [
    "### Kiểm tra trùng lặp"
   ]
  },
  {
   "cell_type": "code",
   "execution_count": 16,
   "id": "b9000127",
   "metadata": {},
   "outputs": [
    {
     "data": {
      "text/plain": [
       "False"
      ]
     },
     "execution_count": 16,
     "metadata": {},
     "output_type": "execute_result"
    }
   ],
   "source": [
    "have_duplicated_rows = mall_customers_df.duplicated().any()\n",
    "have_duplicated_rows"
   ]
  },
  {
   "cell_type": "markdown",
   "id": "f289f430",
   "metadata": {},
   "source": [
    "### Mỗi cột có ý nghĩa gì?"
   ]
  },
  {
   "cell_type": "markdown",
   "id": "526b9bc7",
   "metadata": {},
   "source": [
    "**CustomerID**: Unique ID assigned to the customer\n",
    "\n",
    "**Gender**: Gender of the customer\n",
    "\n",
    "**Age**: Age of the customer\n",
    "\n",
    "**Annual Income**: Annual Income of the customer (k$)\n",
    "\n",
    "**Spending**: Score assigned by the mall based on customer behavior and spending nature"
   ]
  },
  {
   "cell_type": "markdown",
   "id": "2070d5fe",
   "metadata": {},
   "source": [
    "### Chi tiết từng cột"
   ]
  },
  {
   "cell_type": "code",
   "execution_count": 17,
   "id": "88519783",
   "metadata": {},
   "outputs": [
    {
     "name": "stdout",
     "output_type": "stream",
     "text": [
      "<class 'pandas.core.frame.DataFrame'>\n",
      "RangeIndex: 200 entries, 0 to 199\n",
      "Data columns (total 5 columns):\n",
      " #   Column                  Non-Null Count  Dtype \n",
      "---  ------                  --------------  ----- \n",
      " 0   CustomerID              200 non-null    int64 \n",
      " 1   Gender                  200 non-null    object\n",
      " 2   Age                     200 non-null    int64 \n",
      " 3   Annual Income (k$)      200 non-null    int64 \n",
      " 4   Spending Score (1-100)  200 non-null    int64 \n",
      "dtypes: int64(4), object(1)\n",
      "memory usage: 7.9+ KB\n"
     ]
    }
   ],
   "source": [
    "mall_customers_df.info()"
   ]
  },
  {
   "cell_type": "code",
<<<<<<< HEAD
   "execution_count": 7,
=======
   "execution_count": 18,
>>>>>>> aae1977bdae98b7b6e6519b20c8b54e88b641e62
   "id": "edf0235d",
   "metadata": {},
   "outputs": [
    {
     "data": {
      "text/plain": [
       "CustomerID                200\n",
       "Gender                      2\n",
       "Age                        51\n",
       "Annual Income (k$)         64\n",
       "Spending Score (1-100)     84\n",
       "dtype: int64"
      ]
     },
<<<<<<< HEAD
     "execution_count": 7,
=======
     "execution_count": 18,
>>>>>>> aae1977bdae98b7b6e6519b20c8b54e88b641e62
     "metadata": {},
     "output_type": "execute_result"
    }
   ],
   "source": [
    "mall_customers_df.nunique()"
   ]
  },
  {
   "cell_type": "markdown",
   "id": "15fddbbd",
   "metadata": {},
   "source": [
    "Dữ liệu sạch, không có giá trị rỗng cũng như phân loại đầy đủ. Ngoại trừ cột Gender ra thì các cột còn lại đều là số."
   ]
  },
  {
   "cell_type": "markdown",
   "id": "c752e257",
   "metadata": {},
   "source": [
    "### Thống kê cơ bản từng biến "
   ]
  },
  {
   "cell_type": "code",
   "execution_count": 19,
   "id": "4d0d0849",
   "metadata": {},
   "outputs": [
    {
     "data": {
      "text/html": [
       "<div>\n",
       "<style scoped>\n",
       "    .dataframe tbody tr th:only-of-type {\n",
       "        vertical-align: middle;\n",
       "    }\n",
       "\n",
       "    .dataframe tbody tr th {\n",
       "        vertical-align: top;\n",
       "    }\n",
       "\n",
       "    .dataframe thead th {\n",
       "        text-align: right;\n",
       "    }\n",
       "</style>\n",
       "<table border=\"1\" class=\"dataframe\">\n",
       "  <thead>\n",
       "    <tr style=\"text-align: right;\">\n",
       "      <th></th>\n",
       "      <th>CustomerID</th>\n",
       "      <th>Age</th>\n",
       "      <th>Annual Income (k$)</th>\n",
       "      <th>Spending Score (1-100)</th>\n",
       "    </tr>\n",
       "  </thead>\n",
       "  <tbody>\n",
       "    <tr>\n",
       "      <th>count</th>\n",
       "      <td>200.000000</td>\n",
       "      <td>200.000000</td>\n",
       "      <td>200.000000</td>\n",
       "      <td>200.000000</td>\n",
       "    </tr>\n",
       "    <tr>\n",
       "      <th>mean</th>\n",
       "      <td>100.500000</td>\n",
       "      <td>38.850000</td>\n",
       "      <td>60.560000</td>\n",
       "      <td>50.200000</td>\n",
       "    </tr>\n",
       "    <tr>\n",
       "      <th>std</th>\n",
       "      <td>57.879185</td>\n",
       "      <td>13.969007</td>\n",
       "      <td>26.264721</td>\n",
       "      <td>25.823522</td>\n",
       "    </tr>\n",
       "    <tr>\n",
       "      <th>min</th>\n",
       "      <td>1.000000</td>\n",
       "      <td>18.000000</td>\n",
       "      <td>15.000000</td>\n",
       "      <td>1.000000</td>\n",
       "    </tr>\n",
       "    <tr>\n",
       "      <th>25%</th>\n",
       "      <td>50.750000</td>\n",
       "      <td>28.750000</td>\n",
       "      <td>41.500000</td>\n",
       "      <td>34.750000</td>\n",
       "    </tr>\n",
       "    <tr>\n",
       "      <th>50%</th>\n",
       "      <td>100.500000</td>\n",
       "      <td>36.000000</td>\n",
       "      <td>61.500000</td>\n",
       "      <td>50.000000</td>\n",
       "    </tr>\n",
       "    <tr>\n",
       "      <th>75%</th>\n",
       "      <td>150.250000</td>\n",
       "      <td>49.000000</td>\n",
       "      <td>78.000000</td>\n",
       "      <td>73.000000</td>\n",
       "    </tr>\n",
       "    <tr>\n",
       "      <th>max</th>\n",
       "      <td>200.000000</td>\n",
       "      <td>70.000000</td>\n",
       "      <td>137.000000</td>\n",
       "      <td>99.000000</td>\n",
       "    </tr>\n",
       "  </tbody>\n",
       "</table>\n",
       "</div>"
      ],
      "text/plain": [
       "       CustomerID         Age  Annual Income (k$)  Spending Score (1-100)\n",
       "count  200.000000  200.000000          200.000000              200.000000\n",
       "mean   100.500000   38.850000           60.560000               50.200000\n",
       "std     57.879185   13.969007           26.264721               25.823522\n",
       "min      1.000000   18.000000           15.000000                1.000000\n",
       "25%     50.750000   28.750000           41.500000               34.750000\n",
       "50%    100.500000   36.000000           61.500000               50.000000\n",
       "75%    150.250000   49.000000           78.000000               73.000000\n",
       "max    200.000000   70.000000          137.000000               99.000000"
      ]
     },
     "execution_count": 19,
     "metadata": {},
     "output_type": "execute_result"
    }
   ],
   "source": [
    "mall_customers_df.describe()"
   ]
  },
  {
   "cell_type": "markdown",
   "id": "deda9a2b",
   "metadata": {},
   "source": [
    "Nhận xét:\n",
    "- Bởi vì ta có tổng cộng 200 khách hàng được ghi nhận mà CustomerID lại nằm trong khoảng từ 1-200 tức mỗi khách hàng có ID khác nhau nên cột này không có nhiều ý nghĩa phân cụm cũng như trực quan.\n",
    "- Độ tuổi khách hàng từ 18-70 tuổi\n",
    "- ..."
   ]
  },
  {
   "cell_type": "markdown",
   "id": "517e71e3",
   "metadata": {},
   "source": [
    "### Tiền xử lý"
   ]
  },
  {
   "cell_type": "markdown",
   "id": "eac6f502",
   "metadata": {},
   "source": [
    "Ta sẽ bỏ cột CustomerID, ngoài ra ta cũng có thể tiền xử lý cột Gender. Tuy nhiên, việc này không đem lại nhiều lợi ý vì dù Gender có đổi sang số thì lúc này chỉ có hai giá trị. Khi trực quan ra biểu đồ, các điểm dữ liệu sẽ tập trung thành một hàng ngang, ảnh hưởng đến mô hình cũng như phân cụm dữ liệu. Ta sẽ encode chúng khi muốn sử dụng các mô hình phân lớp hoặc hồi quy khác."
   ]
  },
  {
   "cell_type": "code",
<<<<<<< HEAD
   "execution_count": 9,
=======
   "execution_count": 20,
>>>>>>> aae1977bdae98b7b6e6519b20c8b54e88b641e62
   "id": "cdeccf27",
   "metadata": {},
   "outputs": [],
   "source": [
    "mall_customers_df = mall_customers_df.drop(\"CustomerID\",axis=1)"
   ]
  },
  {
   "cell_type": "code",
<<<<<<< HEAD
   "execution_count": 10,
=======
   "execution_count": 21,
>>>>>>> aae1977bdae98b7b6e6519b20c8b54e88b641e62
   "id": "3c64958a",
   "metadata": {},
   "outputs": [
    {
     "data": {
      "text/html": [
       "<div>\n",
       "<style scoped>\n",
       "    .dataframe tbody tr th:only-of-type {\n",
       "        vertical-align: middle;\n",
       "    }\n",
       "\n",
       "    .dataframe tbody tr th {\n",
       "        vertical-align: top;\n",
       "    }\n",
       "\n",
       "    .dataframe thead th {\n",
       "        text-align: right;\n",
       "    }\n",
       "</style>\n",
       "<table border=\"1\" class=\"dataframe\">\n",
       "  <thead>\n",
       "    <tr style=\"text-align: right;\">\n",
       "      <th></th>\n",
       "      <th>Gender</th>\n",
       "      <th>Age</th>\n",
       "      <th>Annual Income (k$)</th>\n",
       "      <th>Spending Score (1-100)</th>\n",
       "    </tr>\n",
       "  </thead>\n",
       "  <tbody>\n",
       "    <tr>\n",
       "      <th>0</th>\n",
       "      <td>Male</td>\n",
       "      <td>19</td>\n",
       "      <td>15</td>\n",
       "      <td>39</td>\n",
       "    </tr>\n",
       "    <tr>\n",
       "      <th>1</th>\n",
       "      <td>Male</td>\n",
       "      <td>21</td>\n",
       "      <td>15</td>\n",
       "      <td>81</td>\n",
       "    </tr>\n",
       "    <tr>\n",
       "      <th>2</th>\n",
       "      <td>Female</td>\n",
       "      <td>20</td>\n",
       "      <td>16</td>\n",
       "      <td>6</td>\n",
       "    </tr>\n",
       "    <tr>\n",
       "      <th>3</th>\n",
       "      <td>Female</td>\n",
       "      <td>23</td>\n",
       "      <td>16</td>\n",
       "      <td>77</td>\n",
       "    </tr>\n",
       "    <tr>\n",
       "      <th>4</th>\n",
       "      <td>Female</td>\n",
       "      <td>31</td>\n",
       "      <td>17</td>\n",
       "      <td>40</td>\n",
       "    </tr>\n",
       "    <tr>\n",
       "      <th>...</th>\n",
       "      <td>...</td>\n",
       "      <td>...</td>\n",
       "      <td>...</td>\n",
       "      <td>...</td>\n",
       "    </tr>\n",
       "    <tr>\n",
       "      <th>195</th>\n",
       "      <td>Female</td>\n",
       "      <td>35</td>\n",
       "      <td>120</td>\n",
       "      <td>79</td>\n",
       "    </tr>\n",
       "    <tr>\n",
       "      <th>196</th>\n",
       "      <td>Female</td>\n",
       "      <td>45</td>\n",
       "      <td>126</td>\n",
       "      <td>28</td>\n",
       "    </tr>\n",
       "    <tr>\n",
       "      <th>197</th>\n",
       "      <td>Male</td>\n",
       "      <td>32</td>\n",
       "      <td>126</td>\n",
       "      <td>74</td>\n",
       "    </tr>\n",
       "    <tr>\n",
       "      <th>198</th>\n",
       "      <td>Male</td>\n",
       "      <td>32</td>\n",
       "      <td>137</td>\n",
       "      <td>18</td>\n",
       "    </tr>\n",
       "    <tr>\n",
       "      <th>199</th>\n",
       "      <td>Male</td>\n",
       "      <td>30</td>\n",
       "      <td>137</td>\n",
       "      <td>83</td>\n",
       "    </tr>\n",
       "  </tbody>\n",
       "</table>\n",
       "<p>200 rows × 4 columns</p>\n",
       "</div>"
      ],
      "text/plain": [
       "     Gender  Age  Annual Income (k$)  Spending Score (1-100)\n",
       "0      Male   19                  15                      39\n",
       "1      Male   21                  15                      81\n",
       "2    Female   20                  16                       6\n",
       "3    Female   23                  16                      77\n",
       "4    Female   31                  17                      40\n",
       "..      ...  ...                 ...                     ...\n",
       "195  Female   35                 120                      79\n",
       "196  Female   45                 126                      28\n",
       "197    Male   32                 126                      74\n",
       "198    Male   32                 137                      18\n",
       "199    Male   30                 137                      83\n",
       "\n",
       "[200 rows x 4 columns]"
      ]
     },
<<<<<<< HEAD
     "execution_count": 10,
=======
     "execution_count": 21,
>>>>>>> aae1977bdae98b7b6e6519b20c8b54e88b641e62
     "metadata": {},
     "output_type": "execute_result"
    }
   ],
   "source": [
    "mall_customers_df"
   ]
  },
  {
   "cell_type": "markdown",
   "id": "c26898d7",
   "metadata": {},
   "source": [
    "#### Trần Quốc Việt"
   ]
  },
  {
   "cell_type": "markdown",
   "id": "9f0f7840",
   "metadata": {},
   "source": []
  },
  {
   "cell_type": "code",
   "execution_count": 11,
   "id": "f62b9fc5",
   "metadata": {},
   "outputs": [
    {
     "data": {
      "text/html": [
       "<div>\n",
       "<style scoped>\n",
       "    .dataframe tbody tr th:only-of-type {\n",
       "        vertical-align: middle;\n",
       "    }\n",
       "\n",
       "    .dataframe tbody tr th {\n",
       "        vertical-align: top;\n",
       "    }\n",
       "\n",
       "    .dataframe thead th {\n",
       "        text-align: right;\n",
       "    }\n",
       "</style>\n",
       "<table border=\"1\" class=\"dataframe\">\n",
       "  <thead>\n",
       "    <tr style=\"text-align: right;\">\n",
       "      <th></th>\n",
       "      <th>Gender</th>\n",
       "    </tr>\n",
       "  </thead>\n",
       "  <tbody>\n",
       "    <tr>\n",
       "      <th>Female</th>\n",
       "      <td>112</td>\n",
       "    </tr>\n",
       "    <tr>\n",
       "      <th>Male</th>\n",
       "      <td>88</td>\n",
       "    </tr>\n",
       "  </tbody>\n",
       "</table>\n",
       "</div>"
      ],
      "text/plain": [
       "        Gender\n",
       "Female     112\n",
       "Male        88"
      ]
     },
     "execution_count": 11,
     "metadata": {},
     "output_type": "execute_result"
    }
   ],
   "source": [
    "gender=mall_customers_df['Gender'].value_counts().to_frame()\n",
    "gender"
   ]
  },
  {
   "cell_type": "markdown",
   "id": "ab96ae6e",
   "metadata": {},
   "source": [
    "### Distribution of Age\n"
   ]
  },
  {
   "cell_type": "markdown",
   "id": "c501f1c4",
   "metadata": {},
   "source": [
    "- Tạo `xticks` cho biểu đồ"
   ]
  },
  {
   "cell_type": "code",
   "execution_count": 14,
   "id": "234e2209",
   "metadata": {},
   "outputs": [
    {
     "data": {
      "text/plain": [
       "[0, 18, 10, 15, 20, 25, 30, 35, 40, 45, 50, 55, 60, 65, 70]"
      ]
     },
     "execution_count": 14,
     "metadata": {},
     "output_type": "execute_result"
    }
   ],
   "source": [
    "def arithmetic_progression(n, x):\n",
    "    return list(range(n, x + 1, n))\n",
    "b=arithmetic_progression(5, 70)\n",
    "b[0]=18\n",
    "b.insert(0, 0)\n",
    "b"
   ]
  },
  {
   "cell_type": "markdown",
   "id": "1eae15ea",
   "metadata": {},
   "source": [
    "- Tính các độ đo `lower_quantile`,`median`, `upper_quantile`"
   ]
  },
  {
   "cell_type": "code",
   "execution_count": 15,
   "id": "25d76e78",
   "metadata": {},
   "outputs": [],
   "source": [
    "lower_quantile=mall_customers_df['Age'].quantile(0.25)\n",
    "median=mall_customers_df['Age'].median()\n",
    "upper_quantile=mall_customers_df['Age'].quantile(0.75)"
   ]
  },
  {
   "cell_type": "code",
   "execution_count": 16,
   "id": "82922fad",
   "metadata": {},
   "outputs": [
    {
     "data": {
      "image/png": "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\n",
      "text/plain": [
       "<Figure size 1152x720 with 1 Axes>"
      ]
     },
     "metadata": {},
     "output_type": "display_data"
    }
   ],
   "source": [
    "sns.set(style=\"darkgrid\")\n",
    "plt.figure(figsize=(16,10))\n",
    "\n",
    "ax=sns.histplot(data=mall_customers_df, x=\"Age\", kde=True,binwidth = 2,element=\"bars\",edgecolor='black',line_kws= {'color':'red','linestyle': 'dashed'})\n",
    "ax.bar_label(ax.containers[0],color='green',fontsize=15,weight=\"bold\")\n",
    "ax.set_xlim(16, 70)\n",
    "plt.xlim(18, 71)\n",
    "plt.xticks(b,fontsize=13)\n",
    "plt.yticks(rotation=0,fontsize=13)\n",
    "plt.xlabel('Age', fontsize=14,color='red',weight=\"bold\")\n",
    "plt.ylabel('Count', fontsize=15,color='red',weight=\"bold\")\n",
    "plt.axvline(lower_quantile, color='magenta', linestyle='--', label=\"lower_quantile\")\n",
    "plt.axvline(median, color='red', linestyle='-', label=\"median\")\n",
    "plt.axvline(upper_quantile, color='darkorange', label=\"upper_quantile\")\n",
    "plt.legend()\n",
    "plt.show()"
   ]
  },
  {
   "cell_type": "markdown",
   "id": "ea9f1e18",
   "metadata": {},
   "source": [
    "- **Nhận xét**: \n",
    "    - Khách hàng từ độ tuổi từ **18-28** chiếm `25%`, 29-36 chiếm 25%, **36-49** chiếm `25%`, **49- 70** chiếm `25%`\n",
    "    - Độ tuổi từ 18-50 có số lượng khách hàng chiếm nhiều nhất. Lý do là đây những khách hàng nằm trong độ tuổi lao động có nguồn thu nhập đa dạng(làm 2-3 công việc, còn trẻ nên sưc khỏe tốt,...)\n",
    "    - Số lượng khách hàng trong độ tuổi từ 30-35 nhiều hơn khoảng độ tuổi khác"
   ]
  },
  {
   "cell_type": "markdown",
   "id": "ef94e2d9",
   "metadata": {},
   "source": [
    "### Top 10 độ tuổi có thu nhập cao nhất"
   ]
  },
  {
   "cell_type": "code",
   "execution_count": 55,
   "id": "ad470f8b",
   "metadata": {},
   "outputs": [],
   "source": [
    "age_annual_income=mall_customers_df.groupby(['Age']).agg({'Annual Income (k$)':'sum'})\n",
    "age_annual_income=age_annual_income.sort_values(by=['Annual Income (k$)'],ascending=False)\n",
    "age_annual_income=age_annual_income.head(10)\n",
    "age_annual_income=age_annual_income.reset_index(inplace=False)\n",
    "age_annual_income['Age'] = age_annual_income['Age'].map(str)"
   ]
  },
  {
   "cell_type": "code",
   "execution_count": 62,
   "id": "be40c5c3",
   "metadata": {},
   "outputs": [
    {
     "data": {
      "image/png": "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\n",
      "text/plain": [
       "<Figure size 864x576 with 1 Axes>"
      ]
     },
     "metadata": {},
     "output_type": "display_data"
    }
   ],
   "source": [
    "sns.set(style=\"darkgrid\")\n",
    "plt.figure(figsize=(12,8))\n",
    "ax = sns.barplot(y=age_annual_income['Age'],x=age_annual_income['Annual Income (k$)'],orient = 'h')\n",
    "plt.xlabel('Annual Income (k$)', fontsize=14,color='red',weight=\"bold\")\n",
    "plt.ylabel('Age',fontsize=15,color='red',weight=\"bold\")\n",
    "plt.xticks(fontsize=13,weight=\"bold\")\n",
    "plt.yticks(fontsize=13,weight=\"bold\")\n",
    "ax.bar_label(ax.containers[0],color='green',fontsize=15,weight=\"bold\")\n",
    "plt.show()"
   ]
  },
  {
   "cell_type": "markdown",
   "id": "4d747dc3",
   "metadata": {},
   "source": [
    "- **Nhận xét**: \n",
    "    - Khách hàng ở tuổi 32 có thu nhập nhiều nhất với số tiền **959 ngàn đô la** nhiều hơn gấp đôi so với các độ tuổi khác.\n",
    "    - Nhìn một cách tổng quan thì độ tuổi nhằm trong khoảng 30-40 có thu nhập cao, xuất hiện nhiều nhất trong top 10"
   ]
  },
  {
   "cell_type": "markdown",
   "id": "2e4d8dc0",
   "metadata": {},
   "source": [
    "### Top 10 độ tuổi có điểm đánh giá cao nhất `Spending Score (1-100)`"
   ]
  },
  {
   "cell_type": "code",
   "execution_count": 63,
   "id": "275fd21a",
   "metadata": {},
   "outputs": [],
   "source": [
    "age_annual_income=mall_customers_df.groupby(['Age']).agg({'Spending Score (1-100)':'sum'})\n",
    "age_annual_income=age_annual_income.sort_values(by=['Spending Score (1-100)'],ascending=False)\n",
    "age_annual_income=age_annual_income.head(10)\n",
    "age_annual_income=age_annual_income.reset_index(inplace=False)\n",
    "age_annual_income['Age'] = age_annual_income['Age'].map(str)"
   ]
  },
  {
   "cell_type": "code",
   "execution_count": 65,
   "id": "d83eff16",
   "metadata": {},
   "outputs": [
    {
     "data": {
      "image/png": "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\n",
      "text/plain": [
       "<Figure size 864x576 with 1 Axes>"
      ]
     },
     "metadata": {},
     "output_type": "display_data"
    }
   ],
   "source": [
    "sns.set(style=\"darkgrid\")\n",
    "plt.figure(figsize=(12,8))\n",
    "ax = sns.barplot(y=age_annual_income['Age'],x=age_annual_income['Spending Score (1-100)'],orient = 'h')\n",
    "plt.xlabel('Spending Score (1-100)', fontsize=14,color='red',weight=\"bold\")\n",
    "plt.ylabel('Age',fontsize=15,color='red',weight=\"bold\")\n",
    "plt.xticks(fontsize=13,weight=\"bold\")\n",
    "plt.yticks(fontsize=13,weight=\"bold\")\n",
    "ax.bar_label(ax.containers[0],color='green',fontsize=15,weight=\"bold\")\n",
    "plt.show()"
   ]
  },
  {
   "cell_type": "markdown",
   "id": "661804bc",
   "metadata": {},
   "source": [
    "### Tỉ lệ khách hàng là nam, nữ"
   ]
  },
  {
   "cell_type": "code",
   "execution_count": 18,
   "id": "0b220d8e",
   "metadata": {},
   "outputs": [],
   "source": [
    "gender=mall_customers_df['Gender'].value_counts().to_frame()"
   ]
  },
  {
   "cell_type": "code",
   "execution_count": 19,
   "id": "f69a7786",
   "metadata": {},
   "outputs": [
    {
     "data": {
      "image/png": "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\n",
      "text/plain": [
       "<Figure size 1152x720 with 1 Axes>"
      ]
     },
     "metadata": {},
     "output_type": "display_data"
    }
   ],
   "source": [
    "palette_color = sns.color_palette('pastel')\n",
    "explode = [0, 0]\n",
    "plt.figure(figsize=(16,10))\n",
    "pie=plt.pie(gender['Gender'], labels =gender.index,colors=palette_color,explode=explode, autopct='%.0f%%')\n",
    "plt.show()"
   ]
  },
  {
   "cell_type": "markdown",
   "id": "6f31e59a",
   "metadata": {},
   "source": [
    "- **Nhận xét**: Số lượng khách hàng `female` nhiều hơn `male`"
   ]
  },
  {
   "cell_type": "markdown",
   "id": "075c05a3",
   "metadata": {},
   "source": [
    "### Female or male who has higher income ?"
   ]
  },
  {
   "cell_type": "code",
   "execution_count": 20,
   "id": "d9b6fd4a",
   "metadata": {},
   "outputs": [
    {
     "data": {
      "text/html": [
       "<div>\n",
       "<style scoped>\n",
       "    .dataframe tbody tr th:only-of-type {\n",
       "        vertical-align: middle;\n",
       "    }\n",
       "\n",
       "    .dataframe tbody tr th {\n",
       "        vertical-align: top;\n",
       "    }\n",
       "\n",
       "    .dataframe thead th {\n",
       "        text-align: right;\n",
       "    }\n",
       "</style>\n",
       "<table border=\"1\" class=\"dataframe\">\n",
       "  <thead>\n",
       "    <tr style=\"text-align: right;\">\n",
       "      <th></th>\n",
       "      <th>Annual Income (k$)</th>\n",
       "    </tr>\n",
       "    <tr>\n",
       "      <th>Gender</th>\n",
       "      <th></th>\n",
       "    </tr>\n",
       "  </thead>\n",
       "  <tbody>\n",
       "    <tr>\n",
       "      <th>Female</th>\n",
       "      <td>6636</td>\n",
       "    </tr>\n",
       "    <tr>\n",
       "      <th>Male</th>\n",
       "      <td>5476</td>\n",
       "    </tr>\n",
       "  </tbody>\n",
       "</table>\n",
       "</div>"
      ],
      "text/plain": [
       "        Annual Income (k$)\n",
       "Gender                    \n",
       "Female                6636\n",
       "Male                  5476"
      ]
     },
     "execution_count": 20,
     "metadata": {},
     "output_type": "execute_result"
    }
   ],
   "source": [
    "annual_income=mall_customers_df.groupby(['Gender']).agg({'Annual Income (k$)':'sum'})\n",
    "annual_income"
   ]
  },
  {
   "cell_type": "code",
   "execution_count": 21,
   "id": "41c27813",
   "metadata": {},
   "outputs": [
    {
     "data": {
      "image/png": "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\n",
      "text/plain": [
       "<Figure size 1152x720 with 1 Axes>"
      ]
     },
     "metadata": {},
     "output_type": "display_data"
    }
   ],
   "source": [
    "plt.figure(figsize=(16,10))\n",
    "ax = sns.barplot(x=annual_income.index, y=\"Annual Income (k$)\", data=annual_income)\n",
    "plt.xlabel('Gender', fontsize=15,color='red')\n",
    "plt.ylabel('Annual Income (k$)', fontsize=15,color='red')\n",
    "plt.xticks(rotation=0,color='brown',fontsize=13)\n",
    "plt.yticks(rotation=0,color='brown',fontsize=13)\n",
    "\n",
    "ax.bar_label(ax.containers[0],fontsize=15,weight=\"bold\")\n",
    "plt.show()"
   ]
  },
  {
   "cell_type": "markdown",
   "id": "0000244c",
   "metadata": {},
   "source": [
    "- **Nhận xét**: Female thu nhập nhiều hơn male. Chắc có thể do số lượng khách hàng female nhiều hơn male"
   ]
  },
  {
   "cell_type": "markdown",
   "id": "f9ffc07d",
   "metadata": {},
   "source": [
    "#### Trương Chí Toàn"
   ]
  },
  {
   "cell_type": "markdown",
   "id": "e61f52d2",
   "metadata": {},
   "source": []
  },
  {
   "cell_type": "code",
   "execution_count": null,
   "id": "935f1a58",
   "metadata": {},
   "outputs": [],
   "source": []
  },
  {
   "cell_type": "markdown",
   "id": "98c2405e",
   "metadata": {},
   "source": [
    "#### Nhận xét"
   ]
  },
  {
   "cell_type": "markdown",
   "id": "88e80ce4",
   "metadata": {},
   "source": [
    "## Clustering"
   ]
  },
  {
   "cell_type": "markdown",
   "id": "e0342f35",
   "metadata": {},
   "source": [
    "### Find suitable number of clusters"
   ]
  },
  {
   "cell_type": "code",
   "execution_count": 22,
   "id": "d913fa27",
   "metadata": {},
   "outputs": [],
   "source": [
    "import numpy as np\n",
    "import pandas as pd\n",
    "import matplotlib.pyplot as plt\n",
    "import seaborn as sns\n",
    "import os"
   ]
  },
  {
   "cell_type": "code",
   "execution_count": 86,
   "id": "600d6685",
   "metadata": {},
   "outputs": [],
   "source": [
    "from sklearn.cluster import KMeans\n",
    "from sklearn.metrics import silhouette_score\n",
    "WCSS = []\n",
    "s_score = []\n",
    "X = mall_customers_df[['Age', 'Annual Income (k$)', 'Spending Score (1-100)']]\n",
    "for k in range(2,11):\n",
    "    kmeans = KMeans(n_clusters=k, init=\"k-means++\").fit(X)\n",
    "    wcss_value = kmeans.inertia_\n",
    "    WCSS.append(wcss_value)\n",
    "    silhouette_value = silhouette_score(X, kmeans.labels_)\n",
    "    s_score.append(silhouette_value)"
   ]
  },
  {
   "cell_type": "code",
   "execution_count": 96,
   "id": "d73e3c72",
   "metadata": {},
   "outputs": [
    {
     "data": {
      "image/png": "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",
      "text/plain": [
       "<Figure size 864x432 with 1 Axes>"
      ]
     },
     "metadata": {
      "needs_background": "light"
     },
     "output_type": "display_data"
    }
   ],
   "source": [
    "fig, ax = plt.subplots(figsize=(12, 6))\n",
    "plt.grid()\n",
    "plt.plot(range(2,11),WCSS, linewidth=3, color=\"blue\")\n",
    "ax.set_title('Elbow Method')\n",
    "ax.set_xlabel('K-Clusters')\n",
    "ax.set_ylabel('WCSS')\n",
    "\n",
    "ax.annotate('Possible Elbow Point', xy=(3, 137000), xytext=(3, 60000),\n",
    "            arrowprops=dict(arrowstyle='-|>', color='red', lw=3))\n",
    "\n",
    "ax.annotate('Possible Elbow Point', xy=(5.04, 80000), xytext=(5.1, 135000),\n",
    "            arrowprops=dict(arrowstyle='-|>', color='red', lw=3))\n",
    "\n",
    "ax.annotate('Possible Elbow Point', xy=(6, 60000), xytext=(7.07, 110000),\n",
    "            arrowprops=dict(arrowstyle='-|>', color='red', lw=3))\n",
    "plt.show()"
   ]
  },
  {
   "cell_type": "code",
   "execution_count": 102,
   "id": "ae15e33f",
   "metadata": {},
   "outputs": [
    {
     "data": {
      "image/png": "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",
      "text/plain": [
       "<Figure size 864x432 with 1 Axes>"
      ]
     },
     "metadata": {
      "needs_background": "light"
     },
     "output_type": "display_data"
    }
   ],
   "source": [
    "fig, ax = plt.subplots(figsize=(12, 6))\n",
    "plt.grid()\n",
    "plt.plot(range(2,11),s_score, linewidth=3, color=\"blue\", marker =\"8\")\n",
    "plt.plot(3,s_score[1],'ro')\n",
    "plt.plot(5,s_score[3],'ro')\n",
    "plt.plot(6,s_score[4],'ro')\n",
    "ax.set_title('Average silhouette Method')\n",
    "ax.set_xlabel('K-Clusters')\n",
    "ax.set_ylabel('Silhouette')\n",
    "\n",
    "plt.show()"
   ]
  },
  {
   "cell_type": "markdown",
   "id": "61f89907",
   "metadata": {},
   "source": [
    "We choose k = 5 and k = 6 as the number of clusters. We would want to plot both of them to compare."
   ]
  },
  {
   "cell_type": "markdown",
   "id": "8f63b228",
   "metadata": {},
   "source": [
    "### k_clusters = 5"
   ]
  },
  {
   "cell_type": "code",
   "execution_count": 157,
   "id": "f82ecd01",
   "metadata": {},
   "outputs": [],
   "source": [
    "k_clusters = 5\n",
    "kmean_model = KMeans(n_clusters=k_clusters, init='k-means++').fit(X)\n",
    "kmean_clusters = X.copy()\n",
    "kmean_clusters.loc[:,'Cluster'] = kmean_model.labels_"
   ]
  },
  {
   "cell_type": "code",
   "execution_count": 158,
   "id": "e63c7243",
   "metadata": {},
   "outputs": [
    {
     "name": "stderr",
     "output_type": "stream",
     "text": [
      "C:\\Users\\HP\\AppData\\Roaming\\Python\\Python310\\site-packages\\seaborn\\_decorators.py:36: FutureWarning:\n",
      "\n",
      "Pass the following variables as keyword args: x, y. From version 0.12, the only valid positional argument will be `data`, and passing other arguments without an explicit keyword will result in an error or misinterpretation.\n",
      "\n",
      "C:\\Users\\HP\\AppData\\Roaming\\Python\\Python310\\site-packages\\seaborn\\_decorators.py:36: FutureWarning:\n",
      "\n",
      "Pass the following variables as keyword args: x, y. From version 0.12, the only valid positional argument will be `data`, and passing other arguments without an explicit keyword will result in an error or misinterpretation.\n",
      "\n"
     ]
    },
    {
     "data": {
      "image/png": "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",
      "text/plain": [
       "<Figure size 1080x360 with 2 Axes>"
      ]
     },
     "metadata": {
      "needs_background": "light"
     },
     "output_type": "display_data"
    }
   ],
   "source": [
    "fig, ax = plt.subplots(1,2,figsize=(15,5))\n",
    "\n",
    "sns.scatterplot('Annual Income (k$)', 'Spending Score (1-100)', data=kmean_clusters,\n",
    "                    hue='Cluster', palette='Set1', ax=ax[0], legend='full')\n",
    "\n",
    "sns.scatterplot('Age', 'Spending Score (1-100)', data=kmean_clusters,\n",
    "                    hue='Cluster', palette='Set1', ax=ax[1], legend='full')\n",
    "\n",
    "centroids_1 = [kmean_model.cluster_centers_[:,1],kmean_model.cluster_centers_[:,2]]\n",
    "centroids_2 = [kmean_model.cluster_centers_[:,0],kmean_model.cluster_centers_[:,2]]\n",
    "\n",
    "ax[0].scatter(centroids_1[0],centroids_1[1], marker='D', s=50, c=\"blue\")\n",
    "ax[1].scatter(centroids_2[0],centroids_2[1], marker='D', s=50, c=\"blue\")\n",
    "plt.show()"
   ]
  },
  {
   "cell_type": "markdown",
   "id": "8679708b",
   "metadata": {},
   "source": [
    "Nhận xét: \n",
    " \n",
    "Bảng 1:\n",
    "- Cluster 0 và 3 nằm trong khoảng Annual Income từ 0-40. Cluster 3 có lượng spending score từ 0-40, còn cluster 0 trong khoảng 60-100. Cả 2 cluster này đều phân bố rải rác\n",
    "- Cluster 2 thì nằm trong khoảng Annual Income từ 40-60, spending score từ 40-60, phân bố dày đặc, co cụm trong khoảng này\n",
    "- Cluster 1 và 4 nằm trong khoảng Annual Income từ 60-140. Khoảng spending score của cluster 1 và 4 giống với cluster 0 và 3, nhưng vì khoảng annual income rộng hơn nên 2 cluster này phân bố rải rác hơn 2 cluster đầu\n",
    "\n",
    "Bảng 2:\n",
    "- Cluster 0 và 4 phân bố trong khoảng từ 20-40 tuổi, nằm co cụm, xếp đè lên nhau\n",
    "- Cluster 2 thì trải dài đều và dày đặc từ 20-70 tuổi\n",
    "- Cluster 1 và 3 thì phân bố rải rác trong khoảng từ 20-70 tuổi luôn"
   ]
  },
  {
   "cell_type": "code",
   "execution_count": 140,
   "id": "2c5a90d1",
   "metadata": {},
   "outputs": [
    {
     "data": {
      "application/vnd.plotly.v1+json": {
       "config": {
        "linkText": "Export to plot.ly",
        "plotlyServerURL": "https://plot.ly",
        "showLink": false
       },
       "data": [
        {
         "marker": {
          "size": 5
         },
         "mode": "markers",
         "name": "Customer 1",
         "type": "scatter3d",
         "x": [
          19,
          20,
          31,
          35,
          64,
          67,
          58,
          37,
          35,
          52,
          35,
          46,
          54,
          45,
          40,
          60,
          53,
          49,
          42,
          36,
          65,
          48,
          49
         ],
         "y": [
          39,
          6,
          40,
          6,
          3,
          14,
          15,
          13,
          35,
          29,
          35,
          5,
          14,
          32,
          31,
          4,
          4,
          14,
          17,
          26,
          35,
          36,
          28
         ],
         "z": [
          15,
          16,
          17,
          18,
          19,
          19,
          20,
          20,
          21,
          23,
          24,
          25,
          28,
          28,
          29,
          30,
          33,
          33,
          34,
          37,
          38,
          39,
          39
         ]
        },
        {
         "marker": {
          "size": 5
         },
         "mode": "markers",
         "name": "Customer 2",
         "type": "scatter3d",
         "x": [
          39,
          31,
          40,
          38,
          39,
          31,
          29,
          32,
          35,
          32,
          32,
          28,
          32,
          34,
          39,
          38,
          27,
          30,
          30,
          29,
          31,
          36,
          33,
          32,
          28,
          36,
          30,
          27,
          35,
          32,
          29,
          30,
          28,
          36,
          32,
          38,
          35,
          32,
          30
         ],
         "y": [
          91,
          77,
          95,
          75,
          75,
          71,
          88,
          73,
          72,
          93,
          87,
          97,
          74,
          90,
          88,
          76,
          89,
          78,
          73,
          83,
          93,
          75,
          95,
          63,
          75,
          92,
          86,
          69,
          90,
          86,
          88,
          97,
          68,
          85,
          69,
          91,
          79,
          74,
          83
         ],
         "z": [
          69,
          70,
          71,
          71,
          71,
          72,
          73,
          73,
          74,
          75,
          76,
          77,
          77,
          78,
          78,
          78,
          78,
          78,
          78,
          79,
          81,
          85,
          86,
          87,
          87,
          87,
          88,
          88,
          93,
          97,
          98,
          99,
          101,
          103,
          103,
          113,
          120,
          126,
          137
         ]
        },
        {
         "marker": {
          "size": 5
         },
         "mode": "markers",
         "name": "Customer 3",
         "type": "scatter3d",
         "x": [
          50,
          27,
          29,
          31,
          49,
          33,
          31,
          59,
          50,
          47,
          51,
          69,
          27,
          53,
          70,
          19,
          67,
          54,
          63,
          18,
          43,
          68,
          19,
          32,
          70,
          47,
          60,
          60,
          59,
          26,
          45,
          40,
          23,
          49,
          57,
          38,
          67,
          46,
          21,
          48,
          55,
          22,
          34,
          50,
          68,
          18,
          48,
          40,
          32,
          24,
          47,
          27,
          48,
          20,
          23,
          49,
          67,
          26,
          49,
          21,
          66,
          54,
          68,
          66,
          65,
          19,
          38,
          19,
          18,
          19,
          63,
          49,
          51,
          50,
          27,
          38,
          40,
          43,
          28
         ],
         "y": [
          55,
          47,
          42,
          42,
          52,
          60,
          54,
          60,
          45,
          41,
          50,
          46,
          51,
          46,
          56,
          55,
          52,
          59,
          51,
          59,
          50,
          48,
          59,
          47,
          55,
          42,
          49,
          56,
          47,
          54,
          53,
          48,
          52,
          42,
          51,
          55,
          41,
          44,
          57,
          46,
          58,
          55,
          60,
          46,
          55,
          41,
          49,
          40,
          42,
          52,
          47,
          50,
          42,
          49,
          41,
          48,
          59,
          55,
          56,
          42,
          50,
          46,
          43,
          48,
          52,
          54,
          42,
          46,
          48,
          50,
          43,
          59,
          43,
          57,
          56,
          40,
          58,
          35,
          40
         ],
         "z": [
          40,
          40,
          40,
          40,
          42,
          42,
          43,
          43,
          43,
          43,
          44,
          44,
          46,
          46,
          46,
          46,
          47,
          47,
          48,
          48,
          48,
          48,
          48,
          48,
          49,
          49,
          50,
          50,
          54,
          54,
          54,
          54,
          54,
          54,
          54,
          54,
          54,
          54,
          54,
          54,
          57,
          57,
          58,
          58,
          59,
          59,
          60,
          60,
          60,
          60,
          60,
          60,
          61,
          61,
          62,
          62,
          62,
          62,
          62,
          62,
          63,
          63,
          63,
          63,
          63,
          63,
          64,
          64,
          65,
          65,
          65,
          65,
          67,
          67,
          67,
          67,
          69,
          71,
          76
         ]
        },
        {
         "marker": {
          "size": 5
         },
         "mode": "markers",
         "name": "Customer 4",
         "type": "scatter3d",
         "x": [
          23,
          59,
          47,
          25,
          20,
          44,
          19,
          57,
          25,
          48,
          34,
          43,
          44,
          47,
          37,
          34,
          56,
          19,
          50,
          42,
          36,
          40,
          36,
          52,
          58,
          59,
          37,
          46,
          41,
          54,
          41,
          34,
          33,
          47,
          45,
          32
         ],
         "y": [
          29,
          11,
          9,
          34,
          5,
          7,
          10,
          5,
          12,
          36,
          22,
          17,
          20,
          16,
          1,
          1,
          35,
          5,
          26,
          20,
          27,
          13,
          10,
          13,
          15,
          14,
          32,
          15,
          39,
          24,
          17,
          23,
          8,
          16,
          28,
          18
         ],
         "z": [
          70,
          71,
          71,
          72,
          73,
          73,
          74,
          75,
          77,
          77,
          78,
          78,
          78,
          78,
          78,
          78,
          79,
          81,
          85,
          86,
          87,
          87,
          87,
          88,
          88,
          93,
          97,
          98,
          99,
          101,
          103,
          103,
          113,
          120,
          126,
          137
         ]
        },
        {
         "marker": {
          "size": 5
         },
         "mode": "markers",
         "name": "Customer 5",
         "type": "scatter3d",
         "x": [
          21,
          23,
          22,
          23,
          30,
          35,
          24,
          22,
          20,
          35,
          25,
          31,
          29,
          35,
          23,
          21,
          18,
          21,
          30,
          20,
          24,
          31,
          24
         ],
         "y": [
          81,
          77,
          76,
          94,
          72,
          99,
          77,
          79,
          66,
          98,
          73,
          73,
          82,
          61,
          87,
          73,
          92,
          81,
          73,
          75,
          92,
          61,
          65
         ],
         "z": [
          15,
          16,
          17,
          18,
          19,
          19,
          20,
          20,
          21,
          23,
          24,
          25,
          28,
          28,
          29,
          30,
          33,
          33,
          34,
          37,
          38,
          39,
          39
         ]
        }
       ],
       "layout": {
        "height": 800,
        "scene": {
         "xaxis": {
          "title": {
           "text": "Age"
          }
         },
         "yaxis": {
          "title": {
           "text": "Spending Score"
          }
         },
         "zaxis": {
          "title": {
           "text": "Annual Income"
          }
         }
        },
        "template": {
         "data": {
          "bar": [
           {
            "error_x": {
             "color": "#2a3f5f"
            },
            "error_y": {
             "color": "#2a3f5f"
            },
            "marker": {
             "line": {
              "color": "#E5ECF6",
              "width": 0.5
             },
             "pattern": {
              "fillmode": "overlay",
              "size": 10,
              "solidity": 0.2
             }
            },
            "type": "bar"
           }
          ],
          "barpolar": [
           {
            "marker": {
             "line": {
              "color": "#E5ECF6",
              "width": 0.5
             },
             "pattern": {
              "fillmode": "overlay",
              "size": 10,
              "solidity": 0.2
             }
            },
            "type": "barpolar"
           }
          ],
          "carpet": [
           {
            "aaxis": {
             "endlinecolor": "#2a3f5f",
             "gridcolor": "white",
             "linecolor": "white",
             "minorgridcolor": "white",
             "startlinecolor": "#2a3f5f"
            },
            "baxis": {
             "endlinecolor": "#2a3f5f",
             "gridcolor": "white",
             "linecolor": "white",
             "minorgridcolor": "white",
             "startlinecolor": "#2a3f5f"
            },
            "type": "carpet"
           }
          ],
          "choropleth": [
           {
            "colorbar": {
             "outlinewidth": 0,
             "ticks": ""
            },
            "type": "choropleth"
           }
          ],
          "contour": [
           {
            "colorbar": {
             "outlinewidth": 0,
             "ticks": ""
            },
            "colorscale": [
             [
              0,
              "#0d0887"
             ],
             [
              0.1111111111111111,
              "#46039f"
             ],
             [
              0.2222222222222222,
              "#7201a8"
             ],
             [
              0.3333333333333333,
              "#9c179e"
             ],
             [
              0.4444444444444444,
              "#bd3786"
             ],
             [
              0.5555555555555556,
              "#d8576b"
             ],
             [
              0.6666666666666666,
              "#ed7953"
             ],
             [
              0.7777777777777778,
              "#fb9f3a"
             ],
             [
              0.8888888888888888,
              "#fdca26"
             ],
             [
              1,
              "#f0f921"
             ]
            ],
            "type": "contour"
           }
          ],
          "contourcarpet": [
           {
            "colorbar": {
             "outlinewidth": 0,
             "ticks": ""
            },
            "type": "contourcarpet"
           }
          ],
          "heatmap": [
           {
            "colorbar": {
             "outlinewidth": 0,
             "ticks": ""
            },
            "colorscale": [
             [
              0,
              "#0d0887"
             ],
             [
              0.1111111111111111,
              "#46039f"
             ],
             [
              0.2222222222222222,
              "#7201a8"
             ],
             [
              0.3333333333333333,
              "#9c179e"
             ],
             [
              0.4444444444444444,
              "#bd3786"
             ],
             [
              0.5555555555555556,
              "#d8576b"
             ],
             [
              0.6666666666666666,
              "#ed7953"
             ],
             [
              0.7777777777777778,
              "#fb9f3a"
             ],
             [
              0.8888888888888888,
              "#fdca26"
             ],
             [
              1,
              "#f0f921"
             ]
            ],
            "type": "heatmap"
           }
          ],
          "heatmapgl": [
           {
            "colorbar": {
             "outlinewidth": 0,
             "ticks": ""
            },
            "colorscale": [
             [
              0,
              "#0d0887"
             ],
             [
              0.1111111111111111,
              "#46039f"
             ],
             [
              0.2222222222222222,
              "#7201a8"
             ],
             [
              0.3333333333333333,
              "#9c179e"
             ],
             [
              0.4444444444444444,
              "#bd3786"
             ],
             [
              0.5555555555555556,
              "#d8576b"
             ],
             [
              0.6666666666666666,
              "#ed7953"
             ],
             [
              0.7777777777777778,
              "#fb9f3a"
             ],
             [
              0.8888888888888888,
              "#fdca26"
             ],
             [
              1,
              "#f0f921"
             ]
            ],
            "type": "heatmapgl"
           }
          ],
          "histogram": [
           {
            "marker": {
             "pattern": {
              "fillmode": "overlay",
              "size": 10,
              "solidity": 0.2
             }
            },
            "type": "histogram"
           }
          ],
          "histogram2d": [
           {
            "colorbar": {
             "outlinewidth": 0,
             "ticks": ""
            },
            "colorscale": [
             [
              0,
              "#0d0887"
             ],
             [
              0.1111111111111111,
              "#46039f"
             ],
             [
              0.2222222222222222,
              "#7201a8"
             ],
             [
              0.3333333333333333,
              "#9c179e"
             ],
             [
              0.4444444444444444,
              "#bd3786"
             ],
             [
              0.5555555555555556,
              "#d8576b"
             ],
             [
              0.6666666666666666,
              "#ed7953"
             ],
             [
              0.7777777777777778,
              "#fb9f3a"
             ],
             [
              0.8888888888888888,
              "#fdca26"
             ],
             [
              1,
              "#f0f921"
             ]
            ],
            "type": "histogram2d"
           }
          ],
          "histogram2dcontour": [
           {
            "colorbar": {
             "outlinewidth": 0,
             "ticks": ""
            },
            "colorscale": [
             [
              0,
              "#0d0887"
             ],
             [
              0.1111111111111111,
              "#46039f"
             ],
             [
              0.2222222222222222,
              "#7201a8"
             ],
             [
              0.3333333333333333,
              "#9c179e"
             ],
             [
              0.4444444444444444,
              "#bd3786"
             ],
             [
              0.5555555555555556,
              "#d8576b"
             ],
             [
              0.6666666666666666,
              "#ed7953"
             ],
             [
              0.7777777777777778,
              "#fb9f3a"
             ],
             [
              0.8888888888888888,
              "#fdca26"
             ],
             [
              1,
              "#f0f921"
             ]
            ],
            "type": "histogram2dcontour"
           }
          ],
          "mesh3d": [
           {
            "colorbar": {
             "outlinewidth": 0,
             "ticks": ""
            },
            "type": "mesh3d"
           }
          ],
          "parcoords": [
           {
            "line": {
             "colorbar": {
              "outlinewidth": 0,
              "ticks": ""
             }
            },
            "type": "parcoords"
           }
          ],
          "pie": [
           {
            "automargin": true,
            "type": "pie"
           }
          ],
          "scatter": [
           {
            "marker": {
             "colorbar": {
              "outlinewidth": 0,
              "ticks": ""
             }
            },
            "type": "scatter"
           }
          ],
          "scatter3d": [
           {
            "line": {
             "colorbar": {
              "outlinewidth": 0,
              "ticks": ""
             }
            },
            "marker": {
             "colorbar": {
              "outlinewidth": 0,
              "ticks": ""
             }
            },
            "type": "scatter3d"
           }
          ],
          "scattercarpet": [
           {
            "marker": {
             "colorbar": {
              "outlinewidth": 0,
              "ticks": ""
             }
            },
            "type": "scattercarpet"
           }
          ],
          "scattergeo": [
           {
            "marker": {
             "colorbar": {
              "outlinewidth": 0,
              "ticks": ""
             }
            },
            "type": "scattergeo"
           }
          ],
          "scattergl": [
           {
            "marker": {
             "colorbar": {
              "outlinewidth": 0,
              "ticks": ""
             }
            },
            "type": "scattergl"
           }
          ],
          "scattermapbox": [
           {
            "marker": {
             "colorbar": {
              "outlinewidth": 0,
              "ticks": ""
             }
            },
            "type": "scattermapbox"
           }
          ],
          "scatterpolar": [
           {
            "marker": {
             "colorbar": {
              "outlinewidth": 0,
              "ticks": ""
             }
            },
            "type": "scatterpolar"
           }
          ],
          "scatterpolargl": [
           {
            "marker": {
             "colorbar": {
              "outlinewidth": 0,
              "ticks": ""
             }
            },
            "type": "scatterpolargl"
           }
          ],
          "scatterternary": [
           {
            "marker": {
             "colorbar": {
              "outlinewidth": 0,
              "ticks": ""
             }
            },
            "type": "scatterternary"
           }
          ],
          "surface": [
           {
            "colorbar": {
             "outlinewidth": 0,
             "ticks": ""
            },
            "colorscale": [
             [
              0,
              "#0d0887"
             ],
             [
              0.1111111111111111,
              "#46039f"
             ],
             [
              0.2222222222222222,
              "#7201a8"
             ],
             [
              0.3333333333333333,
              "#9c179e"
             ],
             [
              0.4444444444444444,
              "#bd3786"
             ],
             [
              0.5555555555555556,
              "#d8576b"
             ],
             [
              0.6666666666666666,
              "#ed7953"
             ],
             [
              0.7777777777777778,
              "#fb9f3a"
             ],
             [
              0.8888888888888888,
              "#fdca26"
             ],
             [
              1,
              "#f0f921"
             ]
            ],
            "type": "surface"
           }
          ],
          "table": [
           {
            "cells": {
             "fill": {
              "color": "#EBF0F8"
             },
             "line": {
              "color": "white"
             }
            },
            "header": {
             "fill": {
              "color": "#C8D4E3"
             },
             "line": {
              "color": "white"
             }
            },
            "type": "table"
           }
          ]
         },
         "layout": {
          "annotationdefaults": {
           "arrowcolor": "#2a3f5f",
           "arrowhead": 0,
           "arrowwidth": 1
          },
          "autotypenumbers": "strict",
          "coloraxis": {
           "colorbar": {
            "outlinewidth": 0,
            "ticks": ""
           }
          },
          "colorscale": {
           "diverging": [
            [
             0,
             "#8e0152"
            ],
            [
             0.1,
             "#c51b7d"
            ],
            [
             0.2,
             "#de77ae"
            ],
            [
             0.3,
             "#f1b6da"
            ],
            [
             0.4,
             "#fde0ef"
            ],
            [
             0.5,
             "#f7f7f7"
            ],
            [
             0.6,
             "#e6f5d0"
            ],
            [
             0.7,
             "#b8e186"
            ],
            [
             0.8,
             "#7fbc41"
            ],
            [
             0.9,
             "#4d9221"
            ],
            [
             1,
             "#276419"
            ]
           ],
           "sequential": [
            [
             0,
             "#0d0887"
            ],
            [
             0.1111111111111111,
             "#46039f"
            ],
            [
             0.2222222222222222,
             "#7201a8"
            ],
            [
             0.3333333333333333,
             "#9c179e"
            ],
            [
             0.4444444444444444,
             "#bd3786"
            ],
            [
             0.5555555555555556,
             "#d8576b"
            ],
            [
             0.6666666666666666,
             "#ed7953"
            ],
            [
             0.7777777777777778,
             "#fb9f3a"
            ],
            [
             0.8888888888888888,
             "#fdca26"
            ],
            [
             1,
             "#f0f921"
            ]
           ],
           "sequentialminus": [
            [
             0,
             "#0d0887"
            ],
            [
             0.1111111111111111,
             "#46039f"
            ],
            [
             0.2222222222222222,
             "#7201a8"
            ],
            [
             0.3333333333333333,
             "#9c179e"
            ],
            [
             0.4444444444444444,
             "#bd3786"
            ],
            [
             0.5555555555555556,
             "#d8576b"
            ],
            [
             0.6666666666666666,
             "#ed7953"
            ],
            [
             0.7777777777777778,
             "#fb9f3a"
            ],
            [
             0.8888888888888888,
             "#fdca26"
            ],
            [
             1,
             "#f0f921"
            ]
           ]
          },
          "colorway": [
           "#636efa",
           "#EF553B",
           "#00cc96",
           "#ab63fa",
           "#FFA15A",
           "#19d3f3",
           "#FF6692",
           "#B6E880",
           "#FF97FF",
           "#FECB52"
          ],
          "font": {
           "color": "#2a3f5f"
          },
          "geo": {
           "bgcolor": "white",
           "lakecolor": "white",
           "landcolor": "#E5ECF6",
           "showlakes": true,
           "showland": true,
           "subunitcolor": "white"
          },
          "hoverlabel": {
           "align": "left"
          },
          "hovermode": "closest",
          "mapbox": {
           "style": "light"
          },
          "paper_bgcolor": "white",
          "plot_bgcolor": "#E5ECF6",
          "polar": {
           "angularaxis": {
            "gridcolor": "white",
            "linecolor": "white",
            "ticks": ""
           },
           "bgcolor": "#E5ECF6",
           "radialaxis": {
            "gridcolor": "white",
            "linecolor": "white",
            "ticks": ""
           }
          },
          "scene": {
           "xaxis": {
            "backgroundcolor": "#E5ECF6",
            "gridcolor": "white",
            "gridwidth": 2,
            "linecolor": "white",
            "showbackground": true,
            "ticks": "",
            "zerolinecolor": "white"
           },
           "yaxis": {
            "backgroundcolor": "#E5ECF6",
            "gridcolor": "white",
            "gridwidth": 2,
            "linecolor": "white",
            "showbackground": true,
            "ticks": "",
            "zerolinecolor": "white"
           },
           "zaxis": {
            "backgroundcolor": "#E5ECF6",
            "gridcolor": "white",
            "gridwidth": 2,
            "linecolor": "white",
            "showbackground": true,
            "ticks": "",
            "zerolinecolor": "white"
           }
          },
          "shapedefaults": {
           "line": {
            "color": "#2a3f5f"
           }
          },
          "ternary": {
           "aaxis": {
            "gridcolor": "white",
            "linecolor": "white",
            "ticks": ""
           },
           "baxis": {
            "gridcolor": "white",
            "linecolor": "white",
            "ticks": ""
           },
           "bgcolor": "#E5ECF6",
           "caxis": {
            "gridcolor": "white",
            "linecolor": "white",
            "ticks": ""
           }
          },
          "title": {
           "x": 0.05
          },
          "xaxis": {
           "automargin": true,
           "gridcolor": "white",
           "linecolor": "white",
           "ticks": "",
           "title": {
            "standoff": 15
           },
           "zerolinecolor": "white",
           "zerolinewidth": 2
          },
          "yaxis": {
           "automargin": true,
           "gridcolor": "white",
           "linecolor": "white",
           "ticks": "",
           "title": {
            "standoff": 15
           },
           "zerolinecolor": "white",
           "zerolinewidth": 2
          }
         }
        },
        "title": {
         "text": "Clusters by K-Means"
        },
        "width": 1000
       }
      }
     },
     "metadata": {},
     "output_type": "display_data"
    }
   ],
   "source": [
    "import plotly as py\n",
    "import plotly.graph_objs as go\n",
    "\n",
    "def plot_cluster(cluster, n, name):\n",
    "    return go.Scatter3d(\n",
    "        x = cluster[cluster['Cluster']==n]['Age'],\n",
    "        y = cluster[cluster['Cluster']==n]['Spending Score (1-100)'],\n",
    "        z = cluster[cluster['Cluster']==n]['Annual Income (k$)'],\n",
    "        mode = 'markers',\n",
    "        name = name,\n",
    "        marker = dict(size = k_clusters)\n",
    "    )\n",
    "\n",
    "data = []\n",
    "for i in range(0,k_clusters):\n",
    "    cluster_name = 'Customer ' + str(i + 1)\n",
    "    cluster = plot_cluster(kmean_clusters, i, cluster_name)\n",
    "    data.append(cluster)\n",
    "\n",
    "layout = go.Layout(\n",
    "    title = 'Clusters by K-Means',\n",
    "    height=800,\n",
    "    width = 1000,\n",
    "    scene = dict(\n",
    "        xaxis = dict(title = 'Age'),\n",
    "        yaxis = dict(title = 'Spending Score'),\n",
    "        zaxis = dict(title = 'Annual Income')\n",
    "        )\n",
    ")\n",
    "\n",
    "fig = go.Figure(data=data, layout=layout)\n",
    "py.offline.iplot(fig)"
   ]
  },
  {
   "cell_type": "markdown",
   "id": "0c6cea80",
   "metadata": {},
   "source": [
    "### k_clusters = 6"
   ]
  },
  {
   "cell_type": "code",
   "execution_count": 170,
   "id": "5a5de93a",
   "metadata": {},
   "outputs": [],
   "source": [
    "k_clusters = 6\n",
    "kmean_model = KMeans(n_clusters=k_clusters, init='k-means++').fit(X)\n",
    "kmean_clusters = X.copy()\n",
    "kmean_clusters.loc[:,'Cluster'] = kmean_model.labels_"
   ]
  },
  {
   "cell_type": "code",
   "execution_count": 171,
   "id": "d9081082",
   "metadata": {},
   "outputs": [
    {
     "name": "stderr",
     "output_type": "stream",
     "text": [
      "C:\\Users\\HP\\AppData\\Roaming\\Python\\Python310\\site-packages\\seaborn\\_decorators.py:36: FutureWarning:\n",
      "\n",
      "Pass the following variables as keyword args: x, y. From version 0.12, the only valid positional argument will be `data`, and passing other arguments without an explicit keyword will result in an error or misinterpretation.\n",
      "\n",
      "C:\\Users\\HP\\AppData\\Roaming\\Python\\Python310\\site-packages\\seaborn\\_decorators.py:36: FutureWarning:\n",
      "\n",
      "Pass the following variables as keyword args: x, y. From version 0.12, the only valid positional argument will be `data`, and passing other arguments without an explicit keyword will result in an error or misinterpretation.\n",
      "\n"
     ]
    },
    {
     "data": {
      "image/png": "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",
      "text/plain": [
       "<Figure size 1080x360 with 2 Axes>"
      ]
     },
     "metadata": {
      "needs_background": "light"
     },
     "output_type": "display_data"
    }
   ],
   "source": [
    "fig, ax = plt.subplots(1,2,figsize=(15,5))\n",
    "\n",
    "sns.scatterplot('Annual Income (k$)', 'Spending Score (1-100)', data=kmean_clusters,\n",
    "                    hue='Cluster', palette='Set1', ax=ax[0], legend='full')\n",
    "\n",
    "sns.scatterplot('Age', 'Spending Score (1-100)', data=kmean_clusters,\n",
    "                    hue='Cluster', palette='Set1', ax=ax[1], legend='full')\n",
    "\n",
    "centroids_1 = [kmean_model.cluster_centers_[:,1],kmean_model.cluster_centers_[:,2]]\n",
    "centroids_2 = [kmean_model.cluster_centers_[:,0],kmean_model.cluster_centers_[:,2]]\n",
    "\n",
    "ax[0].scatter(centroids_1[0],centroids_1[1], marker='D', s=50, c=\"blue\")\n",
    "ax[1].scatter(centroids_2[0],centroids_2[1], marker='D', s=50, c=\"blue\")\n",
    "plt.show()"
   ]
  },
  {
   "cell_type": "markdown",
   "id": "20e95eff",
   "metadata": {},
   "source": [
    "Nhận xét: \n",
    "- Khi đặt K=6 thì biểu đồ không khác gì mấy so với K=5, thay đổi ở đây là cụm ở giữa dày đặc và phân bố nhiều nhất được tách ra thành 2 cụm"
   ]
  },
  {
   "cell_type": "code",
   "execution_count": 126,
   "id": "87e9a33a",
   "metadata": {},
   "outputs": [
    {
     "data": {
      "application/vnd.plotly.v1+json": {
       "config": {
        "linkText": "Export to plot.ly",
        "plotlyServerURL": "https://plot.ly",
        "showLink": false
       },
       "data": [
        {
         "marker": {
          "size": 6
         },
         "mode": "markers",
         "name": "Customer 1",
         "type": "scatter3d",
         "x": [
          31,
          27,
          29,
          31,
          33,
          31,
          27,
          19,
          18,
          19,
          32,
          26,
          40,
          23,
          38,
          21,
          22,
          34,
          18,
          40,
          32,
          24,
          27,
          20,
          23,
          26,
          21,
          19,
          38,
          19,
          18,
          19,
          27,
          38,
          40,
          23,
          25,
          28
         ],
         "y": [
          61,
          47,
          42,
          42,
          60,
          54,
          51,
          55,
          59,
          59,
          47,
          54,
          48,
          52,
          55,
          57,
          55,
          60,
          41,
          40,
          42,
          52,
          50,
          49,
          41,
          55,
          42,
          54,
          42,
          46,
          48,
          50,
          56,
          40,
          58,
          29,
          34,
          40
         ],
         "z": [
          39,
          40,
          40,
          40,
          42,
          43,
          46,
          46,
          48,
          48,
          48,
          54,
          54,
          54,
          54,
          54,
          57,
          58,
          59,
          60,
          60,
          60,
          60,
          61,
          62,
          62,
          62,
          63,
          64,
          64,
          65,
          65,
          67,
          67,
          69,
          70,
          72,
          76
         ]
        },
        {
         "marker": {
          "size": 6
         },
         "mode": "markers",
         "name": "Customer 2",
         "type": "scatter3d",
         "x": [
          65,
          48,
          50,
          49,
          59,
          50,
          47,
          51,
          69,
          53,
          70,
          67,
          54,
          63,
          43,
          68,
          70,
          47,
          60,
          60,
          59,
          45,
          49,
          57,
          67,
          46,
          48,
          55,
          50,
          68,
          48,
          47,
          48,
          49,
          67,
          49,
          66,
          54,
          68,
          66,
          65,
          63,
          49,
          51,
          50
         ],
         "y": [
          35,
          36,
          55,
          52,
          60,
          45,
          41,
          50,
          46,
          46,
          56,
          52,
          59,
          51,
          50,
          48,
          55,
          42,
          49,
          56,
          47,
          53,
          42,
          51,
          41,
          44,
          46,
          58,
          46,
          55,
          49,
          47,
          42,
          48,
          59,
          56,
          50,
          46,
          43,
          48,
          52,
          43,
          59,
          43,
          57
         ],
         "z": [
          38,
          39,
          40,
          42,
          43,
          43,
          43,
          44,
          44,
          46,
          46,
          47,
          47,
          48,
          48,
          48,
          49,
          49,
          50,
          50,
          54,
          54,
          54,
          54,
          54,
          54,
          54,
          57,
          58,
          59,
          60,
          60,
          61,
          62,
          62,
          62,
          63,
          63,
          63,
          63,
          63,
          65,
          65,
          67,
          67
         ]
        },
        {
         "marker": {
          "size": 6
         },
         "mode": "markers",
         "name": "Customer 3",
         "type": "scatter3d",
         "x": [
          43,
          59,
          47,
          20,
          44,
          19,
          57,
          25,
          48,
          34,
          43,
          44,
          47,
          37,
          34,
          56,
          19,
          50,
          42,
          36,
          40,
          36,
          52,
          58,
          59,
          37,
          46,
          41,
          54,
          41,
          34,
          33,
          47,
          45,
          32
         ],
         "y": [
          35,
          11,
          9,
          5,
          7,
          10,
          5,
          12,
          36,
          22,
          17,
          20,
          16,
          1,
          1,
          35,
          5,
          26,
          20,
          27,
          13,
          10,
          13,
          15,
          14,
          32,
          15,
          39,
          24,
          17,
          23,
          8,
          16,
          28,
          18
         ],
         "z": [
          71,
          71,
          71,
          73,
          73,
          74,
          75,
          77,
          77,
          78,
          78,
          78,
          78,
          78,
          78,
          79,
          81,
          85,
          86,
          87,
          87,
          87,
          88,
          88,
          93,
          97,
          98,
          99,
          101,
          103,
          103,
          113,
          120,
          126,
          137
         ]
        },
        {
         "marker": {
          "size": 6
         },
         "mode": "markers",
         "name": "Customer 4",
         "type": "scatter3d",
         "x": [
          39,
          31,
          40,
          38,
          39,
          31,
          29,
          32,
          35,
          32,
          32,
          28,
          32,
          34,
          39,
          38,
          27,
          30,
          30,
          29,
          31,
          36,
          33,
          32,
          28,
          36,
          30,
          27,
          35,
          32,
          29,
          30,
          28,
          36,
          32,
          38,
          35,
          32,
          30
         ],
         "y": [
          91,
          77,
          95,
          75,
          75,
          71,
          88,
          73,
          72,
          93,
          87,
          97,
          74,
          90,
          88,
          76,
          89,
          78,
          73,
          83,
          93,
          75,
          95,
          63,
          75,
          92,
          86,
          69,
          90,
          86,
          88,
          97,
          68,
          85,
          69,
          91,
          79,
          74,
          83
         ],
         "z": [
          69,
          70,
          71,
          71,
          71,
          72,
          73,
          73,
          74,
          75,
          76,
          77,
          77,
          78,
          78,
          78,
          78,
          78,
          78,
          79,
          81,
          85,
          86,
          87,
          87,
          87,
          88,
          88,
          93,
          97,
          98,
          99,
          101,
          103,
          103,
          113,
          120,
          126,
          137
         ]
        },
        {
         "marker": {
          "size": 6
         },
         "mode": "markers",
         "name": "Customer 5",
         "type": "scatter3d",
         "x": [
          21,
          23,
          22,
          23,
          30,
          35,
          24,
          22,
          20,
          35,
          25,
          31,
          29,
          35,
          23,
          21,
          18,
          21,
          30,
          20,
          24,
          24
         ],
         "y": [
          81,
          77,
          76,
          94,
          72,
          99,
          77,
          79,
          66,
          98,
          73,
          73,
          82,
          61,
          87,
          73,
          92,
          81,
          73,
          75,
          92,
          65
         ],
         "z": [
          15,
          16,
          17,
          18,
          19,
          19,
          20,
          20,
          21,
          23,
          24,
          25,
          28,
          28,
          29,
          30,
          33,
          33,
          34,
          37,
          38,
          39
         ]
        },
        {
         "marker": {
          "size": 6
         },
         "mode": "markers",
         "name": "Customer 6",
         "type": "scatter3d",
         "x": [
          19,
          20,
          31,
          35,
          64,
          67,
          58,
          37,
          35,
          52,
          35,
          46,
          54,
          45,
          40,
          60,
          53,
          49,
          42,
          36,
          49
         ],
         "y": [
          39,
          6,
          40,
          6,
          3,
          14,
          15,
          13,
          35,
          29,
          35,
          5,
          14,
          32,
          31,
          4,
          4,
          14,
          17,
          26,
          28
         ],
         "z": [
          15,
          16,
          17,
          18,
          19,
          19,
          20,
          20,
          21,
          23,
          24,
          25,
          28,
          28,
          29,
          30,
          33,
          33,
          34,
          37,
          39
         ]
        }
       ],
       "layout": {
        "height": 800,
        "scene": {
         "xaxis": {
          "title": {
           "text": "Age"
          }
         },
         "yaxis": {
          "title": {
           "text": "Spending Score"
          }
         },
         "zaxis": {
          "title": {
           "text": "Annual Income"
          }
         }
        },
        "template": {
         "data": {
          "bar": [
           {
            "error_x": {
             "color": "#2a3f5f"
            },
            "error_y": {
             "color": "#2a3f5f"
            },
            "marker": {
             "line": {
              "color": "#E5ECF6",
              "width": 0.5
             },
             "pattern": {
              "fillmode": "overlay",
              "size": 10,
              "solidity": 0.2
             }
            },
            "type": "bar"
           }
          ],
          "barpolar": [
           {
            "marker": {
             "line": {
              "color": "#E5ECF6",
              "width": 0.5
             },
             "pattern": {
              "fillmode": "overlay",
              "size": 10,
              "solidity": 0.2
             }
            },
            "type": "barpolar"
           }
          ],
          "carpet": [
           {
            "aaxis": {
             "endlinecolor": "#2a3f5f",
             "gridcolor": "white",
             "linecolor": "white",
             "minorgridcolor": "white",
             "startlinecolor": "#2a3f5f"
            },
            "baxis": {
             "endlinecolor": "#2a3f5f",
             "gridcolor": "white",
             "linecolor": "white",
             "minorgridcolor": "white",
             "startlinecolor": "#2a3f5f"
            },
            "type": "carpet"
           }
          ],
          "choropleth": [
           {
            "colorbar": {
             "outlinewidth": 0,
             "ticks": ""
            },
            "type": "choropleth"
           }
          ],
          "contour": [
           {
            "colorbar": {
             "outlinewidth": 0,
             "ticks": ""
            },
            "colorscale": [
             [
              0,
              "#0d0887"
             ],
             [
              0.1111111111111111,
              "#46039f"
             ],
             [
              0.2222222222222222,
              "#7201a8"
             ],
             [
              0.3333333333333333,
              "#9c179e"
             ],
             [
              0.4444444444444444,
              "#bd3786"
             ],
             [
              0.5555555555555556,
              "#d8576b"
             ],
             [
              0.6666666666666666,
              "#ed7953"
             ],
             [
              0.7777777777777778,
              "#fb9f3a"
             ],
             [
              0.8888888888888888,
              "#fdca26"
             ],
             [
              1,
              "#f0f921"
             ]
            ],
            "type": "contour"
           }
          ],
          "contourcarpet": [
           {
            "colorbar": {
             "outlinewidth": 0,
             "ticks": ""
            },
            "type": "contourcarpet"
           }
          ],
          "heatmap": [
           {
            "colorbar": {
             "outlinewidth": 0,
             "ticks": ""
            },
            "colorscale": [
             [
              0,
              "#0d0887"
             ],
             [
              0.1111111111111111,
              "#46039f"
             ],
             [
              0.2222222222222222,
              "#7201a8"
             ],
             [
              0.3333333333333333,
              "#9c179e"
             ],
             [
              0.4444444444444444,
              "#bd3786"
             ],
             [
              0.5555555555555556,
              "#d8576b"
             ],
             [
              0.6666666666666666,
              "#ed7953"
             ],
             [
              0.7777777777777778,
              "#fb9f3a"
             ],
             [
              0.8888888888888888,
              "#fdca26"
             ],
             [
              1,
              "#f0f921"
             ]
            ],
            "type": "heatmap"
           }
          ],
          "heatmapgl": [
           {
            "colorbar": {
             "outlinewidth": 0,
             "ticks": ""
            },
            "colorscale": [
             [
              0,
              "#0d0887"
             ],
             [
              0.1111111111111111,
              "#46039f"
             ],
             [
              0.2222222222222222,
              "#7201a8"
             ],
             [
              0.3333333333333333,
              "#9c179e"
             ],
             [
              0.4444444444444444,
              "#bd3786"
             ],
             [
              0.5555555555555556,
              "#d8576b"
             ],
             [
              0.6666666666666666,
              "#ed7953"
             ],
             [
              0.7777777777777778,
              "#fb9f3a"
             ],
             [
              0.8888888888888888,
              "#fdca26"
             ],
             [
              1,
              "#f0f921"
             ]
            ],
            "type": "heatmapgl"
           }
          ],
          "histogram": [
           {
            "marker": {
             "pattern": {
              "fillmode": "overlay",
              "size": 10,
              "solidity": 0.2
             }
            },
            "type": "histogram"
           }
          ],
          "histogram2d": [
           {
            "colorbar": {
             "outlinewidth": 0,
             "ticks": ""
            },
            "colorscale": [
             [
              0,
              "#0d0887"
             ],
             [
              0.1111111111111111,
              "#46039f"
             ],
             [
              0.2222222222222222,
              "#7201a8"
             ],
             [
              0.3333333333333333,
              "#9c179e"
             ],
             [
              0.4444444444444444,
              "#bd3786"
             ],
             [
              0.5555555555555556,
              "#d8576b"
             ],
             [
              0.6666666666666666,
              "#ed7953"
             ],
             [
              0.7777777777777778,
              "#fb9f3a"
             ],
             [
              0.8888888888888888,
              "#fdca26"
             ],
             [
              1,
              "#f0f921"
             ]
            ],
            "type": "histogram2d"
           }
          ],
          "histogram2dcontour": [
           {
            "colorbar": {
             "outlinewidth": 0,
             "ticks": ""
            },
            "colorscale": [
             [
              0,
              "#0d0887"
             ],
             [
              0.1111111111111111,
              "#46039f"
             ],
             [
              0.2222222222222222,
              "#7201a8"
             ],
             [
              0.3333333333333333,
              "#9c179e"
             ],
             [
              0.4444444444444444,
              "#bd3786"
             ],
             [
              0.5555555555555556,
              "#d8576b"
             ],
             [
              0.6666666666666666,
              "#ed7953"
             ],
             [
              0.7777777777777778,
              "#fb9f3a"
             ],
             [
              0.8888888888888888,
              "#fdca26"
             ],
             [
              1,
              "#f0f921"
             ]
            ],
            "type": "histogram2dcontour"
           }
          ],
          "mesh3d": [
           {
            "colorbar": {
             "outlinewidth": 0,
             "ticks": ""
            },
            "type": "mesh3d"
           }
          ],
          "parcoords": [
           {
            "line": {
             "colorbar": {
              "outlinewidth": 0,
              "ticks": ""
             }
            },
            "type": "parcoords"
           }
          ],
          "pie": [
           {
            "automargin": true,
            "type": "pie"
           }
          ],
          "scatter": [
           {
            "marker": {
             "colorbar": {
              "outlinewidth": 0,
              "ticks": ""
             }
            },
            "type": "scatter"
           }
          ],
          "scatter3d": [
           {
            "line": {
             "colorbar": {
              "outlinewidth": 0,
              "ticks": ""
             }
            },
            "marker": {
             "colorbar": {
              "outlinewidth": 0,
              "ticks": ""
             }
            },
            "type": "scatter3d"
           }
          ],
          "scattercarpet": [
           {
            "marker": {
             "colorbar": {
              "outlinewidth": 0,
              "ticks": ""
             }
            },
            "type": "scattercarpet"
           }
          ],
          "scattergeo": [
           {
            "marker": {
             "colorbar": {
              "outlinewidth": 0,
              "ticks": ""
             }
            },
            "type": "scattergeo"
           }
          ],
          "scattergl": [
           {
            "marker": {
             "colorbar": {
              "outlinewidth": 0,
              "ticks": ""
             }
            },
            "type": "scattergl"
           }
          ],
          "scattermapbox": [
           {
            "marker": {
             "colorbar": {
              "outlinewidth": 0,
              "ticks": ""
             }
            },
            "type": "scattermapbox"
           }
          ],
          "scatterpolar": [
           {
            "marker": {
             "colorbar": {
              "outlinewidth": 0,
              "ticks": ""
             }
            },
            "type": "scatterpolar"
           }
          ],
          "scatterpolargl": [
           {
            "marker": {
             "colorbar": {
              "outlinewidth": 0,
              "ticks": ""
             }
            },
            "type": "scatterpolargl"
           }
          ],
          "scatterternary": [
           {
            "marker": {
             "colorbar": {
              "outlinewidth": 0,
              "ticks": ""
             }
            },
            "type": "scatterternary"
           }
          ],
          "surface": [
           {
            "colorbar": {
             "outlinewidth": 0,
             "ticks": ""
            },
            "colorscale": [
             [
              0,
              "#0d0887"
             ],
             [
              0.1111111111111111,
              "#46039f"
             ],
             [
              0.2222222222222222,
              "#7201a8"
             ],
             [
              0.3333333333333333,
              "#9c179e"
             ],
             [
              0.4444444444444444,
              "#bd3786"
             ],
             [
              0.5555555555555556,
              "#d8576b"
             ],
             [
              0.6666666666666666,
              "#ed7953"
             ],
             [
              0.7777777777777778,
              "#fb9f3a"
             ],
             [
              0.8888888888888888,
              "#fdca26"
             ],
             [
              1,
              "#f0f921"
             ]
            ],
            "type": "surface"
           }
          ],
          "table": [
           {
            "cells": {
             "fill": {
              "color": "#EBF0F8"
             },
             "line": {
              "color": "white"
             }
            },
            "header": {
             "fill": {
              "color": "#C8D4E3"
             },
             "line": {
              "color": "white"
             }
            },
            "type": "table"
           }
          ]
         },
         "layout": {
          "annotationdefaults": {
           "arrowcolor": "#2a3f5f",
           "arrowhead": 0,
           "arrowwidth": 1
          },
          "autotypenumbers": "strict",
          "coloraxis": {
           "colorbar": {
            "outlinewidth": 0,
            "ticks": ""
           }
          },
          "colorscale": {
           "diverging": [
            [
             0,
             "#8e0152"
            ],
            [
             0.1,
             "#c51b7d"
            ],
            [
             0.2,
             "#de77ae"
            ],
            [
             0.3,
             "#f1b6da"
            ],
            [
             0.4,
             "#fde0ef"
            ],
            [
             0.5,
             "#f7f7f7"
            ],
            [
             0.6,
             "#e6f5d0"
            ],
            [
             0.7,
             "#b8e186"
            ],
            [
             0.8,
             "#7fbc41"
            ],
            [
             0.9,
             "#4d9221"
            ],
            [
             1,
             "#276419"
            ]
           ],
           "sequential": [
            [
             0,
             "#0d0887"
            ],
            [
             0.1111111111111111,
             "#46039f"
            ],
            [
             0.2222222222222222,
             "#7201a8"
            ],
            [
             0.3333333333333333,
             "#9c179e"
            ],
            [
             0.4444444444444444,
             "#bd3786"
            ],
            [
             0.5555555555555556,
             "#d8576b"
            ],
            [
             0.6666666666666666,
             "#ed7953"
            ],
            [
             0.7777777777777778,
             "#fb9f3a"
            ],
            [
             0.8888888888888888,
             "#fdca26"
            ],
            [
             1,
             "#f0f921"
            ]
           ],
           "sequentialminus": [
            [
             0,
             "#0d0887"
            ],
            [
             0.1111111111111111,
             "#46039f"
            ],
            [
             0.2222222222222222,
             "#7201a8"
            ],
            [
             0.3333333333333333,
             "#9c179e"
            ],
            [
             0.4444444444444444,
             "#bd3786"
            ],
            [
             0.5555555555555556,
             "#d8576b"
            ],
            [
             0.6666666666666666,
             "#ed7953"
            ],
            [
             0.7777777777777778,
             "#fb9f3a"
            ],
            [
             0.8888888888888888,
             "#fdca26"
            ],
            [
             1,
             "#f0f921"
            ]
           ]
          },
          "colorway": [
           "#636efa",
           "#EF553B",
           "#00cc96",
           "#ab63fa",
           "#FFA15A",
           "#19d3f3",
           "#FF6692",
           "#B6E880",
           "#FF97FF",
           "#FECB52"
          ],
          "font": {
           "color": "#2a3f5f"
          },
          "geo": {
           "bgcolor": "white",
           "lakecolor": "white",
           "landcolor": "#E5ECF6",
           "showlakes": true,
           "showland": true,
           "subunitcolor": "white"
          },
          "hoverlabel": {
           "align": "left"
          },
          "hovermode": "closest",
          "mapbox": {
           "style": "light"
          },
          "paper_bgcolor": "white",
          "plot_bgcolor": "#E5ECF6",
          "polar": {
           "angularaxis": {
            "gridcolor": "white",
            "linecolor": "white",
            "ticks": ""
           },
           "bgcolor": "#E5ECF6",
           "radialaxis": {
            "gridcolor": "white",
            "linecolor": "white",
            "ticks": ""
           }
          },
          "scene": {
           "xaxis": {
            "backgroundcolor": "#E5ECF6",
            "gridcolor": "white",
            "gridwidth": 2,
            "linecolor": "white",
            "showbackground": true,
            "ticks": "",
            "zerolinecolor": "white"
           },
           "yaxis": {
            "backgroundcolor": "#E5ECF6",
            "gridcolor": "white",
            "gridwidth": 2,
            "linecolor": "white",
            "showbackground": true,
            "ticks": "",
            "zerolinecolor": "white"
           },
           "zaxis": {
            "backgroundcolor": "#E5ECF6",
            "gridcolor": "white",
            "gridwidth": 2,
            "linecolor": "white",
            "showbackground": true,
            "ticks": "",
            "zerolinecolor": "white"
           }
          },
          "shapedefaults": {
           "line": {
            "color": "#2a3f5f"
           }
          },
          "ternary": {
           "aaxis": {
            "gridcolor": "white",
            "linecolor": "white",
            "ticks": ""
           },
           "baxis": {
            "gridcolor": "white",
            "linecolor": "white",
            "ticks": ""
           },
           "bgcolor": "#E5ECF6",
           "caxis": {
            "gridcolor": "white",
            "linecolor": "white",
            "ticks": ""
           }
          },
          "title": {
           "x": 0.05
          },
          "xaxis": {
           "automargin": true,
           "gridcolor": "white",
           "linecolor": "white",
           "ticks": "",
           "title": {
            "standoff": 15
           },
           "zerolinecolor": "white",
           "zerolinewidth": 2
          },
          "yaxis": {
           "automargin": true,
           "gridcolor": "white",
           "linecolor": "white",
           "ticks": "",
           "title": {
            "standoff": 15
           },
           "zerolinecolor": "white",
           "zerolinewidth": 2
          }
         }
        },
        "title": {
         "text": "Clusters by K-Means"
        },
        "width": 1000
       }
      }
     },
     "metadata": {},
     "output_type": "display_data"
    }
   ],
   "source": [
    "import plotly as py\n",
    "import plotly.graph_objs as go\n",
    "\n",
    "def plot_cluster(cluster, n, name):\n",
    "    return go.Scatter3d(\n",
    "        x = cluster[cluster['Cluster']==n]['Age'],\n",
    "        y = cluster[cluster['Cluster']==n]['Spending Score (1-100)'],\n",
    "        z = cluster[cluster['Cluster']==n]['Annual Income (k$)'],\n",
    "        mode = 'markers',\n",
    "        name = name,\n",
    "        marker = dict(size = k_clusters)\n",
    "    )\n",
    "\n",
    "data = []\n",
    "for i in range(0,k_clusters):\n",
    "    cluster_name = 'Customer ' + str(i + 1)\n",
    "    cluster = plot_cluster(kmean_clusters, i, cluster_name)\n",
    "    data.append(cluster)\n",
    "\n",
    "layout = go.Layout(\n",
    "    title = 'Clusters by K-Means',\n",
    "    height=800,\n",
    "    width = 1000,\n",
    "    scene = dict(\n",
    "        xaxis = dict(title = 'Age'),\n",
    "        yaxis = dict(title = 'Spending Score'),\n",
    "        zaxis = dict(title = 'Annual Income')\n",
    "        )\n",
    ")\n",
    "\n",
    "fig = go.Figure(data=data, layout=layout)\n",
    "py.offline.iplot(fig)"
   ]
  }
 ],
 "metadata": {
  "kernelspec": {
   "display_name": "Python 3 (ipykernel)",
   "language": "python",
   "name": "python3"
  },
  "language_info": {
   "codemirror_mode": {
    "name": "ipython",
    "version": 3
   },
   "file_extension": ".py",
   "mimetype": "text/x-python",
   "name": "python",
   "nbconvert_exporter": "python",
   "pygments_lexer": "ipython3",
<<<<<<< HEAD
   "version": "3.8.9"
=======
   "version": "3.9.7"
>>>>>>> aae1977bdae98b7b6e6519b20c8b54e88b641e62
  }
 },
 "nbformat": 4,
 "nbformat_minor": 5
}
