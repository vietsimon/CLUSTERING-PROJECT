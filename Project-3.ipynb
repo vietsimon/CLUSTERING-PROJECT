{
 "cells": [
  {
   "cell_type": "code",
   "execution_count": 19,
   "id": "df26e0ff",
   "metadata": {},
   "outputs": [],
   "source": [
    "import pandas as pd"
   ]
  },
  {
   "cell_type": "markdown",
   "id": "6396f853",
   "metadata": {},
   "source": [
    "## Đọc dữ liệu từ file"
   ]
  },
  {
   "cell_type": "code",
   "execution_count": 20,
   "id": "a04da4dc",
   "metadata": {},
   "outputs": [],
   "source": [
    "mall_customers_df=pd.read_csv(\"Mall_Customers.csv\")"
   ]
  },
  {
   "cell_type": "markdown",
   "id": "a5b1adeb",
   "metadata": {},
   "source": [
    "## Khám phá dữ liệu "
   ]
  },
  {
   "cell_type": "markdown",
   "id": "a64e3abc",
   "metadata": {},
   "source": [
    "### Dữ liệu có bao nhiều cột, bao nhiêu dòng ?"
   ]
  },
  {
   "cell_type": "code",
   "execution_count": 21,
   "id": "d6f9de81",
   "metadata": {},
   "outputs": [
    {
     "name": "stdout",
     "output_type": "stream",
     "text": [
      "Rows: 200 \n",
      "Cols: 5\n"
     ]
    }
   ],
   "source": [
    "num_rows, num_cols = mall_customers_df.shape\n",
    "print(f'Rows: {num_rows} \\nCols: {num_cols}')"
   ]
  },
  {
   "cell_type": "markdown",
   "id": "361361fe",
   "metadata": {},
   "source": [
    "### Kiểm tra trùng lặp"
   ]
  },
  {
   "cell_type": "code",
   "execution_count": 22,
   "id": "b9000127",
   "metadata": {},
   "outputs": [
    {
     "data": {
      "text/plain": [
       "False"
      ]
     },
     "execution_count": 22,
     "metadata": {},
     "output_type": "execute_result"
    }
   ],
   "source": [
    "have_duplicated_rows = mall_customers_df.duplicated().any()\n",
    "have_duplicated_rows"
   ]
  },
  {
   "cell_type": "markdown",
   "id": "1d4fcc67",
   "metadata": {},
   "source": [
    "\n",
    "Dữ liệu không bị lặp"
   ]
  },
  {
   "cell_type": "markdown",
   "id": "f289f430",
   "metadata": {},
   "source": [
    "### Mỗi cột có ý nghĩa gì?"
   ]
  },
  {
   "cell_type": "markdown",
   "id": "526b9bc7",
   "metadata": {},
   "source": [
    "**CustomerID**: Unique ID assigned to the customer\n",
    "\n",
    "**Gender**: Gender of the customer\n",
    "\n",
    "**Age**: Age of the customer\n",
    "\n",
    "**Annual Income**: Annual Income of the customer (k$)\n",
    "\n",
    "**Spending**: Score assigned by the mall based on customer behavior and spending nature"
   ]
  },
  {
   "cell_type": "markdown",
   "id": "2070d5fe",
   "metadata": {},
   "source": [
    "### Kiểu dữ liệu của từng cột"
   ]
  },
  {
   "cell_type": "code",
   "execution_count": 23,
   "id": "88519783",
   "metadata": {},
   "outputs": [
    {
     "name": "stdout",
     "output_type": "stream",
     "text": [
      "<class 'pandas.core.frame.DataFrame'>\n",
      "RangeIndex: 200 entries, 0 to 199\n",
      "Data columns (total 5 columns):\n",
      " #   Column                  Non-Null Count  Dtype \n",
      "---  ------                  --------------  ----- \n",
      " 0   CustomerID              200 non-null    int64 \n",
      " 1   Gender                  200 non-null    object\n",
      " 2   Age                     200 non-null    int64 \n",
      " 3   Annual Income (k$)      200 non-null    int64 \n",
      " 4   Spending Score (1-100)  200 non-null    int64 \n",
      "dtypes: int64(4), object(1)\n",
      "memory usage: 7.9+ KB\n"
     ]
    }
   ],
   "source": [
    "mall_customers_df.info()"
   ]
  },
  {
   "cell_type": "code",
   "execution_count": null,
   "id": "4d0d0849",
   "metadata": {},
   "outputs": [],
   "source": []
  }
 ],
 "metadata": {
  "kernelspec": {
   "display_name": "Python 3 (ipykernel)",
   "language": "python",
   "name": "python3"
  },
  "language_info": {
   "codemirror_mode": {
    "name": "ipython",
    "version": 3
   },
   "file_extension": ".py",
   "mimetype": "text/x-python",
   "name": "python",
   "nbconvert_exporter": "python",
   "pygments_lexer": "ipython3",
   "version": "3.8.9"
  }
 },
 "nbformat": 4,
 "nbformat_minor": 5
}
