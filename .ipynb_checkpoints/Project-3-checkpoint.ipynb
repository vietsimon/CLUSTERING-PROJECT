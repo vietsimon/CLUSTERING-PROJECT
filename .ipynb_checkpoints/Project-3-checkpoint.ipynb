{
 "cells": [
  {
   "cell_type": "code",
<<<<<<< HEAD
   "execution_count": 1,
=======
   "execution_count": 12,
>>>>>>> main
   "id": "df26e0ff",
   "metadata": {},
   "outputs": [],
   "source": [
    "import pandas as pd"
   ]
  },
  {
   "cell_type": "markdown",
   "id": "6396f853",
   "metadata": {},
   "source": [
    "## 1. Thu nhập dữ liệu"
   ]
  },
  {
   "cell_type": "code",
<<<<<<< HEAD
   "execution_count": 2,
=======
   "execution_count": 13,
>>>>>>> main
   "id": "a04da4dc",
   "metadata": {},
   "outputs": [],
   "source": [
    "mall_customers_df=pd.read_csv(\"Mall_Customers.csv\")"
   ]
  },
  {
   "cell_type": "code",
<<<<<<< HEAD
   "execution_count": 3,
=======
   "execution_count": 14,
>>>>>>> main
   "id": "61822a0b",
   "metadata": {},
   "outputs": [
    {
     "data": {
      "text/html": [
       "<div>\n",
       "<style scoped>\n",
       "    .dataframe tbody tr th:only-of-type {\n",
       "        vertical-align: middle;\n",
       "    }\n",
       "\n",
       "    .dataframe tbody tr th {\n",
       "        vertical-align: top;\n",
       "    }\n",
       "\n",
       "    .dataframe thead th {\n",
       "        text-align: right;\n",
       "    }\n",
       "</style>\n",
       "<table border=\"1\" class=\"dataframe\">\n",
       "  <thead>\n",
       "    <tr style=\"text-align: right;\">\n",
       "      <th></th>\n",
       "      <th>CustomerID</th>\n",
       "      <th>Gender</th>\n",
       "      <th>Age</th>\n",
       "      <th>Annual Income (k$)</th>\n",
       "      <th>Spending Score (1-100)</th>\n",
       "    </tr>\n",
       "  </thead>\n",
       "  <tbody>\n",
       "    <tr>\n",
       "      <th>0</th>\n",
       "      <td>1</td>\n",
       "      <td>Male</td>\n",
       "      <td>19</td>\n",
       "      <td>15</td>\n",
       "      <td>39</td>\n",
       "    </tr>\n",
       "    <tr>\n",
       "      <th>1</th>\n",
       "      <td>2</td>\n",
       "      <td>Male</td>\n",
       "      <td>21</td>\n",
       "      <td>15</td>\n",
       "      <td>81</td>\n",
       "    </tr>\n",
       "    <tr>\n",
       "      <th>2</th>\n",
       "      <td>3</td>\n",
       "      <td>Female</td>\n",
       "      <td>20</td>\n",
       "      <td>16</td>\n",
       "      <td>6</td>\n",
       "    </tr>\n",
       "    <tr>\n",
       "      <th>3</th>\n",
       "      <td>4</td>\n",
       "      <td>Female</td>\n",
       "      <td>23</td>\n",
       "      <td>16</td>\n",
       "      <td>77</td>\n",
       "    </tr>\n",
       "    <tr>\n",
       "      <th>4</th>\n",
       "      <td>5</td>\n",
       "      <td>Female</td>\n",
       "      <td>31</td>\n",
       "      <td>17</td>\n",
       "      <td>40</td>\n",
       "    </tr>\n",
       "    <tr>\n",
       "      <th>...</th>\n",
       "      <td>...</td>\n",
       "      <td>...</td>\n",
       "      <td>...</td>\n",
       "      <td>...</td>\n",
       "      <td>...</td>\n",
       "    </tr>\n",
       "    <tr>\n",
       "      <th>195</th>\n",
       "      <td>196</td>\n",
       "      <td>Female</td>\n",
       "      <td>35</td>\n",
       "      <td>120</td>\n",
       "      <td>79</td>\n",
       "    </tr>\n",
       "    <tr>\n",
       "      <th>196</th>\n",
       "      <td>197</td>\n",
       "      <td>Female</td>\n",
       "      <td>45</td>\n",
       "      <td>126</td>\n",
       "      <td>28</td>\n",
       "    </tr>\n",
       "    <tr>\n",
       "      <th>197</th>\n",
       "      <td>198</td>\n",
       "      <td>Male</td>\n",
       "      <td>32</td>\n",
       "      <td>126</td>\n",
       "      <td>74</td>\n",
       "    </tr>\n",
       "    <tr>\n",
       "      <th>198</th>\n",
       "      <td>199</td>\n",
       "      <td>Male</td>\n",
       "      <td>32</td>\n",
       "      <td>137</td>\n",
       "      <td>18</td>\n",
       "    </tr>\n",
       "    <tr>\n",
       "      <th>199</th>\n",
       "      <td>200</td>\n",
       "      <td>Male</td>\n",
       "      <td>30</td>\n",
       "      <td>137</td>\n",
       "      <td>83</td>\n",
       "    </tr>\n",
       "  </tbody>\n",
       "</table>\n",
       "<p>200 rows × 5 columns</p>\n",
       "</div>"
      ],
      "text/plain": [
       "     CustomerID  Gender  Age  Annual Income (k$)  Spending Score (1-100)\n",
       "0             1    Male   19                  15                      39\n",
       "1             2    Male   21                  15                      81\n",
       "2             3  Female   20                  16                       6\n",
       "3             4  Female   23                  16                      77\n",
       "4             5  Female   31                  17                      40\n",
       "..          ...     ...  ...                 ...                     ...\n",
       "195         196  Female   35                 120                      79\n",
       "196         197  Female   45                 126                      28\n",
       "197         198    Male   32                 126                      74\n",
       "198         199    Male   32                 137                      18\n",
       "199         200    Male   30                 137                      83\n",
       "\n",
       "[200 rows x 5 columns]"
      ]
     },
<<<<<<< HEAD
     "execution_count": 3,
=======
     "execution_count": 14,
>>>>>>> main
     "metadata": {},
     "output_type": "execute_result"
    }
   ],
   "source": [
    "mall_customers_df"
   ]
  },
  {
   "cell_type": "markdown",
   "id": "a5b1adeb",
   "metadata": {},
   "source": [
    "## 2. Khám phá dữ liệu "
   ]
  },
  {
   "cell_type": "markdown",
   "id": "a64e3abc",
   "metadata": {},
   "source": [
    "### Dữ liệu có bao nhiều cột, bao nhiêu dòng ?"
   ]
  },
  {
   "cell_type": "code",
<<<<<<< HEAD
   "execution_count": 4,
=======
   "execution_count": 15,
>>>>>>> main
   "id": "d6f9de81",
   "metadata": {},
   "outputs": [
    {
     "name": "stdout",
     "output_type": "stream",
     "text": [
      "Rows: 200 \n",
      "Cols: 5\n"
     ]
    }
   ],
   "source": [
    "num_rows, num_cols = mall_customers_df.shape\n",
    "print(f'Rows: {num_rows} \\nCols: {num_cols}')"
   ]
  },
  {
   "cell_type": "markdown",
   "id": "361361fe",
   "metadata": {},
   "source": [
    "### Kiểm tra trùng lặp"
   ]
  },
  {
   "cell_type": "code",
<<<<<<< HEAD
   "execution_count": 5,
=======
   "execution_count": 16,
>>>>>>> main
   "id": "b9000127",
   "metadata": {},
   "outputs": [
    {
     "data": {
      "text/plain": [
       "False"
      ]
     },
<<<<<<< HEAD
     "execution_count": 5,
=======
     "execution_count": 16,
>>>>>>> main
     "metadata": {},
     "output_type": "execute_result"
    }
   ],
   "source": [
    "have_duplicated_rows = mall_customers_df.duplicated().any()\n",
    "have_duplicated_rows"
   ]
  },
  {
   "cell_type": "markdown",
   "id": "f289f430",
   "metadata": {},
   "source": [
    "### Mỗi cột có ý nghĩa gì?"
   ]
  },
  {
   "cell_type": "markdown",
   "id": "526b9bc7",
   "metadata": {},
   "source": [
    "**CustomerID**: Unique ID assigned to the customer\n",
    "\n",
    "**Gender**: Gender of the customer\n",
    "\n",
    "**Age**: Age of the customer\n",
    "\n",
    "**Annual Income**: Annual Income of the customer (k$)\n",
    "\n",
    "**Spending**: Score assigned by the mall based on customer behavior and spending nature"
   ]
  },
  {
   "cell_type": "markdown",
   "id": "2070d5fe",
   "metadata": {},
   "source": [
    "### Chi tiết từng cột"
   ]
  },
  {
   "cell_type": "code",
<<<<<<< HEAD
   "execution_count": 6,
=======
   "execution_count": 17,
>>>>>>> main
   "id": "88519783",
   "metadata": {},
   "outputs": [
    {
     "name": "stdout",
     "output_type": "stream",
     "text": [
      "<class 'pandas.core.frame.DataFrame'>\n",
      "RangeIndex: 200 entries, 0 to 199\n",
      "Data columns (total 5 columns):\n",
      " #   Column                  Non-Null Count  Dtype \n",
      "---  ------                  --------------  ----- \n",
      " 0   CustomerID              200 non-null    int64 \n",
      " 1   Gender                  200 non-null    object\n",
      " 2   Age                     200 non-null    int64 \n",
      " 3   Annual Income (k$)      200 non-null    int64 \n",
      " 4   Spending Score (1-100)  200 non-null    int64 \n",
      "dtypes: int64(4), object(1)\n",
      "memory usage: 7.9+ KB\n"
     ]
    }
   ],
   "source": [
    "mall_customers_df.info()"
   ]
  },
  {
   "cell_type": "code",
<<<<<<< HEAD
   "execution_count": 7,
=======
   "execution_count": 18,
>>>>>>> main
   "id": "edf0235d",
   "metadata": {},
   "outputs": [
    {
     "data": {
      "text/plain": [
       "CustomerID                200\n",
       "Gender                      2\n",
       "Age                        51\n",
       "Annual Income (k$)         64\n",
       "Spending Score (1-100)     84\n",
       "dtype: int64"
      ]
     },
<<<<<<< HEAD
     "execution_count": 7,
=======
     "execution_count": 18,
>>>>>>> main
     "metadata": {},
     "output_type": "execute_result"
    }
   ],
   "source": [
    "mall_customers_df.nunique()"
   ]
  },
  {
   "cell_type": "markdown",
   "id": "15fddbbd",
   "metadata": {},
   "source": [
    "Dữ liệu sạch, không có giá trị rỗng cũng như phân loại đầy đủ. Ngoại trừ cột Gender ra thì các cột còn lại đều là số."
   ]
  },
  {
   "cell_type": "markdown",
   "id": "c752e257",
   "metadata": {},
   "source": [
    "### Thống kê cơ bản từng biến "
   ]
  },
  {
   "cell_type": "code",
<<<<<<< HEAD
   "execution_count": 8,
=======
   "execution_count": 19,
>>>>>>> main
   "id": "4d0d0849",
   "metadata": {},
   "outputs": [
    {
     "data": {
      "text/html": [
       "<div>\n",
       "<style scoped>\n",
       "    .dataframe tbody tr th:only-of-type {\n",
       "        vertical-align: middle;\n",
       "    }\n",
       "\n",
       "    .dataframe tbody tr th {\n",
       "        vertical-align: top;\n",
       "    }\n",
       "\n",
       "    .dataframe thead th {\n",
       "        text-align: right;\n",
       "    }\n",
       "</style>\n",
       "<table border=\"1\" class=\"dataframe\">\n",
       "  <thead>\n",
       "    <tr style=\"text-align: right;\">\n",
       "      <th></th>\n",
       "      <th>CustomerID</th>\n",
       "      <th>Age</th>\n",
       "      <th>Annual Income (k$)</th>\n",
       "      <th>Spending Score (1-100)</th>\n",
       "    </tr>\n",
       "  </thead>\n",
       "  <tbody>\n",
       "    <tr>\n",
       "      <th>count</th>\n",
       "      <td>200.000000</td>\n",
       "      <td>200.000000</td>\n",
       "      <td>200.000000</td>\n",
       "      <td>200.000000</td>\n",
       "    </tr>\n",
       "    <tr>\n",
       "      <th>mean</th>\n",
       "      <td>100.500000</td>\n",
       "      <td>38.850000</td>\n",
       "      <td>60.560000</td>\n",
       "      <td>50.200000</td>\n",
       "    </tr>\n",
       "    <tr>\n",
       "      <th>std</th>\n",
       "      <td>57.879185</td>\n",
       "      <td>13.969007</td>\n",
       "      <td>26.264721</td>\n",
       "      <td>25.823522</td>\n",
       "    </tr>\n",
       "    <tr>\n",
       "      <th>min</th>\n",
       "      <td>1.000000</td>\n",
       "      <td>18.000000</td>\n",
       "      <td>15.000000</td>\n",
       "      <td>1.000000</td>\n",
       "    </tr>\n",
       "    <tr>\n",
       "      <th>25%</th>\n",
       "      <td>50.750000</td>\n",
       "      <td>28.750000</td>\n",
       "      <td>41.500000</td>\n",
       "      <td>34.750000</td>\n",
       "    </tr>\n",
       "    <tr>\n",
       "      <th>50%</th>\n",
       "      <td>100.500000</td>\n",
       "      <td>36.000000</td>\n",
       "      <td>61.500000</td>\n",
       "      <td>50.000000</td>\n",
       "    </tr>\n",
       "    <tr>\n",
       "      <th>75%</th>\n",
       "      <td>150.250000</td>\n",
       "      <td>49.000000</td>\n",
       "      <td>78.000000</td>\n",
       "      <td>73.000000</td>\n",
       "    </tr>\n",
       "    <tr>\n",
       "      <th>max</th>\n",
       "      <td>200.000000</td>\n",
       "      <td>70.000000</td>\n",
       "      <td>137.000000</td>\n",
       "      <td>99.000000</td>\n",
       "    </tr>\n",
       "  </tbody>\n",
       "</table>\n",
       "</div>"
      ],
      "text/plain": [
       "       CustomerID         Age  Annual Income (k$)  Spending Score (1-100)\n",
       "count  200.000000  200.000000          200.000000              200.000000\n",
       "mean   100.500000   38.850000           60.560000               50.200000\n",
       "std     57.879185   13.969007           26.264721               25.823522\n",
       "min      1.000000   18.000000           15.000000                1.000000\n",
       "25%     50.750000   28.750000           41.500000               34.750000\n",
       "50%    100.500000   36.000000           61.500000               50.000000\n",
       "75%    150.250000   49.000000           78.000000               73.000000\n",
       "max    200.000000   70.000000          137.000000               99.000000"
      ]
     },
<<<<<<< HEAD
     "execution_count": 8,
=======
     "execution_count": 19,
>>>>>>> main
     "metadata": {},
     "output_type": "execute_result"
    }
   ],
   "source": [
    "mall_customers_df.describe()"
   ]
  },
  {
   "cell_type": "markdown",
   "id": "deda9a2b",
   "metadata": {},
   "source": [
    "Nhận xét:\n",
    "- Bởi vì ta có tổng cộng 200 khách hàng được ghi nhận mà CustomerID lại nằm trong khoảng từ 1-200 tức mỗi khách hàng có ID khác nhau nên cột này không có nhiều ý nghĩa phân cụm cũng như trực quan.\n",
    "- ..."
   ]
  },
  {
   "cell_type": "markdown",
   "id": "517e71e3",
   "metadata": {},
   "source": [
    "### Tiền xử lý"
   ]
  },
  {
   "cell_type": "markdown",
   "id": "eac6f502",
   "metadata": {},
   "source": [
    "Ta sẽ bỏ cột CustomerID, ngoài ra ta cũng có thể tiền xử lý cột Gender. Tuy nhiên, việc này không đem lại nhiều lợi ý vì dù Gender có đổi sang số thì lúc này chỉ có hai giá trị. Khi trực quan ra biểu đồ, các điểm dữ liệu sẽ tập trung thành một hàng ngang, ảnh hưởng đến mô hình cũng như phân cụm dữ liệu. Ta sẽ encode chúng khi muốn sử dụng các mô hình phân lớp hoặc hồi quy khác."
   ]
  },
  {
   "cell_type": "code",
<<<<<<< HEAD
   "execution_count": 9,
=======
   "execution_count": 20,
>>>>>>> main
   "id": "cdeccf27",
   "metadata": {},
   "outputs": [],
   "source": [
    "mall_customers_df = mall_customers_df.drop(\"CustomerID\",axis=1)"
   ]
  },
  {
   "cell_type": "code",
<<<<<<< HEAD
   "execution_count": 10,
=======
   "execution_count": 21,
>>>>>>> main
   "id": "3c64958a",
   "metadata": {},
   "outputs": [
    {
     "data": {
      "text/html": [
       "<div>\n",
       "<style scoped>\n",
       "    .dataframe tbody tr th:only-of-type {\n",
       "        vertical-align: middle;\n",
       "    }\n",
       "\n",
       "    .dataframe tbody tr th {\n",
       "        vertical-align: top;\n",
       "    }\n",
       "\n",
       "    .dataframe thead th {\n",
       "        text-align: right;\n",
       "    }\n",
       "</style>\n",
       "<table border=\"1\" class=\"dataframe\">\n",
       "  <thead>\n",
       "    <tr style=\"text-align: right;\">\n",
       "      <th></th>\n",
       "      <th>Gender</th>\n",
       "      <th>Age</th>\n",
       "      <th>Annual Income (k$)</th>\n",
       "      <th>Spending Score (1-100)</th>\n",
       "    </tr>\n",
       "  </thead>\n",
       "  <tbody>\n",
       "    <tr>\n",
       "      <th>0</th>\n",
       "      <td>Male</td>\n",
       "      <td>19</td>\n",
       "      <td>15</td>\n",
       "      <td>39</td>\n",
       "    </tr>\n",
       "    <tr>\n",
       "      <th>1</th>\n",
       "      <td>Male</td>\n",
       "      <td>21</td>\n",
       "      <td>15</td>\n",
       "      <td>81</td>\n",
       "    </tr>\n",
       "    <tr>\n",
       "      <th>2</th>\n",
       "      <td>Female</td>\n",
       "      <td>20</td>\n",
       "      <td>16</td>\n",
       "      <td>6</td>\n",
       "    </tr>\n",
       "    <tr>\n",
       "      <th>3</th>\n",
       "      <td>Female</td>\n",
       "      <td>23</td>\n",
       "      <td>16</td>\n",
       "      <td>77</td>\n",
       "    </tr>\n",
       "    <tr>\n",
       "      <th>4</th>\n",
       "      <td>Female</td>\n",
       "      <td>31</td>\n",
       "      <td>17</td>\n",
       "      <td>40</td>\n",
       "    </tr>\n",
       "    <tr>\n",
       "      <th>...</th>\n",
       "      <td>...</td>\n",
       "      <td>...</td>\n",
       "      <td>...</td>\n",
       "      <td>...</td>\n",
       "    </tr>\n",
       "    <tr>\n",
       "      <th>195</th>\n",
       "      <td>Female</td>\n",
       "      <td>35</td>\n",
       "      <td>120</td>\n",
       "      <td>79</td>\n",
       "    </tr>\n",
       "    <tr>\n",
       "      <th>196</th>\n",
       "      <td>Female</td>\n",
       "      <td>45</td>\n",
       "      <td>126</td>\n",
       "      <td>28</td>\n",
       "    </tr>\n",
       "    <tr>\n",
       "      <th>197</th>\n",
       "      <td>Male</td>\n",
       "      <td>32</td>\n",
       "      <td>126</td>\n",
       "      <td>74</td>\n",
       "    </tr>\n",
       "    <tr>\n",
       "      <th>198</th>\n",
       "      <td>Male</td>\n",
       "      <td>32</td>\n",
       "      <td>137</td>\n",
       "      <td>18</td>\n",
       "    </tr>\n",
       "    <tr>\n",
       "      <th>199</th>\n",
       "      <td>Male</td>\n",
       "      <td>30</td>\n",
       "      <td>137</td>\n",
       "      <td>83</td>\n",
       "    </tr>\n",
       "  </tbody>\n",
       "</table>\n",
       "<p>200 rows × 4 columns</p>\n",
       "</div>"
      ],
      "text/plain": [
       "     Gender  Age  Annual Income (k$)  Spending Score (1-100)\n",
       "0      Male   19                  15                      39\n",
       "1      Male   21                  15                      81\n",
       "2    Female   20                  16                       6\n",
       "3    Female   23                  16                      77\n",
       "4    Female   31                  17                      40\n",
       "..      ...  ...                 ...                     ...\n",
       "195  Female   35                 120                      79\n",
       "196  Female   45                 126                      28\n",
       "197    Male   32                 126                      74\n",
       "198    Male   32                 137                      18\n",
       "199    Male   30                 137                      83\n",
       "\n",
       "[200 rows x 4 columns]"
      ]
     },
<<<<<<< HEAD
     "execution_count": 10,
=======
     "execution_count": 21,
>>>>>>> main
     "metadata": {},
     "output_type": "execute_result"
    }
   ],
   "source": [
    "mall_customers_df"
   ]
  },
  {
   "cell_type": "markdown",
   "id": "ea9a2ede",
   "metadata": {},
   "source": [
    "### Trực quan hóa dữ liệu"
   ]
  },
  {
   "cell_type": "markdown",
   "id": "c26898d7",
   "metadata": {},
   "source": [
    "#### Trần Quốc Việt"
   ]
  },
  {
   "cell_type": "markdown",
   "id": "9f0f7840",
   "metadata": {},
   "source": []
  },
  {
   "cell_type": "code",
   "execution_count": null,
   "id": "f62b9fc5",
   "metadata": {},
   "outputs": [],
   "source": []
  },
  {
   "cell_type": "markdown",
   "id": "f9ffc07d",
   "metadata": {},
   "source": [
    "#### Trương Chí Toàn"
   ]
  },
  {
   "cell_type": "markdown",
   "id": "e61f52d2",
   "metadata": {},
   "source": []
  },
  {
   "cell_type": "code",
<<<<<<< HEAD
   "execution_count": 16,
   "id": "935f1a58",
   "metadata": {},
   "outputs": [],
   "source": [
    "import seaborn as sns; sns.set_theme(color_codes=True)\n",
    "import matplotlib.pyplot as plt"
   ]
  },
  {
   "cell_type": "code",
   "execution_count": 19,
   "id": "54c114f9",
   "metadata": {},
   "outputs": [
    {
     "data": {
      "image/png": "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\n",
      "text/plain": [
       "<Figure size 432x288 with 1 Axes>"
      ]
     },
     "metadata": {},
     "output_type": "display_data"
    }
   ],
   "source": [
    "sns.regplot(x=\"Age\", y=\"Annual Income (k$)\", data=mall_customers_df)\n",
    "plt.title('Distribution of Age-Annual Income')\n",
    "plt.show()"
   ]
  },
  {
   "cell_type": "code",
   "execution_count": 20,
   "id": "b1fce9ed",
   "metadata": {},
   "outputs": [
    {
     "data": {
      "image/png": "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\n",
      "text/plain": [
       "<Figure size 432x288 with 1 Axes>"
      ]
     },
     "metadata": {},
     "output_type": "display_data"
    }
   ],
   "source": [
    "sns.regplot(x=\"Age\", y=\"Spending Score (1-100)\", data=mall_customers_df)\n",
    "plt.title('Distribution of Age-Spending Score')\n",
    "plt.show()"
   ]
  },
  {
   "cell_type": "code",
   "execution_count": 21,
   "id": "8cc21c82",
   "metadata": {},
   "outputs": [
    {
     "data": {
      "image/png": "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\n",
      "text/plain": [
       "<Figure size 432x288 with 1 Axes>"
      ]
     },
     "metadata": {},
     "output_type": "display_data"
    }
   ],
   "source": [
    "sns.regplot(x=\"Annual Income (k$)\", y=\"Spending Score (1-100)\", data=mall_customers_df)\n",
    "plt.title('Distribution of Annual Income-Spending Score')\n",
    "plt.show()"
   ]
  },
  {
   "cell_type": "code",
   "execution_count": 37,
   "id": "0bf35594",
   "metadata": {},
   "outputs": [
    {
     "data": {
      "image/png": "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\n",
      "text/plain": [
       "<Figure size 432x288 with 1 Axes>"
      ]
     },
     "metadata": {},
     "output_type": "display_data"
    },
    {
     "data": {
      "text/plain": [
       "<Figure size 6000x4000 with 0 Axes>"
      ]
     },
     "metadata": {},
     "output_type": "display_data"
    }
   ],
   "source": [
    "ax = sns.scatterplot(data=mall_customers_df, x=\"Spending Score (1-100)\", y=\"Annual Income (k$)\",size='Age')\n",
    "ax.legend(loc='center left', bbox_to_anchor=(1, 0.5))\n",
    "plt.figure(dpi=1000)\n",
    "plt.show()"
   ]
  },
  {
   "cell_type": "markdown",
   "id": "9860643c",
   "metadata": {},
   "source": [
    "Qua biểu đồ trên, ta dự đoán dữ liệu được chia ra thành 5 cụm:\n",
    "- Cụm ở giữa rõ ràng nhất khi mật độ dày đặc và đa dạng về độ tuổi\n",
    "- 4 cụm xung quanh ở 4 hướng thì có mật độ rải rác và có phân chia rõ về độ tuổi\n",
    "\n"
   ]
=======
   "execution_count": null,
   "id": "935f1a58",
   "metadata": {},
   "outputs": [],
   "source": []
>>>>>>> main
  },
  {
   "cell_type": "markdown",
   "id": "98c2405e",
   "metadata": {},
   "source": [
<<<<<<< HEAD
    "Đó là những gì ta dự đoán, giờ ta hãy thử áp dụng thuật toán k_mean xem co đúng với dự đoán của ta hay không?"
=======
    "#### Nhận xét"
>>>>>>> main
   ]
  },
  {
   "cell_type": "markdown",
   "id": "88e80ce4",
   "metadata": {},
   "source": [
    "## Clustering"
   ]
  },
  {
   "cell_type": "markdown",
<<<<<<< HEAD
   "id": "6d98ab32",
   "metadata": {},
   "source": [
    "#### Lê Minh Trí"
=======
   "id": "e0342f35",
   "metadata": {},
   "source": [
    "### Find suitable number of clusters"
   ]
  },
  {
   "cell_type": "code",
   "execution_count": 22,
   "id": "d913fa27",
   "metadata": {},
   "outputs": [],
   "source": [
    "import numpy as np\n",
    "import pandas as pd\n",
    "import matplotlib.pyplot as plt\n",
    "import seaborn as sns\n",
    "import os"
   ]
  },
  {
   "cell_type": "code",
   "execution_count": 86,
   "id": "600d6685",
   "metadata": {},
   "outputs": [],
   "source": [
    "from sklearn.cluster import KMeans\n",
    "from sklearn.metrics import silhouette_score\n",
    "WCSS = []\n",
    "s_score = []\n",
    "X = mall_customers_df[['Age', 'Annual Income (k$)', 'Spending Score (1-100)']]\n",
    "for k in range(2,11):\n",
    "    kmeans = KMeans(n_clusters=k, init=\"k-means++\").fit(X)\n",
    "    wcss_value = kmeans.inertia_\n",
    "    WCSS.append(wcss_value)\n",
    "    silhouette_value = silhouette_score(X, kmeans.labels_)\n",
    "    s_score.append(silhouette_value)"
   ]
  },
  {
   "cell_type": "code",
   "execution_count": 96,
   "id": "d73e3c72",
   "metadata": {},
   "outputs": [
    {
     "data": {
      "image/png": "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",
      "text/plain": [
       "<Figure size 864x432 with 1 Axes>"
      ]
     },
     "metadata": {
      "needs_background": "light"
     },
     "output_type": "display_data"
    }
   ],
   "source": [
    "fig, ax = plt.subplots(figsize=(12, 6))\n",
    "plt.grid()\n",
    "plt.plot(range(2,11),WCSS, linewidth=3, color=\"blue\")\n",
    "ax.set_title('Elbow Method')\n",
    "ax.set_xlabel('K-Clusters')\n",
    "ax.set_ylabel('WCSS')\n",
    "\n",
    "ax.annotate('Possible Elbow Point', xy=(3, 137000), xytext=(3, 60000),\n",
    "            arrowprops=dict(arrowstyle='-|>', color='red', lw=3))\n",
    "\n",
    "ax.annotate('Possible Elbow Point', xy=(5.04, 80000), xytext=(5.1, 135000),\n",
    "            arrowprops=dict(arrowstyle='-|>', color='red', lw=3))\n",
    "\n",
    "ax.annotate('Possible Elbow Point', xy=(6, 60000), xytext=(7.07, 110000),\n",
    "            arrowprops=dict(arrowstyle='-|>', color='red', lw=3))\n",
    "plt.show()"
   ]
  },
  {
   "cell_type": "code",
   "execution_count": 102,
   "id": "ae15e33f",
   "metadata": {},
   "outputs": [
    {
     "data": {
      "image/png": "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",
      "text/plain": [
       "<Figure size 864x432 with 1 Axes>"
      ]
     },
     "metadata": {
      "needs_background": "light"
     },
     "output_type": "display_data"
    }
   ],
   "source": [
    "fig, ax = plt.subplots(figsize=(12, 6))\n",
    "plt.grid()\n",
    "plt.plot(range(2,11),s_score, linewidth=3, color=\"blue\", marker =\"8\")\n",
    "plt.plot(3,s_score[1],'ro')\n",
    "plt.plot(5,s_score[3],'ro')\n",
    "plt.plot(6,s_score[4],'ro')\n",
    "ax.set_title('Average silhouette Method')\n",
    "ax.set_xlabel('K-Clusters')\n",
    "ax.set_ylabel('Silhouette')\n",
    "\n",
    "plt.show()"
   ]
  },
  {
   "cell_type": "markdown",
   "id": "61f89907",
   "metadata": {},
   "source": [
    "We choose k = 5 and k = 6 as the number of clusters. We would want to plot both of them to compare."
   ]
  },
  {
   "cell_type": "markdown",
   "id": "8f63b228",
   "metadata": {},
   "source": [
    "### k_clusters = 5"
   ]
  },
  {
   "cell_type": "code",
   "execution_count": 155,
   "id": "f82ecd01",
   "metadata": {},
   "outputs": [],
   "source": [
    "k_clusters = 5\n",
    "kmean_model = KMeans(n_clusters=k_clusters, init='k-means++').fit(X)\n",
    "kmean_clusters = X.copy()\n",
    "kmean_clusters.loc[:,'Cluster'] = kmean_model.labels_"
   ]
  },
  {
   "cell_type": "code",
   "execution_count": 156,
   "id": "e63c7243",
   "metadata": {},
   "outputs": [
    {
     "name": "stderr",
     "output_type": "stream",
     "text": [
      "C:\\Users\\HP\\AppData\\Roaming\\Python\\Python310\\site-packages\\seaborn\\_decorators.py:36: FutureWarning:\n",
      "\n",
      "Pass the following variables as keyword args: x, y. From version 0.12, the only valid positional argument will be `data`, and passing other arguments without an explicit keyword will result in an error or misinterpretation.\n",
      "\n",
      "C:\\Users\\HP\\AppData\\Roaming\\Python\\Python310\\site-packages\\seaborn\\_decorators.py:36: FutureWarning:\n",
      "\n",
      "Pass the following variables as keyword args: x, y. From version 0.12, the only valid positional argument will be `data`, and passing other arguments without an explicit keyword will result in an error or misinterpretation.\n",
      "\n"
     ]
    },
    {
     "data": {
      "image/png": "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",
      "text/plain": [
       "<Figure size 1080x360 with 2 Axes>"
      ]
     },
     "metadata": {
      "needs_background": "light"
     },
     "output_type": "display_data"
    }
   ],
   "source": [
    "fig, ax = plt.subplots(1,2,figsize=(15,5))\n",
    "\n",
    "sns.scatterplot('Annual Income (k$)', 'Spending Score (1-100)', data=kmean_clusters,\n",
    "                    hue='Cluster', palette='Set1', ax=ax[0], legend='full')\n",
    "\n",
    "sns.scatterplot('Age', 'Spending Score (1-100)', data=kmean_clusters,\n",
    "                    hue='Cluster', palette='Set1', ax=ax[1], legend='full')\n",
    "\n",
    "centroids_1 = [kmean_model.cluster_centers_[:,1],kmean_model.cluster_centers_[:,2]]\n",
    "centroids_2 = [kmean_model.cluster_centers_[:,0],kmean_model.cluster_centers_[:,2]]\n",
    "\n",
    "ax[0].scatter(centroids_1[0],centroids_1[1], marker='D', s=50, c=\"blue\")\n",
    "ax[1].scatter(centroids_2[0],centroids_2[1], marker='D', s=50, c=\"blue\")\n",
    "plt.show()"
   ]
  },
  {
   "cell_type": "markdown",
   "id": "8679708b",
   "metadata": {},
   "source": [
    "Nhận xét: ..."
   ]
  },
  {
   "cell_type": "code",
   "execution_count": 140,
   "id": "2c5a90d1",
   "metadata": {},
   "outputs": [
    {
     "data": {
      "application/vnd.plotly.v1+json": {
       "config": {
        "linkText": "Export to plot.ly",
        "plotlyServerURL": "https://plot.ly",
        "showLink": false
       },
       "data": [
        {
         "marker": {
          "size": 5
         },
         "mode": "markers",
         "name": "Customer 1",
         "type": "scatter3d",
         "x": [
          19,
          20,
          31,
          35,
          64,
          67,
          58,
          37,
          35,
          52,
          35,
          46,
          54,
          45,
          40,
          60,
          53,
          49,
          42,
          36,
          65,
          48,
          49
         ],
         "y": [
          39,
          6,
          40,
          6,
          3,
          14,
          15,
          13,
          35,
          29,
          35,
          5,
          14,
          32,
          31,
          4,
          4,
          14,
          17,
          26,
          35,
          36,
          28
         ],
         "z": [
          15,
          16,
          17,
          18,
          19,
          19,
          20,
          20,
          21,
          23,
          24,
          25,
          28,
          28,
          29,
          30,
          33,
          33,
          34,
          37,
          38,
          39,
          39
         ]
        },
        {
         "marker": {
          "size": 5
         },
         "mode": "markers",
         "name": "Customer 2",
         "type": "scatter3d",
         "x": [
          39,
          31,
          40,
          38,
          39,
          31,
          29,
          32,
          35,
          32,
          32,
          28,
          32,
          34,
          39,
          38,
          27,
          30,
          30,
          29,
          31,
          36,
          33,
          32,
          28,
          36,
          30,
          27,
          35,
          32,
          29,
          30,
          28,
          36,
          32,
          38,
          35,
          32,
          30
         ],
         "y": [
          91,
          77,
          95,
          75,
          75,
          71,
          88,
          73,
          72,
          93,
          87,
          97,
          74,
          90,
          88,
          76,
          89,
          78,
          73,
          83,
          93,
          75,
          95,
          63,
          75,
          92,
          86,
          69,
          90,
          86,
          88,
          97,
          68,
          85,
          69,
          91,
          79,
          74,
          83
         ],
         "z": [
          69,
          70,
          71,
          71,
          71,
          72,
          73,
          73,
          74,
          75,
          76,
          77,
          77,
          78,
          78,
          78,
          78,
          78,
          78,
          79,
          81,
          85,
          86,
          87,
          87,
          87,
          88,
          88,
          93,
          97,
          98,
          99,
          101,
          103,
          103,
          113,
          120,
          126,
          137
         ]
        },
        {
         "marker": {
          "size": 5
         },
         "mode": "markers",
         "name": "Customer 3",
         "type": "scatter3d",
         "x": [
          50,
          27,
          29,
          31,
          49,
          33,
          31,
          59,
          50,
          47,
          51,
          69,
          27,
          53,
          70,
          19,
          67,
          54,
          63,
          18,
          43,
          68,
          19,
          32,
          70,
          47,
          60,
          60,
          59,
          26,
          45,
          40,
          23,
          49,
          57,
          38,
          67,
          46,
          21,
          48,
          55,
          22,
          34,
          50,
          68,
          18,
          48,
          40,
          32,
          24,
          47,
          27,
          48,
          20,
          23,
          49,
          67,
          26,
          49,
          21,
          66,
          54,
          68,
          66,
          65,
          19,
          38,
          19,
          18,
          19,
          63,
          49,
          51,
          50,
          27,
          38,
          40,
          43,
          28
         ],
         "y": [
          55,
          47,
          42,
          42,
          52,
          60,
          54,
          60,
          45,
          41,
          50,
          46,
          51,
          46,
          56,
          55,
          52,
          59,
          51,
          59,
          50,
          48,
          59,
          47,
          55,
          42,
          49,
          56,
          47,
          54,
          53,
          48,
          52,
          42,
          51,
          55,
          41,
          44,
          57,
          46,
          58,
          55,
          60,
          46,
          55,
          41,
          49,
          40,
          42,
          52,
          47,
          50,
          42,
          49,
          41,
          48,
          59,
          55,
          56,
          42,
          50,
          46,
          43,
          48,
          52,
          54,
          42,
          46,
          48,
          50,
          43,
          59,
          43,
          57,
          56,
          40,
          58,
          35,
          40
         ],
         "z": [
          40,
          40,
          40,
          40,
          42,
          42,
          43,
          43,
          43,
          43,
          44,
          44,
          46,
          46,
          46,
          46,
          47,
          47,
          48,
          48,
          48,
          48,
          48,
          48,
          49,
          49,
          50,
          50,
          54,
          54,
          54,
          54,
          54,
          54,
          54,
          54,
          54,
          54,
          54,
          54,
          57,
          57,
          58,
          58,
          59,
          59,
          60,
          60,
          60,
          60,
          60,
          60,
          61,
          61,
          62,
          62,
          62,
          62,
          62,
          62,
          63,
          63,
          63,
          63,
          63,
          63,
          64,
          64,
          65,
          65,
          65,
          65,
          67,
          67,
          67,
          67,
          69,
          71,
          76
         ]
        },
        {
         "marker": {
          "size": 5
         },
         "mode": "markers",
         "name": "Customer 4",
         "type": "scatter3d",
         "x": [
          23,
          59,
          47,
          25,
          20,
          44,
          19,
          57,
          25,
          48,
          34,
          43,
          44,
          47,
          37,
          34,
          56,
          19,
          50,
          42,
          36,
          40,
          36,
          52,
          58,
          59,
          37,
          46,
          41,
          54,
          41,
          34,
          33,
          47,
          45,
          32
         ],
         "y": [
          29,
          11,
          9,
          34,
          5,
          7,
          10,
          5,
          12,
          36,
          22,
          17,
          20,
          16,
          1,
          1,
          35,
          5,
          26,
          20,
          27,
          13,
          10,
          13,
          15,
          14,
          32,
          15,
          39,
          24,
          17,
          23,
          8,
          16,
          28,
          18
         ],
         "z": [
          70,
          71,
          71,
          72,
          73,
          73,
          74,
          75,
          77,
          77,
          78,
          78,
          78,
          78,
          78,
          78,
          79,
          81,
          85,
          86,
          87,
          87,
          87,
          88,
          88,
          93,
          97,
          98,
          99,
          101,
          103,
          103,
          113,
          120,
          126,
          137
         ]
        },
        {
         "marker": {
          "size": 5
         },
         "mode": "markers",
         "name": "Customer 5",
         "type": "scatter3d",
         "x": [
          21,
          23,
          22,
          23,
          30,
          35,
          24,
          22,
          20,
          35,
          25,
          31,
          29,
          35,
          23,
          21,
          18,
          21,
          30,
          20,
          24,
          31,
          24
         ],
         "y": [
          81,
          77,
          76,
          94,
          72,
          99,
          77,
          79,
          66,
          98,
          73,
          73,
          82,
          61,
          87,
          73,
          92,
          81,
          73,
          75,
          92,
          61,
          65
         ],
         "z": [
          15,
          16,
          17,
          18,
          19,
          19,
          20,
          20,
          21,
          23,
          24,
          25,
          28,
          28,
          29,
          30,
          33,
          33,
          34,
          37,
          38,
          39,
          39
         ]
        }
       ],
       "layout": {
        "height": 800,
        "scene": {
         "xaxis": {
          "title": {
           "text": "Age"
          }
         },
         "yaxis": {
          "title": {
           "text": "Spending Score"
          }
         },
         "zaxis": {
          "title": {
           "text": "Annual Income"
          }
         }
        },
        "template": {
         "data": {
          "bar": [
           {
            "error_x": {
             "color": "#2a3f5f"
            },
            "error_y": {
             "color": "#2a3f5f"
            },
            "marker": {
             "line": {
              "color": "#E5ECF6",
              "width": 0.5
             },
             "pattern": {
              "fillmode": "overlay",
              "size": 10,
              "solidity": 0.2
             }
            },
            "type": "bar"
           }
          ],
          "barpolar": [
           {
            "marker": {
             "line": {
              "color": "#E5ECF6",
              "width": 0.5
             },
             "pattern": {
              "fillmode": "overlay",
              "size": 10,
              "solidity": 0.2
             }
            },
            "type": "barpolar"
           }
          ],
          "carpet": [
           {
            "aaxis": {
             "endlinecolor": "#2a3f5f",
             "gridcolor": "white",
             "linecolor": "white",
             "minorgridcolor": "white",
             "startlinecolor": "#2a3f5f"
            },
            "baxis": {
             "endlinecolor": "#2a3f5f",
             "gridcolor": "white",
             "linecolor": "white",
             "minorgridcolor": "white",
             "startlinecolor": "#2a3f5f"
            },
            "type": "carpet"
           }
          ],
          "choropleth": [
           {
            "colorbar": {
             "outlinewidth": 0,
             "ticks": ""
            },
            "type": "choropleth"
           }
          ],
          "contour": [
           {
            "colorbar": {
             "outlinewidth": 0,
             "ticks": ""
            },
            "colorscale": [
             [
              0,
              "#0d0887"
             ],
             [
              0.1111111111111111,
              "#46039f"
             ],
             [
              0.2222222222222222,
              "#7201a8"
             ],
             [
              0.3333333333333333,
              "#9c179e"
             ],
             [
              0.4444444444444444,
              "#bd3786"
             ],
             [
              0.5555555555555556,
              "#d8576b"
             ],
             [
              0.6666666666666666,
              "#ed7953"
             ],
             [
              0.7777777777777778,
              "#fb9f3a"
             ],
             [
              0.8888888888888888,
              "#fdca26"
             ],
             [
              1,
              "#f0f921"
             ]
            ],
            "type": "contour"
           }
          ],
          "contourcarpet": [
           {
            "colorbar": {
             "outlinewidth": 0,
             "ticks": ""
            },
            "type": "contourcarpet"
           }
          ],
          "heatmap": [
           {
            "colorbar": {
             "outlinewidth": 0,
             "ticks": ""
            },
            "colorscale": [
             [
              0,
              "#0d0887"
             ],
             [
              0.1111111111111111,
              "#46039f"
             ],
             [
              0.2222222222222222,
              "#7201a8"
             ],
             [
              0.3333333333333333,
              "#9c179e"
             ],
             [
              0.4444444444444444,
              "#bd3786"
             ],
             [
              0.5555555555555556,
              "#d8576b"
             ],
             [
              0.6666666666666666,
              "#ed7953"
             ],
             [
              0.7777777777777778,
              "#fb9f3a"
             ],
             [
              0.8888888888888888,
              "#fdca26"
             ],
             [
              1,
              "#f0f921"
             ]
            ],
            "type": "heatmap"
           }
          ],
          "heatmapgl": [
           {
            "colorbar": {
             "outlinewidth": 0,
             "ticks": ""
            },
            "colorscale": [
             [
              0,
              "#0d0887"
             ],
             [
              0.1111111111111111,
              "#46039f"
             ],
             [
              0.2222222222222222,
              "#7201a8"
             ],
             [
              0.3333333333333333,
              "#9c179e"
             ],
             [
              0.4444444444444444,
              "#bd3786"
             ],
             [
              0.5555555555555556,
              "#d8576b"
             ],
             [
              0.6666666666666666,
              "#ed7953"
             ],
             [
              0.7777777777777778,
              "#fb9f3a"
             ],
             [
              0.8888888888888888,
              "#fdca26"
             ],
             [
              1,
              "#f0f921"
             ]
            ],
            "type": "heatmapgl"
           }
          ],
          "histogram": [
           {
            "marker": {
             "pattern": {
              "fillmode": "overlay",
              "size": 10,
              "solidity": 0.2
             }
            },
            "type": "histogram"
           }
          ],
          "histogram2d": [
           {
            "colorbar": {
             "outlinewidth": 0,
             "ticks": ""
            },
            "colorscale": [
             [
              0,
              "#0d0887"
             ],
             [
              0.1111111111111111,
              "#46039f"
             ],
             [
              0.2222222222222222,
              "#7201a8"
             ],
             [
              0.3333333333333333,
              "#9c179e"
             ],
             [
              0.4444444444444444,
              "#bd3786"
             ],
             [
              0.5555555555555556,
              "#d8576b"
             ],
             [
              0.6666666666666666,
              "#ed7953"
             ],
             [
              0.7777777777777778,
              "#fb9f3a"
             ],
             [
              0.8888888888888888,
              "#fdca26"
             ],
             [
              1,
              "#f0f921"
             ]
            ],
            "type": "histogram2d"
           }
          ],
          "histogram2dcontour": [
           {
            "colorbar": {
             "outlinewidth": 0,
             "ticks": ""
            },
            "colorscale": [
             [
              0,
              "#0d0887"
             ],
             [
              0.1111111111111111,
              "#46039f"
             ],
             [
              0.2222222222222222,
              "#7201a8"
             ],
             [
              0.3333333333333333,
              "#9c179e"
             ],
             [
              0.4444444444444444,
              "#bd3786"
             ],
             [
              0.5555555555555556,
              "#d8576b"
             ],
             [
              0.6666666666666666,
              "#ed7953"
             ],
             [
              0.7777777777777778,
              "#fb9f3a"
             ],
             [
              0.8888888888888888,
              "#fdca26"
             ],
             [
              1,
              "#f0f921"
             ]
            ],
            "type": "histogram2dcontour"
           }
          ],
          "mesh3d": [
           {
            "colorbar": {
             "outlinewidth": 0,
             "ticks": ""
            },
            "type": "mesh3d"
           }
          ],
          "parcoords": [
           {
            "line": {
             "colorbar": {
              "outlinewidth": 0,
              "ticks": ""
             }
            },
            "type": "parcoords"
           }
          ],
          "pie": [
           {
            "automargin": true,
            "type": "pie"
           }
          ],
          "scatter": [
           {
            "marker": {
             "colorbar": {
              "outlinewidth": 0,
              "ticks": ""
             }
            },
            "type": "scatter"
           }
          ],
          "scatter3d": [
           {
            "line": {
             "colorbar": {
              "outlinewidth": 0,
              "ticks": ""
             }
            },
            "marker": {
             "colorbar": {
              "outlinewidth": 0,
              "ticks": ""
             }
            },
            "type": "scatter3d"
           }
          ],
          "scattercarpet": [
           {
            "marker": {
             "colorbar": {
              "outlinewidth": 0,
              "ticks": ""
             }
            },
            "type": "scattercarpet"
           }
          ],
          "scattergeo": [
           {
            "marker": {
             "colorbar": {
              "outlinewidth": 0,
              "ticks": ""
             }
            },
            "type": "scattergeo"
           }
          ],
          "scattergl": [
           {
            "marker": {
             "colorbar": {
              "outlinewidth": 0,
              "ticks": ""
             }
            },
            "type": "scattergl"
           }
          ],
          "scattermapbox": [
           {
            "marker": {
             "colorbar": {
              "outlinewidth": 0,
              "ticks": ""
             }
            },
            "type": "scattermapbox"
           }
          ],
          "scatterpolar": [
           {
            "marker": {
             "colorbar": {
              "outlinewidth": 0,
              "ticks": ""
             }
            },
            "type": "scatterpolar"
           }
          ],
          "scatterpolargl": [
           {
            "marker": {
             "colorbar": {
              "outlinewidth": 0,
              "ticks": ""
             }
            },
            "type": "scatterpolargl"
           }
          ],
          "scatterternary": [
           {
            "marker": {
             "colorbar": {
              "outlinewidth": 0,
              "ticks": ""
             }
            },
            "type": "scatterternary"
           }
          ],
          "surface": [
           {
            "colorbar": {
             "outlinewidth": 0,
             "ticks": ""
            },
            "colorscale": [
             [
              0,
              "#0d0887"
             ],
             [
              0.1111111111111111,
              "#46039f"
             ],
             [
              0.2222222222222222,
              "#7201a8"
             ],
             [
              0.3333333333333333,
              "#9c179e"
             ],
             [
              0.4444444444444444,
              "#bd3786"
             ],
             [
              0.5555555555555556,
              "#d8576b"
             ],
             [
              0.6666666666666666,
              "#ed7953"
             ],
             [
              0.7777777777777778,
              "#fb9f3a"
             ],
             [
              0.8888888888888888,
              "#fdca26"
             ],
             [
              1,
              "#f0f921"
             ]
            ],
            "type": "surface"
           }
          ],
          "table": [
           {
            "cells": {
             "fill": {
              "color": "#EBF0F8"
             },
             "line": {
              "color": "white"
             }
            },
            "header": {
             "fill": {
              "color": "#C8D4E3"
             },
             "line": {
              "color": "white"
             }
            },
            "type": "table"
           }
          ]
         },
         "layout": {
          "annotationdefaults": {
           "arrowcolor": "#2a3f5f",
           "arrowhead": 0,
           "arrowwidth": 1
          },
          "autotypenumbers": "strict",
          "coloraxis": {
           "colorbar": {
            "outlinewidth": 0,
            "ticks": ""
           }
          },
          "colorscale": {
           "diverging": [
            [
             0,
             "#8e0152"
            ],
            [
             0.1,
             "#c51b7d"
            ],
            [
             0.2,
             "#de77ae"
            ],
            [
             0.3,
             "#f1b6da"
            ],
            [
             0.4,
             "#fde0ef"
            ],
            [
             0.5,
             "#f7f7f7"
            ],
            [
             0.6,
             "#e6f5d0"
            ],
            [
             0.7,
             "#b8e186"
            ],
            [
             0.8,
             "#7fbc41"
            ],
            [
             0.9,
             "#4d9221"
            ],
            [
             1,
             "#276419"
            ]
           ],
           "sequential": [
            [
             0,
             "#0d0887"
            ],
            [
             0.1111111111111111,
             "#46039f"
            ],
            [
             0.2222222222222222,
             "#7201a8"
            ],
            [
             0.3333333333333333,
             "#9c179e"
            ],
            [
             0.4444444444444444,
             "#bd3786"
            ],
            [
             0.5555555555555556,
             "#d8576b"
            ],
            [
             0.6666666666666666,
             "#ed7953"
            ],
            [
             0.7777777777777778,
             "#fb9f3a"
            ],
            [
             0.8888888888888888,
             "#fdca26"
            ],
            [
             1,
             "#f0f921"
            ]
           ],
           "sequentialminus": [
            [
             0,
             "#0d0887"
            ],
            [
             0.1111111111111111,
             "#46039f"
            ],
            [
             0.2222222222222222,
             "#7201a8"
            ],
            [
             0.3333333333333333,
             "#9c179e"
            ],
            [
             0.4444444444444444,
             "#bd3786"
            ],
            [
             0.5555555555555556,
             "#d8576b"
            ],
            [
             0.6666666666666666,
             "#ed7953"
            ],
            [
             0.7777777777777778,
             "#fb9f3a"
            ],
            [
             0.8888888888888888,
             "#fdca26"
            ],
            [
             1,
             "#f0f921"
            ]
           ]
          },
          "colorway": [
           "#636efa",
           "#EF553B",
           "#00cc96",
           "#ab63fa",
           "#FFA15A",
           "#19d3f3",
           "#FF6692",
           "#B6E880",
           "#FF97FF",
           "#FECB52"
          ],
          "font": {
           "color": "#2a3f5f"
          },
          "geo": {
           "bgcolor": "white",
           "lakecolor": "white",
           "landcolor": "#E5ECF6",
           "showlakes": true,
           "showland": true,
           "subunitcolor": "white"
          },
          "hoverlabel": {
           "align": "left"
          },
          "hovermode": "closest",
          "mapbox": {
           "style": "light"
          },
          "paper_bgcolor": "white",
          "plot_bgcolor": "#E5ECF6",
          "polar": {
           "angularaxis": {
            "gridcolor": "white",
            "linecolor": "white",
            "ticks": ""
           },
           "bgcolor": "#E5ECF6",
           "radialaxis": {
            "gridcolor": "white",
            "linecolor": "white",
            "ticks": ""
           }
          },
          "scene": {
           "xaxis": {
            "backgroundcolor": "#E5ECF6",
            "gridcolor": "white",
            "gridwidth": 2,
            "linecolor": "white",
            "showbackground": true,
            "ticks": "",
            "zerolinecolor": "white"
           },
           "yaxis": {
            "backgroundcolor": "#E5ECF6",
            "gridcolor": "white",
            "gridwidth": 2,
            "linecolor": "white",
            "showbackground": true,
            "ticks": "",
            "zerolinecolor": "white"
           },
           "zaxis": {
            "backgroundcolor": "#E5ECF6",
            "gridcolor": "white",
            "gridwidth": 2,
            "linecolor": "white",
            "showbackground": true,
            "ticks": "",
            "zerolinecolor": "white"
           }
          },
          "shapedefaults": {
           "line": {
            "color": "#2a3f5f"
           }
          },
          "ternary": {
           "aaxis": {
            "gridcolor": "white",
            "linecolor": "white",
            "ticks": ""
           },
           "baxis": {
            "gridcolor": "white",
            "linecolor": "white",
            "ticks": ""
           },
           "bgcolor": "#E5ECF6",
           "caxis": {
            "gridcolor": "white",
            "linecolor": "white",
            "ticks": ""
           }
          },
          "title": {
           "x": 0.05
          },
          "xaxis": {
           "automargin": true,
           "gridcolor": "white",
           "linecolor": "white",
           "ticks": "",
           "title": {
            "standoff": 15
           },
           "zerolinecolor": "white",
           "zerolinewidth": 2
          },
          "yaxis": {
           "automargin": true,
           "gridcolor": "white",
           "linecolor": "white",
           "ticks": "",
           "title": {
            "standoff": 15
           },
           "zerolinecolor": "white",
           "zerolinewidth": 2
          }
         }
        },
        "title": {
         "text": "Clusters by K-Means"
        },
        "width": 1000
       }
      }
     },
     "metadata": {},
     "output_type": "display_data"
    }
   ],
   "source": [
    "import plotly as py\n",
    "import plotly.graph_objs as go\n",
    "\n",
    "def plot_cluster(cluster, n, name):\n",
    "    return go.Scatter3d(\n",
    "        x = cluster[cluster['Cluster']==n]['Age'],\n",
    "        y = cluster[cluster['Cluster']==n]['Spending Score (1-100)'],\n",
    "        z = cluster[cluster['Cluster']==n]['Annual Income (k$)'],\n",
    "        mode = 'markers',\n",
    "        name = name,\n",
    "        marker = dict(size = k_clusters)\n",
    "    )\n",
    "\n",
    "data = []\n",
    "for i in range(0,k_clusters):\n",
    "    cluster_name = 'Customer ' + str(i + 1)\n",
    "    cluster = plot_cluster(kmean_clusters, i, cluster_name)\n",
    "    data.append(cluster)\n",
    "\n",
    "layout = go.Layout(\n",
    "    title = 'Clusters by K-Means',\n",
    "    height=800,\n",
    "    width = 1000,\n",
    "    scene = dict(\n",
    "        xaxis = dict(title = 'Age'),\n",
    "        yaxis = dict(title = 'Spending Score'),\n",
    "        zaxis = dict(title = 'Annual Income')\n",
    "        )\n",
    ")\n",
    "\n",
    "fig = go.Figure(data=data, layout=layout)\n",
    "py.offline.iplot(fig)"
   ]
  },
  {
   "cell_type": "markdown",
   "id": "0c6cea80",
   "metadata": {},
   "source": [
    "### k_clusters = 6"
   ]
  },
  {
   "cell_type": "code",
   "execution_count": 143,
   "id": "5a5de93a",
   "metadata": {},
   "outputs": [],
   "source": [
    "k_clusters = 6\n",
    "kmean_model = KMeans(n_clusters=k_clusters, init='k-means++').fit(X)\n",
    "kmean_clusters = X.copy()\n",
    "kmean_clusters.loc[:,'Cluster'] = kmean_model.labels_"
   ]
  },
  {
   "cell_type": "code",
   "execution_count": 153,
   "id": "d9081082",
   "metadata": {},
   "outputs": [
    {
     "name": "stderr",
     "output_type": "stream",
     "text": [
      "C:\\Users\\HP\\AppData\\Roaming\\Python\\Python310\\site-packages\\seaborn\\_decorators.py:36: FutureWarning:\n",
      "\n",
      "Pass the following variables as keyword args: x, y. From version 0.12, the only valid positional argument will be `data`, and passing other arguments without an explicit keyword will result in an error or misinterpretation.\n",
      "\n",
      "C:\\Users\\HP\\AppData\\Roaming\\Python\\Python310\\site-packages\\seaborn\\_decorators.py:36: FutureWarning:\n",
      "\n",
      "Pass the following variables as keyword args: x, y. From version 0.12, the only valid positional argument will be `data`, and passing other arguments without an explicit keyword will result in an error or misinterpretation.\n",
      "\n"
     ]
    },
    {
     "data": {
      "image/png": "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",
      "text/plain": [
       "<Figure size 1080x360 with 2 Axes>"
      ]
     },
     "metadata": {
      "needs_background": "light"
     },
     "output_type": "display_data"
    }
   ],
   "source": [
    "fig, ax = plt.subplots(1,2,figsize=(15,5))\n",
    "\n",
    "sns.scatterplot('Annual Income (k$)', 'Spending Score (1-100)', data=kmean_clusters,\n",
    "                    hue='Cluster', palette='Set1', ax=ax[0], legend='full')\n",
    "\n",
    "sns.scatterplot('Age', 'Spending Score (1-100)', data=kmean_clusters,\n",
    "                    hue='Cluster', palette='Set1', ax=ax[1], legend='full')\n",
    "\n",
    "centroids_1 = [kmean_model.cluster_centers_[:,1],kmean_model.cluster_centers_[:,2]]\n",
    "centroids_2 = [kmean_model.cluster_centers_[:,0],kmean_model.cluster_centers_[:,2]]\n",
    "\n",
    "ax[0].scatter(centroids_1[0],centroids_1[1], marker='D', s=50, c=\"blue\")\n",
    "ax[1].scatter(centroids_2[0],centroids_2[1], marker='D', s=50, c=\"blue\")\n",
    "plt.show()"
   ]
  },
  {
   "cell_type": "markdown",
   "id": "20e95eff",
   "metadata": {},
   "source": [
    "Nhận xét: ..."
   ]
  },
  {
   "cell_type": "code",
   "execution_count": 126,
   "id": "87e9a33a",
   "metadata": {},
   "outputs": [
    {
     "data": {
      "application/vnd.plotly.v1+json": {
       "config": {
        "linkText": "Export to plot.ly",
        "plotlyServerURL": "https://plot.ly",
        "showLink": false
       },
       "data": [
        {
         "marker": {
          "size": 6
         },
         "mode": "markers",
         "name": "Customer 1",
         "type": "scatter3d",
         "x": [
          31,
          27,
          29,
          31,
          33,
          31,
          27,
          19,
          18,
          19,
          32,
          26,
          40,
          23,
          38,
          21,
          22,
          34,
          18,
          40,
          32,
          24,
          27,
          20,
          23,
          26,
          21,
          19,
          38,
          19,
          18,
          19,
          27,
          38,
          40,
          23,
          25,
          28
         ],
         "y": [
          61,
          47,
          42,
          42,
          60,
          54,
          51,
          55,
          59,
          59,
          47,
          54,
          48,
          52,
          55,
          57,
          55,
          60,
          41,
          40,
          42,
          52,
          50,
          49,
          41,
          55,
          42,
          54,
          42,
          46,
          48,
          50,
          56,
          40,
          58,
          29,
          34,
          40
         ],
         "z": [
          39,
          40,
          40,
          40,
          42,
          43,
          46,
          46,
          48,
          48,
          48,
          54,
          54,
          54,
          54,
          54,
          57,
          58,
          59,
          60,
          60,
          60,
          60,
          61,
          62,
          62,
          62,
          63,
          64,
          64,
          65,
          65,
          67,
          67,
          69,
          70,
          72,
          76
         ]
        },
        {
         "marker": {
          "size": 6
         },
         "mode": "markers",
         "name": "Customer 2",
         "type": "scatter3d",
         "x": [
          65,
          48,
          50,
          49,
          59,
          50,
          47,
          51,
          69,
          53,
          70,
          67,
          54,
          63,
          43,
          68,
          70,
          47,
          60,
          60,
          59,
          45,
          49,
          57,
          67,
          46,
          48,
          55,
          50,
          68,
          48,
          47,
          48,
          49,
          67,
          49,
          66,
          54,
          68,
          66,
          65,
          63,
          49,
          51,
          50
         ],
         "y": [
          35,
          36,
          55,
          52,
          60,
          45,
          41,
          50,
          46,
          46,
          56,
          52,
          59,
          51,
          50,
          48,
          55,
          42,
          49,
          56,
          47,
          53,
          42,
          51,
          41,
          44,
          46,
          58,
          46,
          55,
          49,
          47,
          42,
          48,
          59,
          56,
          50,
          46,
          43,
          48,
          52,
          43,
          59,
          43,
          57
         ],
         "z": [
          38,
          39,
          40,
          42,
          43,
          43,
          43,
          44,
          44,
          46,
          46,
          47,
          47,
          48,
          48,
          48,
          49,
          49,
          50,
          50,
          54,
          54,
          54,
          54,
          54,
          54,
          54,
          57,
          58,
          59,
          60,
          60,
          61,
          62,
          62,
          62,
          63,
          63,
          63,
          63,
          63,
          65,
          65,
          67,
          67
         ]
        },
        {
         "marker": {
          "size": 6
         },
         "mode": "markers",
         "name": "Customer 3",
         "type": "scatter3d",
         "x": [
          43,
          59,
          47,
          20,
          44,
          19,
          57,
          25,
          48,
          34,
          43,
          44,
          47,
          37,
          34,
          56,
          19,
          50,
          42,
          36,
          40,
          36,
          52,
          58,
          59,
          37,
          46,
          41,
          54,
          41,
          34,
          33,
          47,
          45,
          32
         ],
         "y": [
          35,
          11,
          9,
          5,
          7,
          10,
          5,
          12,
          36,
          22,
          17,
          20,
          16,
          1,
          1,
          35,
          5,
          26,
          20,
          27,
          13,
          10,
          13,
          15,
          14,
          32,
          15,
          39,
          24,
          17,
          23,
          8,
          16,
          28,
          18
         ],
         "z": [
          71,
          71,
          71,
          73,
          73,
          74,
          75,
          77,
          77,
          78,
          78,
          78,
          78,
          78,
          78,
          79,
          81,
          85,
          86,
          87,
          87,
          87,
          88,
          88,
          93,
          97,
          98,
          99,
          101,
          103,
          103,
          113,
          120,
          126,
          137
         ]
        },
        {
         "marker": {
          "size": 6
         },
         "mode": "markers",
         "name": "Customer 4",
         "type": "scatter3d",
         "x": [
          39,
          31,
          40,
          38,
          39,
          31,
          29,
          32,
          35,
          32,
          32,
          28,
          32,
          34,
          39,
          38,
          27,
          30,
          30,
          29,
          31,
          36,
          33,
          32,
          28,
          36,
          30,
          27,
          35,
          32,
          29,
          30,
          28,
          36,
          32,
          38,
          35,
          32,
          30
         ],
         "y": [
          91,
          77,
          95,
          75,
          75,
          71,
          88,
          73,
          72,
          93,
          87,
          97,
          74,
          90,
          88,
          76,
          89,
          78,
          73,
          83,
          93,
          75,
          95,
          63,
          75,
          92,
          86,
          69,
          90,
          86,
          88,
          97,
          68,
          85,
          69,
          91,
          79,
          74,
          83
         ],
         "z": [
          69,
          70,
          71,
          71,
          71,
          72,
          73,
          73,
          74,
          75,
          76,
          77,
          77,
          78,
          78,
          78,
          78,
          78,
          78,
          79,
          81,
          85,
          86,
          87,
          87,
          87,
          88,
          88,
          93,
          97,
          98,
          99,
          101,
          103,
          103,
          113,
          120,
          126,
          137
         ]
        },
        {
         "marker": {
          "size": 6
         },
         "mode": "markers",
         "name": "Customer 5",
         "type": "scatter3d",
         "x": [
          21,
          23,
          22,
          23,
          30,
          35,
          24,
          22,
          20,
          35,
          25,
          31,
          29,
          35,
          23,
          21,
          18,
          21,
          30,
          20,
          24,
          24
         ],
         "y": [
          81,
          77,
          76,
          94,
          72,
          99,
          77,
          79,
          66,
          98,
          73,
          73,
          82,
          61,
          87,
          73,
          92,
          81,
          73,
          75,
          92,
          65
         ],
         "z": [
          15,
          16,
          17,
          18,
          19,
          19,
          20,
          20,
          21,
          23,
          24,
          25,
          28,
          28,
          29,
          30,
          33,
          33,
          34,
          37,
          38,
          39
         ]
        },
        {
         "marker": {
          "size": 6
         },
         "mode": "markers",
         "name": "Customer 6",
         "type": "scatter3d",
         "x": [
          19,
          20,
          31,
          35,
          64,
          67,
          58,
          37,
          35,
          52,
          35,
          46,
          54,
          45,
          40,
          60,
          53,
          49,
          42,
          36,
          49
         ],
         "y": [
          39,
          6,
          40,
          6,
          3,
          14,
          15,
          13,
          35,
          29,
          35,
          5,
          14,
          32,
          31,
          4,
          4,
          14,
          17,
          26,
          28
         ],
         "z": [
          15,
          16,
          17,
          18,
          19,
          19,
          20,
          20,
          21,
          23,
          24,
          25,
          28,
          28,
          29,
          30,
          33,
          33,
          34,
          37,
          39
         ]
        }
       ],
       "layout": {
        "height": 800,
        "scene": {
         "xaxis": {
          "title": {
           "text": "Age"
          }
         },
         "yaxis": {
          "title": {
           "text": "Spending Score"
          }
         },
         "zaxis": {
          "title": {
           "text": "Annual Income"
          }
         }
        },
        "template": {
         "data": {
          "bar": [
           {
            "error_x": {
             "color": "#2a3f5f"
            },
            "error_y": {
             "color": "#2a3f5f"
            },
            "marker": {
             "line": {
              "color": "#E5ECF6",
              "width": 0.5
             },
             "pattern": {
              "fillmode": "overlay",
              "size": 10,
              "solidity": 0.2
             }
            },
            "type": "bar"
           }
          ],
          "barpolar": [
           {
            "marker": {
             "line": {
              "color": "#E5ECF6",
              "width": 0.5
             },
             "pattern": {
              "fillmode": "overlay",
              "size": 10,
              "solidity": 0.2
             }
            },
            "type": "barpolar"
           }
          ],
          "carpet": [
           {
            "aaxis": {
             "endlinecolor": "#2a3f5f",
             "gridcolor": "white",
             "linecolor": "white",
             "minorgridcolor": "white",
             "startlinecolor": "#2a3f5f"
            },
            "baxis": {
             "endlinecolor": "#2a3f5f",
             "gridcolor": "white",
             "linecolor": "white",
             "minorgridcolor": "white",
             "startlinecolor": "#2a3f5f"
            },
            "type": "carpet"
           }
          ],
          "choropleth": [
           {
            "colorbar": {
             "outlinewidth": 0,
             "ticks": ""
            },
            "type": "choropleth"
           }
          ],
          "contour": [
           {
            "colorbar": {
             "outlinewidth": 0,
             "ticks": ""
            },
            "colorscale": [
             [
              0,
              "#0d0887"
             ],
             [
              0.1111111111111111,
              "#46039f"
             ],
             [
              0.2222222222222222,
              "#7201a8"
             ],
             [
              0.3333333333333333,
              "#9c179e"
             ],
             [
              0.4444444444444444,
              "#bd3786"
             ],
             [
              0.5555555555555556,
              "#d8576b"
             ],
             [
              0.6666666666666666,
              "#ed7953"
             ],
             [
              0.7777777777777778,
              "#fb9f3a"
             ],
             [
              0.8888888888888888,
              "#fdca26"
             ],
             [
              1,
              "#f0f921"
             ]
            ],
            "type": "contour"
           }
          ],
          "contourcarpet": [
           {
            "colorbar": {
             "outlinewidth": 0,
             "ticks": ""
            },
            "type": "contourcarpet"
           }
          ],
          "heatmap": [
           {
            "colorbar": {
             "outlinewidth": 0,
             "ticks": ""
            },
            "colorscale": [
             [
              0,
              "#0d0887"
             ],
             [
              0.1111111111111111,
              "#46039f"
             ],
             [
              0.2222222222222222,
              "#7201a8"
             ],
             [
              0.3333333333333333,
              "#9c179e"
             ],
             [
              0.4444444444444444,
              "#bd3786"
             ],
             [
              0.5555555555555556,
              "#d8576b"
             ],
             [
              0.6666666666666666,
              "#ed7953"
             ],
             [
              0.7777777777777778,
              "#fb9f3a"
             ],
             [
              0.8888888888888888,
              "#fdca26"
             ],
             [
              1,
              "#f0f921"
             ]
            ],
            "type": "heatmap"
           }
          ],
          "heatmapgl": [
           {
            "colorbar": {
             "outlinewidth": 0,
             "ticks": ""
            },
            "colorscale": [
             [
              0,
              "#0d0887"
             ],
             [
              0.1111111111111111,
              "#46039f"
             ],
             [
              0.2222222222222222,
              "#7201a8"
             ],
             [
              0.3333333333333333,
              "#9c179e"
             ],
             [
              0.4444444444444444,
              "#bd3786"
             ],
             [
              0.5555555555555556,
              "#d8576b"
             ],
             [
              0.6666666666666666,
              "#ed7953"
             ],
             [
              0.7777777777777778,
              "#fb9f3a"
             ],
             [
              0.8888888888888888,
              "#fdca26"
             ],
             [
              1,
              "#f0f921"
             ]
            ],
            "type": "heatmapgl"
           }
          ],
          "histogram": [
           {
            "marker": {
             "pattern": {
              "fillmode": "overlay",
              "size": 10,
              "solidity": 0.2
             }
            },
            "type": "histogram"
           }
          ],
          "histogram2d": [
           {
            "colorbar": {
             "outlinewidth": 0,
             "ticks": ""
            },
            "colorscale": [
             [
              0,
              "#0d0887"
             ],
             [
              0.1111111111111111,
              "#46039f"
             ],
             [
              0.2222222222222222,
              "#7201a8"
             ],
             [
              0.3333333333333333,
              "#9c179e"
             ],
             [
              0.4444444444444444,
              "#bd3786"
             ],
             [
              0.5555555555555556,
              "#d8576b"
             ],
             [
              0.6666666666666666,
              "#ed7953"
             ],
             [
              0.7777777777777778,
              "#fb9f3a"
             ],
             [
              0.8888888888888888,
              "#fdca26"
             ],
             [
              1,
              "#f0f921"
             ]
            ],
            "type": "histogram2d"
           }
          ],
          "histogram2dcontour": [
           {
            "colorbar": {
             "outlinewidth": 0,
             "ticks": ""
            },
            "colorscale": [
             [
              0,
              "#0d0887"
             ],
             [
              0.1111111111111111,
              "#46039f"
             ],
             [
              0.2222222222222222,
              "#7201a8"
             ],
             [
              0.3333333333333333,
              "#9c179e"
             ],
             [
              0.4444444444444444,
              "#bd3786"
             ],
             [
              0.5555555555555556,
              "#d8576b"
             ],
             [
              0.6666666666666666,
              "#ed7953"
             ],
             [
              0.7777777777777778,
              "#fb9f3a"
             ],
             [
              0.8888888888888888,
              "#fdca26"
             ],
             [
              1,
              "#f0f921"
             ]
            ],
            "type": "histogram2dcontour"
           }
          ],
          "mesh3d": [
           {
            "colorbar": {
             "outlinewidth": 0,
             "ticks": ""
            },
            "type": "mesh3d"
           }
          ],
          "parcoords": [
           {
            "line": {
             "colorbar": {
              "outlinewidth": 0,
              "ticks": ""
             }
            },
            "type": "parcoords"
           }
          ],
          "pie": [
           {
            "automargin": true,
            "type": "pie"
           }
          ],
          "scatter": [
           {
            "marker": {
             "colorbar": {
              "outlinewidth": 0,
              "ticks": ""
             }
            },
            "type": "scatter"
           }
          ],
          "scatter3d": [
           {
            "line": {
             "colorbar": {
              "outlinewidth": 0,
              "ticks": ""
             }
            },
            "marker": {
             "colorbar": {
              "outlinewidth": 0,
              "ticks": ""
             }
            },
            "type": "scatter3d"
           }
          ],
          "scattercarpet": [
           {
            "marker": {
             "colorbar": {
              "outlinewidth": 0,
              "ticks": ""
             }
            },
            "type": "scattercarpet"
           }
          ],
          "scattergeo": [
           {
            "marker": {
             "colorbar": {
              "outlinewidth": 0,
              "ticks": ""
             }
            },
            "type": "scattergeo"
           }
          ],
          "scattergl": [
           {
            "marker": {
             "colorbar": {
              "outlinewidth": 0,
              "ticks": ""
             }
            },
            "type": "scattergl"
           }
          ],
          "scattermapbox": [
           {
            "marker": {
             "colorbar": {
              "outlinewidth": 0,
              "ticks": ""
             }
            },
            "type": "scattermapbox"
           }
          ],
          "scatterpolar": [
           {
            "marker": {
             "colorbar": {
              "outlinewidth": 0,
              "ticks": ""
             }
            },
            "type": "scatterpolar"
           }
          ],
          "scatterpolargl": [
           {
            "marker": {
             "colorbar": {
              "outlinewidth": 0,
              "ticks": ""
             }
            },
            "type": "scatterpolargl"
           }
          ],
          "scatterternary": [
           {
            "marker": {
             "colorbar": {
              "outlinewidth": 0,
              "ticks": ""
             }
            },
            "type": "scatterternary"
           }
          ],
          "surface": [
           {
            "colorbar": {
             "outlinewidth": 0,
             "ticks": ""
            },
            "colorscale": [
             [
              0,
              "#0d0887"
             ],
             [
              0.1111111111111111,
              "#46039f"
             ],
             [
              0.2222222222222222,
              "#7201a8"
             ],
             [
              0.3333333333333333,
              "#9c179e"
             ],
             [
              0.4444444444444444,
              "#bd3786"
             ],
             [
              0.5555555555555556,
              "#d8576b"
             ],
             [
              0.6666666666666666,
              "#ed7953"
             ],
             [
              0.7777777777777778,
              "#fb9f3a"
             ],
             [
              0.8888888888888888,
              "#fdca26"
             ],
             [
              1,
              "#f0f921"
             ]
            ],
            "type": "surface"
           }
          ],
          "table": [
           {
            "cells": {
             "fill": {
              "color": "#EBF0F8"
             },
             "line": {
              "color": "white"
             }
            },
            "header": {
             "fill": {
              "color": "#C8D4E3"
             },
             "line": {
              "color": "white"
             }
            },
            "type": "table"
           }
          ]
         },
         "layout": {
          "annotationdefaults": {
           "arrowcolor": "#2a3f5f",
           "arrowhead": 0,
           "arrowwidth": 1
          },
          "autotypenumbers": "strict",
          "coloraxis": {
           "colorbar": {
            "outlinewidth": 0,
            "ticks": ""
           }
          },
          "colorscale": {
           "diverging": [
            [
             0,
             "#8e0152"
            ],
            [
             0.1,
             "#c51b7d"
            ],
            [
             0.2,
             "#de77ae"
            ],
            [
             0.3,
             "#f1b6da"
            ],
            [
             0.4,
             "#fde0ef"
            ],
            [
             0.5,
             "#f7f7f7"
            ],
            [
             0.6,
             "#e6f5d0"
            ],
            [
             0.7,
             "#b8e186"
            ],
            [
             0.8,
             "#7fbc41"
            ],
            [
             0.9,
             "#4d9221"
            ],
            [
             1,
             "#276419"
            ]
           ],
           "sequential": [
            [
             0,
             "#0d0887"
            ],
            [
             0.1111111111111111,
             "#46039f"
            ],
            [
             0.2222222222222222,
             "#7201a8"
            ],
            [
             0.3333333333333333,
             "#9c179e"
            ],
            [
             0.4444444444444444,
             "#bd3786"
            ],
            [
             0.5555555555555556,
             "#d8576b"
            ],
            [
             0.6666666666666666,
             "#ed7953"
            ],
            [
             0.7777777777777778,
             "#fb9f3a"
            ],
            [
             0.8888888888888888,
             "#fdca26"
            ],
            [
             1,
             "#f0f921"
            ]
           ],
           "sequentialminus": [
            [
             0,
             "#0d0887"
            ],
            [
             0.1111111111111111,
             "#46039f"
            ],
            [
             0.2222222222222222,
             "#7201a8"
            ],
            [
             0.3333333333333333,
             "#9c179e"
            ],
            [
             0.4444444444444444,
             "#bd3786"
            ],
            [
             0.5555555555555556,
             "#d8576b"
            ],
            [
             0.6666666666666666,
             "#ed7953"
            ],
            [
             0.7777777777777778,
             "#fb9f3a"
            ],
            [
             0.8888888888888888,
             "#fdca26"
            ],
            [
             1,
             "#f0f921"
            ]
           ]
          },
          "colorway": [
           "#636efa",
           "#EF553B",
           "#00cc96",
           "#ab63fa",
           "#FFA15A",
           "#19d3f3",
           "#FF6692",
           "#B6E880",
           "#FF97FF",
           "#FECB52"
          ],
          "font": {
           "color": "#2a3f5f"
          },
          "geo": {
           "bgcolor": "white",
           "lakecolor": "white",
           "landcolor": "#E5ECF6",
           "showlakes": true,
           "showland": true,
           "subunitcolor": "white"
          },
          "hoverlabel": {
           "align": "left"
          },
          "hovermode": "closest",
          "mapbox": {
           "style": "light"
          },
          "paper_bgcolor": "white",
          "plot_bgcolor": "#E5ECF6",
          "polar": {
           "angularaxis": {
            "gridcolor": "white",
            "linecolor": "white",
            "ticks": ""
           },
           "bgcolor": "#E5ECF6",
           "radialaxis": {
            "gridcolor": "white",
            "linecolor": "white",
            "ticks": ""
           }
          },
          "scene": {
           "xaxis": {
            "backgroundcolor": "#E5ECF6",
            "gridcolor": "white",
            "gridwidth": 2,
            "linecolor": "white",
            "showbackground": true,
            "ticks": "",
            "zerolinecolor": "white"
           },
           "yaxis": {
            "backgroundcolor": "#E5ECF6",
            "gridcolor": "white",
            "gridwidth": 2,
            "linecolor": "white",
            "showbackground": true,
            "ticks": "",
            "zerolinecolor": "white"
           },
           "zaxis": {
            "backgroundcolor": "#E5ECF6",
            "gridcolor": "white",
            "gridwidth": 2,
            "linecolor": "white",
            "showbackground": true,
            "ticks": "",
            "zerolinecolor": "white"
           }
          },
          "shapedefaults": {
           "line": {
            "color": "#2a3f5f"
           }
          },
          "ternary": {
           "aaxis": {
            "gridcolor": "white",
            "linecolor": "white",
            "ticks": ""
           },
           "baxis": {
            "gridcolor": "white",
            "linecolor": "white",
            "ticks": ""
           },
           "bgcolor": "#E5ECF6",
           "caxis": {
            "gridcolor": "white",
            "linecolor": "white",
            "ticks": ""
           }
          },
          "title": {
           "x": 0.05
          },
          "xaxis": {
           "automargin": true,
           "gridcolor": "white",
           "linecolor": "white",
           "ticks": "",
           "title": {
            "standoff": 15
           },
           "zerolinecolor": "white",
           "zerolinewidth": 2
          },
          "yaxis": {
           "automargin": true,
           "gridcolor": "white",
           "linecolor": "white",
           "ticks": "",
           "title": {
            "standoff": 15
           },
           "zerolinecolor": "white",
           "zerolinewidth": 2
          }
         }
        },
        "title": {
         "text": "Clusters by K-Means"
        },
        "width": 1000
       }
      }
     },
     "metadata": {},
     "output_type": "display_data"
    }
   ],
   "source": [
    "import plotly as py\n",
    "import plotly.graph_objs as go\n",
    "\n",
    "def plot_cluster(cluster, n, name):\n",
    "    return go.Scatter3d(\n",
    "        x = cluster[cluster['Cluster']==n]['Age'],\n",
    "        y = cluster[cluster['Cluster']==n]['Spending Score (1-100)'],\n",
    "        z = cluster[cluster['Cluster']==n]['Annual Income (k$)'],\n",
    "        mode = 'markers',\n",
    "        name = name,\n",
    "        marker = dict(size = k_clusters)\n",
    "    )\n",
    "\n",
    "data = []\n",
    "for i in range(0,k_clusters):\n",
    "    cluster_name = 'Customer ' + str(i + 1)\n",
    "    cluster = plot_cluster(kmean_clusters, i, cluster_name)\n",
    "    data.append(cluster)\n",
    "\n",
    "layout = go.Layout(\n",
    "    title = 'Clusters by K-Means',\n",
    "    height=800,\n",
    "    width = 1000,\n",
    "    scene = dict(\n",
    "        xaxis = dict(title = 'Age'),\n",
    "        yaxis = dict(title = 'Spending Score'),\n",
    "        zaxis = dict(title = 'Annual Income')\n",
    "        )\n",
    ")\n",
    "\n",
    "fig = go.Figure(data=data, layout=layout)\n",
    "py.offline.iplot(fig)"
>>>>>>> main
   ]
  }
 ],
 "metadata": {
  "kernelspec": {
   "display_name": "Python 3 (ipykernel)",
   "language": "python",
   "name": "python3"
  },
  "language_info": {
   "codemirror_mode": {
    "name": "ipython",
    "version": 3
   },
   "file_extension": ".py",
   "mimetype": "text/x-python",
   "name": "python",
   "nbconvert_exporter": "python",
   "pygments_lexer": "ipython3",
   "version": "3.9.7"
  }
 },
 "nbformat": 4,
 "nbformat_minor": 5
}
