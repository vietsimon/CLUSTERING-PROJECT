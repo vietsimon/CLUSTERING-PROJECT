{
 "cells": [
  {
   "cell_type": "code",
<<<<<<< HEAD
   "execution_count": 1,
=======
   "execution_count": 12,
>>>>>>> aae1977bdae98b7b6e6519b20c8b54e88b641e62
   "id": "df26e0ff",
   "metadata": {},
   "outputs": [],
   "source": [
<<<<<<< HEAD
    "import pandas as pd\n",
    "import seaborn as sns\n",
    "import matplotlib.pyplot as plt"
=======
    "import pandas as pd"
>>>>>>> aae1977bdae98b7b6e6519b20c8b54e88b641e62
   ]
  },
  {
   "cell_type": "markdown",
   "id": "6396f853",
   "metadata": {},
   "source": [
    "## 1. Thu nhập dữ liệu"
   ]
  },
  {
   "cell_type": "code",
<<<<<<< HEAD
   "execution_count": 2,
=======
   "execution_count": 13,
>>>>>>> aae1977bdae98b7b6e6519b20c8b54e88b641e62
   "id": "a04da4dc",
   "metadata": {},
   "outputs": [],
   "source": [
    "mall_customers_df=pd.read_csv(\"Mall_Customers.csv\")"
   ]
  },
  {
   "cell_type": "code",
<<<<<<< HEAD
   "execution_count": 3,
=======
   "execution_count": 14,
>>>>>>> aae1977bdae98b7b6e6519b20c8b54e88b641e62
   "id": "61822a0b",
   "metadata": {},
   "outputs": [
    {
     "data": {
      "text/html": [
       "<div>\n",
       "<style scoped>\n",
       "    .dataframe tbody tr th:only-of-type {\n",
       "        vertical-align: middle;\n",
       "    }\n",
       "\n",
       "    .dataframe tbody tr th {\n",
       "        vertical-align: top;\n",
       "    }\n",
       "\n",
       "    .dataframe thead th {\n",
       "        text-align: right;\n",
       "    }\n",
       "</style>\n",
       "<table border=\"1\" class=\"dataframe\">\n",
       "  <thead>\n",
       "    <tr style=\"text-align: right;\">\n",
       "      <th></th>\n",
       "      <th>CustomerID</th>\n",
       "      <th>Gender</th>\n",
       "      <th>Age</th>\n",
       "      <th>Annual Income (k$)</th>\n",
       "      <th>Spending Score (1-100)</th>\n",
       "    </tr>\n",
       "  </thead>\n",
       "  <tbody>\n",
       "    <tr>\n",
       "      <th>0</th>\n",
       "      <td>1</td>\n",
       "      <td>Male</td>\n",
       "      <td>19</td>\n",
       "      <td>15</td>\n",
       "      <td>39</td>\n",
       "    </tr>\n",
       "    <tr>\n",
       "      <th>1</th>\n",
       "      <td>2</td>\n",
       "      <td>Male</td>\n",
       "      <td>21</td>\n",
       "      <td>15</td>\n",
       "      <td>81</td>\n",
       "    </tr>\n",
       "    <tr>\n",
       "      <th>2</th>\n",
       "      <td>3</td>\n",
       "      <td>Female</td>\n",
       "      <td>20</td>\n",
       "      <td>16</td>\n",
       "      <td>6</td>\n",
       "    </tr>\n",
       "    <tr>\n",
       "      <th>3</th>\n",
       "      <td>4</td>\n",
       "      <td>Female</td>\n",
       "      <td>23</td>\n",
       "      <td>16</td>\n",
       "      <td>77</td>\n",
       "    </tr>\n",
       "    <tr>\n",
       "      <th>4</th>\n",
       "      <td>5</td>\n",
       "      <td>Female</td>\n",
       "      <td>31</td>\n",
       "      <td>17</td>\n",
       "      <td>40</td>\n",
       "    </tr>\n",
       "    <tr>\n",
       "      <th>...</th>\n",
       "      <td>...</td>\n",
       "      <td>...</td>\n",
       "      <td>...</td>\n",
       "      <td>...</td>\n",
       "      <td>...</td>\n",
       "    </tr>\n",
       "    <tr>\n",
       "      <th>195</th>\n",
       "      <td>196</td>\n",
       "      <td>Female</td>\n",
       "      <td>35</td>\n",
       "      <td>120</td>\n",
       "      <td>79</td>\n",
       "    </tr>\n",
       "    <tr>\n",
       "      <th>196</th>\n",
       "      <td>197</td>\n",
       "      <td>Female</td>\n",
       "      <td>45</td>\n",
       "      <td>126</td>\n",
       "      <td>28</td>\n",
       "    </tr>\n",
       "    <tr>\n",
       "      <th>197</th>\n",
       "      <td>198</td>\n",
       "      <td>Male</td>\n",
       "      <td>32</td>\n",
       "      <td>126</td>\n",
       "      <td>74</td>\n",
       "    </tr>\n",
       "    <tr>\n",
       "      <th>198</th>\n",
       "      <td>199</td>\n",
       "      <td>Male</td>\n",
       "      <td>32</td>\n",
       "      <td>137</td>\n",
       "      <td>18</td>\n",
       "    </tr>\n",
       "    <tr>\n",
       "      <th>199</th>\n",
       "      <td>200</td>\n",
       "      <td>Male</td>\n",
       "      <td>30</td>\n",
       "      <td>137</td>\n",
       "      <td>83</td>\n",
       "    </tr>\n",
       "  </tbody>\n",
       "</table>\n",
       "<p>200 rows × 5 columns</p>\n",
       "</div>"
      ],
      "text/plain": [
       "     CustomerID  Gender  Age  Annual Income (k$)  Spending Score (1-100)\n",
       "0             1    Male   19                  15                      39\n",
       "1             2    Male   21                  15                      81\n",
       "2             3  Female   20                  16                       6\n",
       "3             4  Female   23                  16                      77\n",
       "4             5  Female   31                  17                      40\n",
       "..          ...     ...  ...                 ...                     ...\n",
       "195         196  Female   35                 120                      79\n",
       "196         197  Female   45                 126                      28\n",
       "197         198    Male   32                 126                      74\n",
       "198         199    Male   32                 137                      18\n",
       "199         200    Male   30                 137                      83\n",
       "\n",
       "[200 rows x 5 columns]"
      ]
     },
<<<<<<< HEAD
     "execution_count": 3,
=======
     "execution_count": 14,
>>>>>>> aae1977bdae98b7b6e6519b20c8b54e88b641e62
     "metadata": {},
     "output_type": "execute_result"
    }
   ],
   "source": [
    "mall_customers_df"
   ]
  },
  {
   "cell_type": "markdown",
   "id": "a5b1adeb",
   "metadata": {},
   "source": [
    "## 2. Khám phá dữ liệu "
   ]
  },
  {
   "cell_type": "markdown",
   "id": "a64e3abc",
   "metadata": {},
   "source": [
    "### Dữ liệu có bao nhiều cột, bao nhiêu dòng ?"
   ]
  },
  {
   "cell_type": "code",
<<<<<<< HEAD
   "execution_count": 4,
=======
   "execution_count": 15,
>>>>>>> aae1977bdae98b7b6e6519b20c8b54e88b641e62
   "id": "d6f9de81",
   "metadata": {},
   "outputs": [
    {
     "name": "stdout",
     "output_type": "stream",
     "text": [
      "Rows: 200 \n",
      "Cols: 5\n"
     ]
    }
   ],
   "source": [
    "num_rows, num_cols = mall_customers_df.shape\n",
    "print(f'Rows: {num_rows} \\nCols: {num_cols}')"
   ]
  },
  {
   "cell_type": "markdown",
   "id": "361361fe",
   "metadata": {},
   "source": [
    "### Kiểm tra trùng lặp"
   ]
  },
  {
   "cell_type": "code",
<<<<<<< HEAD
   "execution_count": 5,
=======
   "execution_count": 16,
>>>>>>> aae1977bdae98b7b6e6519b20c8b54e88b641e62
   "id": "b9000127",
   "metadata": {},
   "outputs": [
    {
     "data": {
      "text/plain": [
       "False"
      ]
     },
<<<<<<< HEAD
     "execution_count": 5,
=======
     "execution_count": 16,
>>>>>>> aae1977bdae98b7b6e6519b20c8b54e88b641e62
     "metadata": {},
     "output_type": "execute_result"
    }
   ],
   "source": [
    "have_duplicated_rows = mall_customers_df.duplicated().any()\n",
    "have_duplicated_rows"
   ]
  },
  {
   "cell_type": "markdown",
   "id": "f289f430",
   "metadata": {},
   "source": [
    "### Mỗi cột có ý nghĩa gì?"
   ]
  },
  {
   "cell_type": "markdown",
   "id": "526b9bc7",
   "metadata": {},
   "source": [
    "**CustomerID**: Unique ID assigned to the customer\n",
    "\n",
    "**Gender**: Gender of the customer\n",
    "\n",
    "**Age**: Age of the customer\n",
    "\n",
    "**Annual Income**: Annual Income of the customer (k$)\n",
    "\n",
    "**Spending**: Score assigned by the mall based on customer behavior and spending nature"
   ]
  },
  {
   "cell_type": "markdown",
   "id": "2070d5fe",
   "metadata": {},
   "source": [
    "### Chi tiết từng cột"
   ]
  },
  {
   "cell_type": "code",
<<<<<<< HEAD
   "execution_count": 6,
=======
   "execution_count": 17,
>>>>>>> aae1977bdae98b7b6e6519b20c8b54e88b641e62
   "id": "88519783",
   "metadata": {},
   "outputs": [
    {
     "name": "stdout",
     "output_type": "stream",
     "text": [
      "<class 'pandas.core.frame.DataFrame'>\n",
      "RangeIndex: 200 entries, 0 to 199\n",
      "Data columns (total 5 columns):\n",
      " #   Column                  Non-Null Count  Dtype \n",
      "---  ------                  --------------  ----- \n",
      " 0   CustomerID              200 non-null    int64 \n",
      " 1   Gender                  200 non-null    object\n",
      " 2   Age                     200 non-null    int64 \n",
      " 3   Annual Income (k$)      200 non-null    int64 \n",
      " 4   Spending Score (1-100)  200 non-null    int64 \n",
      "dtypes: int64(4), object(1)\n",
      "memory usage: 7.9+ KB\n"
     ]
    }
   ],
   "source": [
    "mall_customers_df.info()"
   ]
  },
  {
   "cell_type": "code",
<<<<<<< HEAD
   "execution_count": 7,
=======
   "execution_count": 18,
>>>>>>> aae1977bdae98b7b6e6519b20c8b54e88b641e62
   "id": "edf0235d",
   "metadata": {},
   "outputs": [
    {
     "data": {
      "text/plain": [
       "CustomerID                200\n",
       "Gender                      2\n",
       "Age                        51\n",
       "Annual Income (k$)         64\n",
       "Spending Score (1-100)     84\n",
       "dtype: int64"
      ]
     },
<<<<<<< HEAD
     "execution_count": 7,
=======
     "execution_count": 18,
>>>>>>> aae1977bdae98b7b6e6519b20c8b54e88b641e62
     "metadata": {},
     "output_type": "execute_result"
    }
   ],
   "source": [
    "mall_customers_df.nunique()"
   ]
  },
  {
   "cell_type": "markdown",
   "id": "15fddbbd",
   "metadata": {},
   "source": [
    "Dữ liệu sạch, không có giá trị rỗng cũng như phân loại đầy đủ. Ngoại trừ cột Gender ra thì các cột còn lại đều là số."
   ]
  },
  {
   "cell_type": "markdown",
   "id": "c752e257",
   "metadata": {},
   "source": [
    "### Thống kê cơ bản từng biến "
   ]
  },
  {
   "cell_type": "code",
<<<<<<< HEAD
   "execution_count": 8,
=======
   "execution_count": 19,
>>>>>>> aae1977bdae98b7b6e6519b20c8b54e88b641e62
   "id": "4d0d0849",
   "metadata": {},
   "outputs": [
    {
     "data": {
      "text/html": [
       "<div>\n",
       "<style scoped>\n",
       "    .dataframe tbody tr th:only-of-type {\n",
       "        vertical-align: middle;\n",
       "    }\n",
       "\n",
       "    .dataframe tbody tr th {\n",
       "        vertical-align: top;\n",
       "    }\n",
       "\n",
       "    .dataframe thead th {\n",
       "        text-align: right;\n",
       "    }\n",
       "</style>\n",
       "<table border=\"1\" class=\"dataframe\">\n",
       "  <thead>\n",
       "    <tr style=\"text-align: right;\">\n",
       "      <th></th>\n",
       "      <th>CustomerID</th>\n",
       "      <th>Age</th>\n",
       "      <th>Annual Income (k$)</th>\n",
       "      <th>Spending Score (1-100)</th>\n",
       "    </tr>\n",
       "  </thead>\n",
       "  <tbody>\n",
       "    <tr>\n",
       "      <th>count</th>\n",
       "      <td>200.000000</td>\n",
       "      <td>200.000000</td>\n",
       "      <td>200.000000</td>\n",
       "      <td>200.000000</td>\n",
       "    </tr>\n",
       "    <tr>\n",
       "      <th>mean</th>\n",
       "      <td>100.500000</td>\n",
       "      <td>38.850000</td>\n",
       "      <td>60.560000</td>\n",
       "      <td>50.200000</td>\n",
       "    </tr>\n",
       "    <tr>\n",
       "      <th>std</th>\n",
       "      <td>57.879185</td>\n",
       "      <td>13.969007</td>\n",
       "      <td>26.264721</td>\n",
       "      <td>25.823522</td>\n",
       "    </tr>\n",
       "    <tr>\n",
       "      <th>min</th>\n",
       "      <td>1.000000</td>\n",
       "      <td>18.000000</td>\n",
       "      <td>15.000000</td>\n",
       "      <td>1.000000</td>\n",
       "    </tr>\n",
       "    <tr>\n",
       "      <th>25%</th>\n",
       "      <td>50.750000</td>\n",
       "      <td>28.750000</td>\n",
       "      <td>41.500000</td>\n",
       "      <td>34.750000</td>\n",
       "    </tr>\n",
       "    <tr>\n",
       "      <th>50%</th>\n",
       "      <td>100.500000</td>\n",
       "      <td>36.000000</td>\n",
       "      <td>61.500000</td>\n",
       "      <td>50.000000</td>\n",
       "    </tr>\n",
       "    <tr>\n",
       "      <th>75%</th>\n",
       "      <td>150.250000</td>\n",
       "      <td>49.000000</td>\n",
       "      <td>78.000000</td>\n",
       "      <td>73.000000</td>\n",
       "    </tr>\n",
       "    <tr>\n",
       "      <th>max</th>\n",
       "      <td>200.000000</td>\n",
       "      <td>70.000000</td>\n",
       "      <td>137.000000</td>\n",
       "      <td>99.000000</td>\n",
       "    </tr>\n",
       "  </tbody>\n",
       "</table>\n",
       "</div>"
      ],
      "text/plain": [
       "       CustomerID         Age  Annual Income (k$)  Spending Score (1-100)\n",
       "count  200.000000  200.000000          200.000000              200.000000\n",
       "mean   100.500000   38.850000           60.560000               50.200000\n",
       "std     57.879185   13.969007           26.264721               25.823522\n",
       "min      1.000000   18.000000           15.000000                1.000000\n",
       "25%     50.750000   28.750000           41.500000               34.750000\n",
       "50%    100.500000   36.000000           61.500000               50.000000\n",
       "75%    150.250000   49.000000           78.000000               73.000000\n",
       "max    200.000000   70.000000          137.000000               99.000000"
      ]
     },
<<<<<<< HEAD
     "execution_count": 8,
=======
     "execution_count": 19,
>>>>>>> aae1977bdae98b7b6e6519b20c8b54e88b641e62
     "metadata": {},
     "output_type": "execute_result"
    }
   ],
   "source": [
    "mall_customers_df.describe()"
   ]
  },
  {
   "cell_type": "markdown",
   "id": "deda9a2b",
   "metadata": {},
   "source": [
    "Nhận xét:\n",
    "- Bởi vì ta có tổng cộng 200 khách hàng được ghi nhận mà CustomerID lại nằm trong khoảng từ 1-200 tức mỗi khách hàng có ID khác nhau nên cột này không có nhiều ý nghĩa phân cụm cũng như trực quan.\n",
<<<<<<< HEAD
    "- Độ tuổi khách hàng từ 18-70 tuổi\n",
=======
>>>>>>> aae1977bdae98b7b6e6519b20c8b54e88b641e62
    "- ..."
   ]
  },
  {
   "cell_type": "markdown",
   "id": "517e71e3",
   "metadata": {},
   "source": [
    "### Tiền xử lý"
   ]
  },
  {
   "cell_type": "markdown",
   "id": "eac6f502",
   "metadata": {},
   "source": [
    "Ta sẽ bỏ cột CustomerID, ngoài ra ta cũng có thể tiền xử lý cột Gender. Tuy nhiên, việc này không đem lại nhiều lợi ý vì dù Gender có đổi sang số thì lúc này chỉ có hai giá trị. Khi trực quan ra biểu đồ, các điểm dữ liệu sẽ tập trung thành một hàng ngang, ảnh hưởng đến mô hình cũng như phân cụm dữ liệu. Ta sẽ encode chúng khi muốn sử dụng các mô hình phân lớp hoặc hồi quy khác."
   ]
  },
  {
   "cell_type": "code",
<<<<<<< HEAD
   "execution_count": 9,
=======
   "execution_count": 20,
>>>>>>> aae1977bdae98b7b6e6519b20c8b54e88b641e62
   "id": "cdeccf27",
   "metadata": {},
   "outputs": [],
   "source": [
    "mall_customers_df = mall_customers_df.drop(\"CustomerID\",axis=1)"
   ]
  },
  {
   "cell_type": "code",
<<<<<<< HEAD
   "execution_count": 10,
=======
   "execution_count": 21,
>>>>>>> aae1977bdae98b7b6e6519b20c8b54e88b641e62
   "id": "3c64958a",
   "metadata": {},
   "outputs": [
    {
     "data": {
      "text/html": [
       "<div>\n",
       "<style scoped>\n",
       "    .dataframe tbody tr th:only-of-type {\n",
       "        vertical-align: middle;\n",
       "    }\n",
       "\n",
       "    .dataframe tbody tr th {\n",
       "        vertical-align: top;\n",
       "    }\n",
       "\n",
       "    .dataframe thead th {\n",
       "        text-align: right;\n",
       "    }\n",
       "</style>\n",
       "<table border=\"1\" class=\"dataframe\">\n",
       "  <thead>\n",
       "    <tr style=\"text-align: right;\">\n",
       "      <th></th>\n",
       "      <th>Gender</th>\n",
       "      <th>Age</th>\n",
       "      <th>Annual Income (k$)</th>\n",
       "      <th>Spending Score (1-100)</th>\n",
       "    </tr>\n",
       "  </thead>\n",
       "  <tbody>\n",
       "    <tr>\n",
       "      <th>0</th>\n",
       "      <td>Male</td>\n",
       "      <td>19</td>\n",
       "      <td>15</td>\n",
       "      <td>39</td>\n",
       "    </tr>\n",
       "    <tr>\n",
       "      <th>1</th>\n",
       "      <td>Male</td>\n",
       "      <td>21</td>\n",
       "      <td>15</td>\n",
       "      <td>81</td>\n",
       "    </tr>\n",
       "    <tr>\n",
       "      <th>2</th>\n",
       "      <td>Female</td>\n",
       "      <td>20</td>\n",
       "      <td>16</td>\n",
       "      <td>6</td>\n",
       "    </tr>\n",
       "    <tr>\n",
       "      <th>3</th>\n",
       "      <td>Female</td>\n",
       "      <td>23</td>\n",
       "      <td>16</td>\n",
       "      <td>77</td>\n",
       "    </tr>\n",
       "    <tr>\n",
       "      <th>4</th>\n",
       "      <td>Female</td>\n",
       "      <td>31</td>\n",
       "      <td>17</td>\n",
       "      <td>40</td>\n",
       "    </tr>\n",
       "    <tr>\n",
       "      <th>...</th>\n",
       "      <td>...</td>\n",
       "      <td>...</td>\n",
       "      <td>...</td>\n",
       "      <td>...</td>\n",
       "    </tr>\n",
       "    <tr>\n",
       "      <th>195</th>\n",
       "      <td>Female</td>\n",
       "      <td>35</td>\n",
       "      <td>120</td>\n",
       "      <td>79</td>\n",
       "    </tr>\n",
       "    <tr>\n",
       "      <th>196</th>\n",
       "      <td>Female</td>\n",
       "      <td>45</td>\n",
       "      <td>126</td>\n",
       "      <td>28</td>\n",
       "    </tr>\n",
       "    <tr>\n",
       "      <th>197</th>\n",
       "      <td>Male</td>\n",
       "      <td>32</td>\n",
       "      <td>126</td>\n",
       "      <td>74</td>\n",
       "    </tr>\n",
       "    <tr>\n",
       "      <th>198</th>\n",
       "      <td>Male</td>\n",
       "      <td>32</td>\n",
       "      <td>137</td>\n",
       "      <td>18</td>\n",
       "    </tr>\n",
       "    <tr>\n",
       "      <th>199</th>\n",
       "      <td>Male</td>\n",
       "      <td>30</td>\n",
       "      <td>137</td>\n",
       "      <td>83</td>\n",
       "    </tr>\n",
       "  </tbody>\n",
       "</table>\n",
       "<p>200 rows × 4 columns</p>\n",
       "</div>"
      ],
      "text/plain": [
       "     Gender  Age  Annual Income (k$)  Spending Score (1-100)\n",
       "0      Male   19                  15                      39\n",
       "1      Male   21                  15                      81\n",
       "2    Female   20                  16                       6\n",
       "3    Female   23                  16                      77\n",
       "4    Female   31                  17                      40\n",
       "..      ...  ...                 ...                     ...\n",
       "195  Female   35                 120                      79\n",
       "196  Female   45                 126                      28\n",
       "197    Male   32                 126                      74\n",
       "198    Male   32                 137                      18\n",
       "199    Male   30                 137                      83\n",
       "\n",
       "[200 rows x 4 columns]"
      ]
     },
<<<<<<< HEAD
     "execution_count": 10,
=======
     "execution_count": 21,
>>>>>>> aae1977bdae98b7b6e6519b20c8b54e88b641e62
     "metadata": {},
     "output_type": "execute_result"
    }
   ],
   "source": [
    "mall_customers_df"
   ]
  },
  {
   "cell_type": "markdown",
<<<<<<< HEAD
=======
   "id": "ea9a2ede",
   "metadata": {},
   "source": [
    "### Trực quan hóa dữ liệu"
   ]
  },
  {
   "cell_type": "markdown",
>>>>>>> aae1977bdae98b7b6e6519b20c8b54e88b641e62
   "id": "c26898d7",
   "metadata": {},
   "source": [
    "#### Trần Quốc Việt"
   ]
  },
  {
   "cell_type": "markdown",
   "id": "9f0f7840",
   "metadata": {},
   "source": []
  },
  {
   "cell_type": "code",
<<<<<<< HEAD
   "execution_count": 11,
   "id": "f62b9fc5",
   "metadata": {},
   "outputs": [
    {
     "data": {
      "text/html": [
       "<div>\n",
       "<style scoped>\n",
       "    .dataframe tbody tr th:only-of-type {\n",
       "        vertical-align: middle;\n",
       "    }\n",
       "\n",
       "    .dataframe tbody tr th {\n",
       "        vertical-align: top;\n",
       "    }\n",
       "\n",
       "    .dataframe thead th {\n",
       "        text-align: right;\n",
       "    }\n",
       "</style>\n",
       "<table border=\"1\" class=\"dataframe\">\n",
       "  <thead>\n",
       "    <tr style=\"text-align: right;\">\n",
       "      <th></th>\n",
       "      <th>Gender</th>\n",
       "    </tr>\n",
       "  </thead>\n",
       "  <tbody>\n",
       "    <tr>\n",
       "      <th>Female</th>\n",
       "      <td>112</td>\n",
       "    </tr>\n",
       "    <tr>\n",
       "      <th>Male</th>\n",
       "      <td>88</td>\n",
       "    </tr>\n",
       "  </tbody>\n",
       "</table>\n",
       "</div>"
      ],
      "text/plain": [
       "        Gender\n",
       "Female     112\n",
       "Male        88"
      ]
     },
     "execution_count": 11,
     "metadata": {},
     "output_type": "execute_result"
    }
   ],
   "source": [
    "gender=mall_customers_df['Gender'].value_counts().to_frame()\n",
    "gender"
   ]
  },
  {
   "cell_type": "markdown",
   "id": "ab96ae6e",
   "metadata": {},
   "source": [
    "### Distribution of Age\n"
   ]
  },
  {
   "cell_type": "markdown",
   "id": "c501f1c4",
   "metadata": {},
   "source": [
    "- Tạo `xticks` cho biểu đồ"
   ]
  },
  {
   "cell_type": "code",
   "execution_count": 14,
   "id": "234e2209",
   "metadata": {},
   "outputs": [
    {
     "data": {
      "text/plain": [
       "[0, 18, 10, 15, 20, 25, 30, 35, 40, 45, 50, 55, 60, 65, 70]"
      ]
     },
     "execution_count": 14,
     "metadata": {},
     "output_type": "execute_result"
    }
   ],
   "source": [
    "def arithmetic_progression(n, x):\n",
    "    return list(range(n, x + 1, n))\n",
    "b=arithmetic_progression(5, 70)\n",
    "b[0]=18\n",
    "b.insert(0, 0)\n",
    "b"
   ]
  },
  {
   "cell_type": "markdown",
   "id": "1eae15ea",
   "metadata": {},
   "source": [
    "- Tính các độ đo `lower_quantile`,`median`, `upper_quantile`"
   ]
  },
  {
   "cell_type": "code",
   "execution_count": 15,
   "id": "25d76e78",
   "metadata": {},
   "outputs": [],
   "source": [
    "lower_quantile=mall_customers_df['Age'].quantile(0.25)\n",
    "median=mall_customers_df['Age'].median()\n",
    "upper_quantile=mall_customers_df['Age'].quantile(0.75)"
   ]
  },
  {
   "cell_type": "code",
   "execution_count": 16,
   "id": "82922fad",
   "metadata": {},
   "outputs": [
    {
     "data": {
      "image/png": "iVBORw0KGgoAAAANSUhEUgAAA7UAAAJVCAYAAAABatIDAAAAOXRFWHRTb2Z0d2FyZQBNYXRwbG90bGliIHZlcnNpb24zLjUuMSwgaHR0cHM6Ly9tYXRwbG90bGliLm9yZy/YYfK9AAAACXBIWXMAAAsTAAALEwEAmpwYAACG6UlEQVR4nOzdd3Qc1d3G8WebVr1LlmTJcu+9YmNjMCRA6JgWQkINHRICAUILPRAgEFpoBl5KaDahhF5swBj33ptsyZZs9V53d94/BAoGF0ne2dldfT/n+FiaLfe5mtFqf3tn7rUZhmEIAAAAAIAQZLc6AAAAAAAAnUVRCwAAAAAIWRS1AAAAAICQRVELAAAAAAhZFLUAAAAAgJBFUQsAAAAACFkUtQAAAACAkOW0OoC/VFTUyedjyd2uJCUlVmVltVbHsESw9j0QuYK174EQqn2PuzhSklTzTGOnHh+q/faHjvY97uLzJUk1z7xgVqSAYb+Hdt/jvv7+WDysY8diOPS9s+g7fe9KOtpvu92mpKSYfd4eNkWtz2dQ1HZBXXmfB2vfA5ErWPseCKHY94ZTmiUdXPZQ7Le/dKjvu3Z1/DFBLFz60Rkh3/e6zh+LId/3g0Dfu6au2nd/9jtsiloAQHBqPtprdQQAABDGuKYWAGAqx2abHJttVscAAABhipFaAICpYq9rvaa26p0Gi5MAALoCr9ejiooSeTzNVkc5oOJiu3w+n9UxAm5f/bbbHYqKilVsbIJstvZ/IE5RCwAAACBsVFSUKDIyWjExGR0qjKzgdNrl8XS9onZv/TYMQ16vRzU1laqoKFFycnq7n4/TjwEAAACEDY+nWTEx8UFf0GJPNptNTqdLiYkpam7u2IoJFLUAAAAAwgoFbeiy2eySOjYzMkUtAAAAACBkUdQCAExVf02z6q8J/sk6AAAww9Kli3XllRdbHcNUV111SdvX5513tiRpxoynNWPG0wFpn4miAACmapnKOrUAAISzZcuWtH394ov/Dnj7FLUAAFM5VrWeFOQdZs7sjlVNlRr/yghVN1er6LKKtu3Hv/1LLdw1f4/7js84RP899VNTcgAAsD/5+dv197/fo5qaakVGRumPf7xOLpdD99//Nz377P+poaFBxx57hJ544jkNGTJUDzxwr0aPHqdRo0brgQfu1e7du2W323XJJVdo3LgJmjHjaa1Zs1rFxbt06qln6NRTT99ru4WFO3XXXbepvr5eI0aM1Jdffq7//veztlHUCy9sHWU97bQT9NhjTys+Pl5/+9tdKikpVmlpiUaOHKVbbrlTy5Yt0csvv6DIyEht25anPn366q9/vUdPPPGIJOn3vz9Xzz77f5o8eazmzl28R4b58+dpxoyn5PF4lJnZXTfffKtiYuL99rOlqAUAmCr2Vrckc9aprW6q0rkfna2Kpgo5bI627YZhaE3ZakU7o3VYzhFt2wckDfR7BgBAcEs4Oepn25pO9KjxghapXko4++e3N57VoqazPLKV2RR/YeTPbz+vRU0nezqU4667btU555ynqVOnafXqVbrllhv01lvvqKysVLW1tVq9eqXi4uK1fPkSDRkyVIsXL9Rll12tBx64R8cdd6ImT56q0tJSXX75hW2joc3NTXrllbf22+4//nG/jj76Vzr55On66KP/6u2393//efPmql+//rr77vvV0tKic845XRs2rJckrV69Uq++OlOpqWm65JLztGDBd/rjH/+smTPf0LPP/t9en6+iokJPPfW4Hn30KcXHx+udd2bp8ccf1Q033NKhn9/+UNQCAELSu5vf1h3zbtWO2oKf3ba1arPqWmo1MetQvXTsaxakAwDgfxoaGlRYuFNTp06TJA0dOkzx8fHavn2bxo2boGXLFmvVqhU644xfa/nypZo0aYq6dctQbGysFi9eqO3bt+u551pHVj0ej3bu3CFJGjx46AHbXr58qe64415J0jHHHKcHHrh3v/f/xS+O0dq1q/Xmm//Wtm15qqqqUkNDvSSpV68+Sk/vJknKze2lmprqA7a/du1q7d69S1dffakkyefzKiEh4YCP6wiKWgBASHpkyUMqbyzT9eNu0t8X7fkHelXJSklSs7dZf/jyctlk0+kDztKh3adYERUAYKH9nikUvf/bjRTDL2caGYZPhmH8ZJvk9Xo1ceKhWrx4odavX6d//OMxvfvu25o37xtNmjRZkuT1+vToo/9SfHxrIVhaWqKkpGR9/fUcud3uA7btdrv1Q9M2m00Oh6Pt6x9n8nhaR55nznxdc+Z8qRNPPEWnnTZeeXlb2u4XERHRdv+fPn5ffD6vhg8fofvvf1iS1NTU1OF1aA+E2Y8BACHp/KEX6buzl+qMAb/+2W2rSluL2iW7F+m19a/o3+tf1qnvHq93N78d6JgAACg6Okbdu2frq6++lCStXr1K5eVl6tOnr8aNm6AFC+bLbrcrJiZW/foN0Ftvva5Jk1o/iB0zZmzbKcN5eVt17rlnqamp/UXhuHGH6KOP/itJ+uabOWpoaC3SExISlZe3VVLraGpZWakkadGiBTrxxFP1y18eK8mmTZs2yufb/7wYDoejrSj+qcGDh2rNmlXKz98uSXrxxef02GOPtDt/ezBSCwAISb8bcr4kKb96+89u6xbdTRMyJ+rMAWfrxD4n66W1L+rO727VzXNv0PG9T5LD7vjZYwAAMNNtt92lBx64VzNmPC2XK0L33PN3uVwuxcQ41K1bNw0cOFhSaxGbl7dVPXrkSpKuueZ6/f3v9+jcc8+SYRi65ZY7FR0d0+52//CHa/W3v92lDz54T/37D2jbftRRv9RXX32pc845XQMGDFS/fq23nXHG2Xrwwb/p9ddfVnR0jIYOHa6iokJ17569zzYmTz5M5513tmbMePlnt6WkpOrGG2/Tbbf9RT6fV2lp3XTnnXe3O3972Iz2jBmHgLKyWvl8YdEVtFNaWpxKSmqsjmGJYO17IHIFa98DIVT77lzYelKQZ3znZj8+UL/zq7dr7CvD5LA59pj9+McMw1Cf57JV21Kj+WcvVe/Evp3KEmgd3ecJJ/9KklT1zodmRQqYUD3e/SEc+p7wyffH4tEdOxbDoe+dRd/91/ddu7YrIyPXb89nJqfTLo/HnNUB9mVvsxMH2oH6/dN9aLfblJISu+/n82s6AAB+orPF7MEoqMnXrroiDUsdoUhnpGw2m1z21j95Lb6OzVYJAECwe+KJf2rRogU/2z5w4CDdeOOtFiQKLIpaAICpDnaktjN+++FZWlu2Wo9Ne0pnDjxbi3ctVEVThZIjk9UroXfAcgAAEAhXXPGHdt/X6lFaMzBRFADAVDH3uhVz74FnZ/Sny0deJUm6Zs6VOvXd43XG+6dIkq4de4MiHBH7eygAAAgxjNQCAMLOGQN+LZ/h07+WP6bFuxaqW0yGbppwqy4afqnV0QAAgJ9R1AIAQlqP+FwVX/7zxd/PGvgbnTXwNxYkAgAAgcTpxwAAAACAkEVRCwAAAAAIWZx+DAAwVe1dTQf1+JweudpRkO+nNPuW1T1Hy5etMb0dAAA6Y+nSxXr++Wf0+OPP6L777tLJJ0/XwIGDrY4VFChqAQCm8g47uKV8dhTk65lZy/0TZj8unj7S9DYAAPCHrrD2bEdQ1AIATOX6yiFJapnqtTgJAKCrcb/xb0W+9oopz93463PUdObZB7zf0qWL9dJLz8swpMLCHTr88CMVExOjb775SpKhBx74pzZu3KAZM56Sx+NRZmZ33XDDzUpISNTChfP16KP/UEREhHJze7Y955VXXqwLLrhYw4eP1EMP3aetW7eovLxcPXrk6t57/67y8nLddNN16t27jzZu3KDk5BTdddd9io9PMOVnYTWuqQUAmCr64QhFP8zasACArmvt2jW66abb9PLLb+qdd2YqMTFJM2a8rL59++mdd2bpqace10MPPa4XXvi3xo8/RP/612Nqbm7WPff8VXfffb+ef/4Vud0/X/N99eqVcjpdevrpF/TGG/9RU1OjvvvuW0nS5s2bdOaZv9HLL7+p2NhYffrpR4HudsAwUgsAAAAgLDWdeXa7RlPN1rt3H3XrliFJSkhI1Nix4yVJGRmZmjv3G+3evUtXX926lrrP51V8fIK2bt2slJQ09ezZS5J07LHH69ln/7XH844cOVrx8QmaNetN5edv044dBWpoaJAkJSUlq3//gd+331fV1T9f/i5cUNQCAAAAgImczj3LLofD0fa1z+fV8OEjdP/9D0uSmpqaVF9fr927d8kwfHt9zA/mzv1Kzz33tE4//Sz96lcnqrKyUoZhSJIiIvY8S+qH7eGI048BAAAAwCKDBw/VmjWrlJ+/XZL04ovP6ckn/6m+ffupoqJCmzZtlCR9/vknP3vs4sULNW3aUTruuBOVkpKiFSuWyefrenNYMFILAAAAABZJTk7RjTfepttu+4t8Pq/S0rrpttvulNPp1O2336O7775NDoej7VTiHzvhhFN0xx03a/bsz+VyRWjIkKEqLCzUmDEWdMRCFLUAAFPVPthodQQAACwzevRYjR49tu37mTPfb/v697+/VB5P6ynGkycf9rPHjhw5Wv/3f6//bPvjjz/T9vVLL72x13Z/3M6FF17S8eAhhKIWAGAqb9/wvYYHAABYj2tqAQCmivjEoYhPfj65BQAAgD8wUgsAMFXUv1pnX2w+usHiJAAAIBwxUgsAAAAACFkUtQAAAACAkEVRCwAAAAAIWRS1AAAAAICDUli4U3/7252SpPXr1+q+++6SJF155cVaunSxqW0zURQAwFQ1T7BOLQAA4W7XriLt3LlDkjRw4GDdeOPggLVNUQsAMJWvO+vUAgC6rqVLF+v555/R448/I0m6557bNWrUGL3++ivKzs5Rfn6+MjIydNttdyk+PkHHH3+UJk2aog0b1ik6Olq33Xa3MjOztG7dGj366D/U1NSohIRE/fnPNykrq7uuvPJixccnKC9vi+6882/q12/AXnMsWPCdHn/8YUVEuDVq1BitX79Wjz/+jK688mJdcMHFGj16rIqKCnXVVZdo5sz3tXXrZj388ANqaGhQRUW5zjrrHJ1++lmaMeNplZaWqKAgX7t379Lxx5+kc8+9UP/854MqLNyphx66X0ccceQeff7Byy+/qNmzP5PP59P48Yfossuuls1mO+ifMUUtAMBU7nda/9Q0neyxOAkAoKtxb/m3Ije/YspzN/Y9R019zu7047du3aJrr71BI0aM1mOPPaznn39Gf/zjn1VZWalRo8boppv+qpkzX9cjjzygu+/+u+67727df//DysjI0IIF3+n+++/RP//5pCSpT5++uvfeB/bZVlNTk+6++6/65z+fVO/efXXvvXccMN/777+rc8+9UGPHjtfOnTt03nln6/TTz5Ikbd68SU8++Zxqa2t0xhkn69RTz9Af/nCdnn/+GV177Q17Pd14/vx52rBhnZ599iW5XA799a+36NNPP9LRR/+qkz/B/6GoBQCYKvJFlySKWgAAfiwnp4fGjBkrj8enY489XnfccbMkKSLCrWOOOU6SdOyxx+vpp59QQcF2FRbu0I03/qnt8XV1dW1fDx48dL9tbd26WWlpaerdu68k6YQTTtbTTz+x38dceeUftWDBd3r55Re0efMmNTTUt902evRYuVwuJSUlKz4+XnV1tQfs7+LFC7V27WpdeOFvZbNJjY2N6tYt44CPaw+KWgAAAABhqanP2Qc1muoPPz291uNp/ZDX4fhfKWYYvrbv7XZb22N8PkMOh0Ner09ZWd314ov/liR5vV5VVJS3Pd7tdu83g9vtlmH873Igp/N/bf843w/ZJOm2225UXFy8Dj10io488pf64otP226LiIjY4/E/fu598fm8OuOMX+uss86R02lXRUWVHA7HAR/XHsx+DADAAVQ1VWrAjFxl/itpr7fvqClQ72e7K/3J+KBuAwAQeAkJiSos3KmmpiZVV1dpxYplkqSCgu3auHGDJOmDD97XIYdMktQ6gjl37teSpA8/fE8TJkxSbm5PVVdXtz32gw/e0+2339zuDD169FR9fb02blwvSfrss4/3yJeXt0WS9M03c9q2L1q0UBdddKmmTDlcy5cvldRaTO+Lw+Hc7+2jR4/TJ598qPr6enk8Hv3lL9dqzpwv2t2H/WGkFgCA/ahuqtK5H52tiqYKOWx7/0T5mtlXqralJqjbAABYo3fvPpo48VD99rdnKDMzSyNGjJIkxcXF69lnn1JBQYH69OmrG2+8te0xs2d/rmeffVIpKWm65ZbbFRERobvuuk///OeDam5uVnR0jG655cDXxf7A6XTqjjvu1QMP3Pv9qG9W222/+c3vdM89t+uDD97TlCmHt22/4ILf67LLLlJcXKxycnKVmZmloqLCfbbRs2dP1dbW6K67btVxx530s9snTz5Mmzdv1MUXnyfD8Gn8+Ik69tjj292H/bEZ7RkrDgFlZbXy+cKiK2intLQ4lZR0zTd4wdr3QOQK1r4HQqj2PeHkKElS1TsNnXp8enq8npm13I+J9u7i6SNVXFy9x7Z3N7+tO+bdqh21BZIkh82hossq9rjPy2tf1LVzrm77vvjyPZ/jQPbXxg/7vL1tJJzcOtlG1TsfdihDMArV490fwqHvCZ98fywe3bFjMRz63ln03X9937VruzIycv32fGb4YZbhd975QB6Pb4/bJk8eq7lzzV3X9aczMgea02n/Wb9/7Kf70G63KSUldt/P59d0AAD8RPWM0F2n9pElD6m8sUzXj7tJf190789uL6zdqdvn3aKhqcO1unRl0LYBAOgarrrqEtXU/PwDgpNPPlUnn3yaBYkCg6IWAGAqIyV0z6I5f+hF+kXu0Wrxtey14PzTnKvU4KnXP494Qke+NSVo2wAABJfMzCzNnPn+Xm87mFHaxx57ul33Gz16rEaPHtvpdoINE0UBAEzlft0p9+uh+Rnq74acr8zYrL3e9u91L+vL/M915cg/aljaCFPaeH7Z835pAwCAcEZRCwAwVeTrLkW+7rI6hl8V1Rbqtm9vUr/E/rp23A2mtfGnT/5kahsAEK7CZNqgLskwfJJsB7zfj1HUAgDQQV/tmK3q5iptqtyonKfT9lhmJ/3JeL2+/lW/tFHVZG4bABCOnM4I1dVVU9iGGMMw5PG0qLKyVBERkR16bGieDwYAgIW6x2brmF7H7bHt47wPJEnH9DpO3WOz/dLGSQNOUlOzx7Q2ACAcJSWlqaKiRLW1lVZHOSC73S6fb9+zAIerffXbbncoKipWsbEJHXo+S4ralStX6vLLL9fcuXP32O7z+XTuuedq6NChuuEGTrUCAASnKdlTNSV76h7bfhhJfenY1/zWxqmjjt9jmQt/twEA4cjhcCo1NdPqGO3SVZdy8ne/A3r6sWEYmjlzpi644AK1tLT87Pbnn39eixebuyYTAAAAACB8BHSk9qmnntJHH32kSy+9VM8+++wet61fv15vv/22fvGLXwQyEgDAZFX/brA6wkHrEZ+r4sur93ufA90eDG0AABCOAjpSO336dL377rsaNmzYHtubm5t1ww036K677lJ0dHQgIwEAzBb9/T8AAAATBHSkNj09fa/bH3roIU2ePFljxozRW2+91annTkmJPZhoCFFpaXFWR7BMsPY9ELmCte+BEJJ9f/L7/y/v/FPExLj9EmV/bDa70tPjD3zHg+B0uuTx/PzyG3+ZLcntdmtiKB4nexGSx7ufhHzfXQ5JnetHyPf9IND3rqmr9t2f/bZ89uPvvvtO8+fP73Qx+4Oyslr5fEzb3ZV01QvrpeDteyByBWvfAyFU+57wapQkqer0zp+GXFfX5K84+2QYPj0za7mpbVw8fWSH2oiJcXeo7/1vu1Ab1ywJyePkp0L1ePeHcOh7QotXklTVwX6EQ987i77T966ko/222237HcS0vKj98MMPlZ+fr0mTJkmSGhsbZbPZtHXrVj399NMWpwMAAAAABDPLi9q77rpLd911V9v3N954o5KSkljSBwAAAABwQAGdKAoAAAAAAH+yZKR2woQJWrBgwV5vu++++wKcBgAAAAAQqiw//RgAEN6q3gn9dWoBAEDw4vRjAAAAAEDIoqgFAJgq6gmXop5wWR0DAACEKYpaAICpIj5zKuIzrnYBAADmoKgFAAAAAIQsiloAAAAAQMiiqAUAAAAAhCwucgIAmCvS6gAAACCcUdQCAExV9Trr1AIAAPNw+jEAAAAAIGRR1AIATBX9UISiH4qwOgYAAAhTFLUAAFO5vnHI9Y3D6hgAACBMUdQCAAAAAEIWRS0AAAAAIGRR1AIAAAAAQhZL+gAATGUkGVZHAAAAYYyiFgBgquoXGq2OAAAAwhinHwMAAAAAQhZFLQDAVDF3RyjmbtapBQAA5uD0YwCAqZyLWaMWAACYh5FaAAAAAEDIoqgFAAAAAIQsiloAAAAAQMjimloAgKl8maxTCwAAzENRCwAwVc2/WKcWAACYh9OPAQAAAAAhi6IWAGCqmFvcirnFbXUMAAAQpjj9GABgKudqPj8FAADm4Z0GAAAAACBkUdQCAAAAAEIWRS0AAAAAIGRxTS0AwFTePj6rIwAAgDBGUQsAMFXtQ01WRwAAAGGM048BAAAAACGLohYAYKrYa92KvZZ1agEAgDk4/RgAYCrHFj4/BQAA5uGdBgAAAAAgZFHUAgAAAABCFkUtAAAAACBkcU0tAMBUnqGsUwsAAMxDUQsAMFXd3axTCwAAzMPpxwAAAACAkEVRCwAwVdxlkYq7LNLqGAAAIExx+jEAwFT2IpvVEQAAQBhjpBYAAAAAELIoagEAAAAAIYuiFgAAAAAQsrimFgBgKs9Yr9URAABAGKOoBQCYqu6WZqsjAACAMMbpxwAAAACAkEVRCyAgqpoqNWBGrjL/lbTH9udWPqXJr41T7jPdNPHfo/Wv5Y/LZ/gsSgkzxJ8fqfjzWacWCGe8xgOwEkUtANNVN1Xp3I/OVkVTxR7bZ6x6WjfNvV6FtYUal3GIdtXt0l/n3aTHlz1iTVCYwlZhk62CtWqBcLWv1/gnqwp5jQcQEBS1AEz17ua3dfgbkzSvcO7PbntpzQuSpBePfVUzT3xXz/3yRUnSy2tfDGBCAEBn7e81/rnqXZJ4jQdgPopaAKZ6ZMlDKm8s0/XjbvrZbTcd8lfdf9g/NLbbeElSenQ3SVJZQ1lAMwIAOmd/r/F3JufyGg8gIJj9GICpzh96kX6Re7RafC36+6J797jt6J7H7vH9c6ueliSNzRgXsHwAgM7b32v88TEpqhp6Udv3vMYDMAtFLQBT/W7I+ZKk/Ort+73fQ4vv12vrX5FNNv1pzPWBiIYAaZnCOrVAuOI1HkAwoKgFYLm/L7xXDy6+T5J004TbdEjWJIsTwZ/qr2WdWqAr4zUegNm4phaApR5d+o+2NzvXj7tJfxhzrcWJAAD+wms8gEBgpBaAZT7f/onumX+HJOm6sTfqunE3WpwIZkg4K0qSVPV6g8VJAATSR3XlumcLr/EAzGdJUbty5Updfvnlmju3dfr3Xbt26c4779SSJUvkdDp1zDHH6IYbblBERIQV8QAEyB3zbpUhQw6bQ6tLV+p3H/1akuSwOfTCMa9YnA5+02h1AABW+EvZNl7jAQREQItawzA0a9Ys3XfffXI4HG3b//znP6tfv376+uuvVV1drSuuuEJPPPGErrnmmkDGAxBAmyo2akPFekmS1/Dq420ftt3msDn29TAAQAhY31yvdS31kniNB2C+gBa1Tz31lD766CNdeumlevbZZyVJzc3NioqK0mWXXSa32620tDSdcMIJ+uyzzwIZDYDJesTnqvjy6rbv+yX13+N7AEDo+ulr/MCIaDX1mayqoz/cz6MAwD8COlHU9OnT9e6772rYsGFt2yIiIvTMM88oLS2tbdvs2bM1cODAQEYDAAAAAISggI7Upqen7/d2wzB0zz33aOvWrXrggQc69NwpKbEHEw0hKi0tzuoIlgnGvuf0yNWOgnxT28jO6aGC/P2vhxjOgnG/H9Aprf8dTPaYGLefwljfTkfb6Mj9HfbWz6pD8jjZi3DpR2cEY9878ho/+7LW/4/4bXyH2uA1Pvj2e6DQ967Hn/0OmtmPGxsbdf3112vDhg16+eWXlZKS0qHHl5XVyuczTEqHYJSWFqeSkhqrY1giWPu+oyBfz8xabmobF08fGZR9D4Rg3e8HdO73/5d0/inq6pr8EiUY2ulIGzEx7g7d3+vzSVJoHic/EbLHux8Ea9878hrfv+hCSdIzs2Z0qA1e4+l7V9NV+97Rftvttv0OYgZFUVtZWamLLrpI0dHReuONN5SYmGh1JAAAAABACLC8qDUMQ1dddZVSU1P12GOPyeVyWR0JAOBHCSd/v07tO6xTCwAA/M/yonbZsmVauHCh3G63xo8f37Z98ODBevXVVy1MBgAAAAAIdpYUtRMmTNCCBQskSaNHj9aGDRusiAEAAAAACHEBXdIHAAAAAAB/oqgFAAAAAIQsy6+pBQCEt6YTPVZHAAAAYYyiFgBgqsYLWqyOAAAAwhinHwMAzFX//T8AAAATMFILADBVwtmsUwsAAMzDSC0AAAAAIGRR1AIAAAAAQhZFLQAAAAAgZFHUAgAAAABCFhNFAQBM1XgWS/oAAADzUNQCAEzVdJbH6ggAACCMcfoxAMBUtjKbbGU2q2MAAIAwxUgtAMBU8RdGSmKdWgAAYA5GagEAAAAAIYuiFgAAAAAQsihqAQAAAAAhi2tqAQBdjmEYavH4VN/kUWKsW5KUlDlAO0pq5bDb5XTY5HLYFR3plMtpl83GRFcAAAQriloAgKkazwuOdWpLKhu0s7ROVbXNqmtskcdrSJJOmJQrm82m7CFHaunG0j0e47Db9KtDekiSdpbWyeszlBznVkykk0IXAIAgQVELADBV08mBX6fW4/WppLJRu8vrNbhnkiJcDlXVNauorF6JsRFKjo9VtNup6Mj//Rnc8O0rOv/c8+Xx+eT1Gmr2eNXi8bUVr9uKalRW3ShJinI7lJEcrazUGKXERwa8fwAA4H8oagEAprLvbC0Kfd0NU9sxDEPlNU3K312rwu9HVZ0Om3LSY5WS4FCvzHj1yYrf5whrc0O1YqNd+3z+SUO7qaahReXVTdpdXq/tu2rU2OxtK2obm72KjHCY0jcAALBvFLUAAFPFXRGYdWrrGj36dtUuOew2dU+LUffvR1Ht9tYi1mE/uNOFbTab4qMjFB8doZ4ZcfJ4fWrx+CRJtQ0t+nLpTqUnRalf9wSlJDB6CwBAoFDUAgBCUrPHq7zCGjV7vBrWO0WxUS6NH5Su1IRIOR3mT+7vdNjb2nE57Oqfk6Btu2r07epdSomP1ICc1uKWa28BADAXRS0AIKR4vD7lFVVr845qtXh9ykiOkmEYstlsykiOtiSTO8KhgT2S1Ld7gvJ312rTjirNX1eso8Z0V2QEf2oBADATf2kBACGjtLJBSzaWqqnFq25JURqYm6SEmAirY7VxOuzqnRWv3IxYVdU2KzLCKcMwtG1XjbqnxlgdDwCAsERRCwAIej7DkN1mU2yUS/ExLvXPTgvq61YddruSv59Aqrq+Rau2lmtDQaUy+h5icTIAAMKP+RcdAQC6tIbLmtVwWXOnHlvf6NHQIy/R/DW7ZRiGIt1OTRySEdQF7U8lxERo6ohMRUU4NfbEG7V4fbGaWrxWxwIAIGxQ1AIATNV8tFfNR3e8iFu9tUy3zlig3GG/VFy0Sz5zVwQyVUKsW1OGZ2r93FdUVF6veat2yTBCuEMAAAQRiloAgKkcm21ybG7/DMANTR69+NE6/ePNFYqMcOjb12/UsN4pB70kj9Xsdps2L5ypqSOyNKxPsmw2mwzDkC+Uq3UAAIIARS0AwFSx10Uq9rr2ny5sGNKG/EodO6GHbj9/nCp3bTIxXeDFx0QoNSFKkrR5Z5W+Xb1LDU0ei1MBABC6KGoBAJbzGYa+XlGoFo9X0ZFO3XnheJ1+RF+5nA6ro5kqOtKlmvpmfb2iUOXVjVbHAQAgJDH7MQDAUrUNLXrm/TVavbVcknTYiKywL2Z/0D01RvHRLi1YV6x5q3dpeJ8U9egWZ3UsAABCCiO1AADLbN9VoztfXKT12yv021/215ThmVZHCri46AgdNjxTyfGRWrG5TDX1nZspGgCAroqRWgCAJRavL9Yz769VfIxLN/5mjHpnxVsdyTIRLocOGdJNFTVNiouOkCRmRwYAoJ0oagEApqq/Zu8jj93TYjSiT4p+e8wAxX9fyHVldptNKfGtE2oVldUpr6hGU0dnW5wKAIDgx+nHAABTtUz1qmVq6zq19Y0efba4QIZhKDMlRlecOoyCdi+8PkNl1Y36fFG+Gps7vsYvAABdCUUtAMBUjlV2OVbZVVzZoHteXqw3v9ysHSV1VscKatlpsZowuJtq61v07aoilvwBAGA/KGoBAKaKvdUt5w1O3fvSYlXXNevaM0cqJz3W6lhBLz0xSkeMyVZTi1ffrtql5hZGbAEA2BuuqQUAmKq2oUWFpXWKcDl0zRkjlJkSY3WkkJGWFK1JQzK0q6JeLiefQwMAsDcUtQAAU9kkRUY4dPPvxiohhutnOyoxzq3EOLckqaa+WXa7TTGRLotTAQAQPPjYFwBgih3FtZKkmCiXenSLo6A9SIZhaPH6Es1bvUv1jS1WxwEAIGhQ1AIA/MowDL01Z7P++sJCbd5ZZXWcsGGz2TSqf6o8HkPzVu9WPZNHAQAgiaIWAOBHPp+hlz/ZoI/m52vqyO7qnRmvupuaVHdTk9XRwkJirFsTh3RTs8er+Wt2qYnJowAAoKgFAPiHx+vTM++v0ZzlhTpuYq5++8v+sttt8oz3yTPeZ3W8sJEY59aEwd3U0OTV+vxKq+MAAGA5JooCAPjF4g3FWriuWKcf0UfHTsht2+5c2Pr5KYWt/6TER2ri0G6Kj+Y6ZQAAKGoBAH4xYVA3pSVEqU/3hD22x9zbOnNv1TsNVsQKW8lxkZKkFo9PWwqrNCAn0dpAAABYhNOPAQCd1tDk0aMzV6qguFY2m+1nBS3Mt7uiXhsLqrQ6r1wyrE4DAEDgUdQCADqlocmjf7y5XKu2lqmkklFYq2SnxapPVrzyimrU2MzEUQCArofTjwEAHVbf6NHDby7Xtl01uvSkoRrdP83qSF3a4J5Jqm/yqK6xRRFR8VbHAQAgoBipBQB0yA8jtD8UtGMGUNBazWazaXS/VDkddkUndJPHy6RcAICug6IWQNioaqrUgBm5yvxX0h7bP877UJNfG6fsp1I15bXx+mzbxxYlDA8Ou01xUS5ddnL7Ctrau5pUexfr1JrN4bArPjpC1cV5cjr48w4A6Dr4qwcgLFQ3Vencj85WRVPFHttXl67SBZ+co21VeRqeNlJbq7bo3I/P1rqytRYlDV31jS2qb2xRhMuhq08b3u5Tjr3DfPIOY+QwEGx2yefzyOcz9P68baqpb7Y6EgAApqOoBRDy3t38tg5/Y5LmFc792W0zVj0tj8+jv0y4TR9O/1zXjb1RHp9HM1Y9Y0HS0NV6yvEKPfLWSvkMQzabrd2PdX3lkOsrh4np8FOFZXV6/9tteuztVWrxMHkUACC8UdQCCHmPLHlI5Y1lun7cTT+7bWHRfEnSod0nS5ImZx8mSVq0a0HgAoa4phav/jlzpbYV1ejo8T1k70BBK0nRD0co+uEIk9Jhb7LTYvX7EwZr844qvfjRBhkGa/0AAMIXRS2AkHf+0Iv03dlLdcaAX//stp21OyVJSZHJkqTk7/8vrNsZuIAhrMXj1eOzVmpTQaV+f8JgJoUKIeMGpuvkyb303Zpd+nRRgdVxAAAwDUUtgJD3uyHnKzM2a6+3NXpb10912V2SJOf3/ze01AcmXIh77fNNWrOtQuf9aqAmDO5mdRx00PGH9tSYAWl655s8VddxfS0AIDyxTi2AsBbpiFS9p14en0eS5PG1SJKiXNFWxgoZv5qYq77ZCZo0NNPqKOgEu82mC48bpN3lDYqP4RRwAEB4YqQWQFjrFpMhSar8flbk8sZySVJWTHfLMgU7n2Ho21VF8hmGUhOiKGhDXGSEU7kZcZKkxeuLVd/osTgRAAD+RVELIKyNTh8rSZq78xtJ0rydrTMkT8g8xLJMwcwwDL3y6UbN+GCdVmwq9ctz1j7YqNoHG/3yXOi84soGPf3eGj3z/hr5fEwcBQAIH5YUtStXrtTkyZPbvq+qqtIVV1yhMWPG6PDDD9dbb71lRSwAYejCYRfLbrPr3vl36Li3f6G/L7pXLrtLFwy72OpoQWnmnC2as2ynjj2kh0b2S/XLc3r7GvL2pYiyWnpilM46sp9WbinTf77ZanUcAAD8JqBFrWEYmjlzpi644AK1tLS0bb/11lsVHR2tefPm6dFHH9WDDz6o5cuXBzIagDA1NmO8XjjmVfVK6K3lxUvVK6G3XjjmFQ1MHmR1tKDz4fzt+mhBvo4Y3V2nTe3TobVo9yfiE4ciPmGd2mAwbXR3HTYiSx98t10L1u62Og4AAH4R0IminnrqKX300Ue69NJL9eyzz0qS6urq9Pnnn+uTTz6R2+3W8OHDdfzxx+udd97RyJEjAxkPQIjrEZ+r4surf7b92F7H6dhex1mQKHSUVzfq3bl5Gj8oXb/5RX+/FbSSFPWv1gmKmo9u8NtzonNsNpvO+WV/FZXV6YWP1mlAj0QlxrqtjgUAwEEJaFE7ffp0XXrppVq4cGHbtu3bt8vpdConJ6dtW69evfTpp58GMhoAdGnJ8ZG66Zwx6p4WI7sfC1oEH6fDrstPHqqNO6ooaAEAYSGgRW16evrPttXX1ysyMnKPbZGRkWps7NikIikpsQeVDaEpLS3O6giWCda+x8SY+ybZZrMrPT3e1Dayc3qoIH+7qW10lr/3+7INxSqratRR43uYd0y1Lg18UM9v9nEVyHY62kZH7u+wt15VdKCfdVpanPr2ar1mekdxjbJSY2W3B9+HGcH6OhcIwdr39h6PPxyLnfmdCta+BwJ975q6at/92W/L16mNiopSU1PTHtsaGxsVHd2xNSTLymqZzbGLSUuLU0lJjdUxLBHMfa+razrwnQ6CYfj0zKzlprZx8fSRQfnz9fd+37KzSg+8vkwZSdEa0iNBToc50ywktERJkqpKOn/6sdnHVSDb6UgbMTHuDt3f6/NJUruPkx0ltbrzxUU6aXIvHTexZ7vbCYRgfp0zWzD3vb3H4w/HYmd+p4K172YL5v1uNvre9fre0X7b7bb9DmJavqRPbm6uWlpaVFhY2LYtLy9Pffv2tTAVAIS3HSW1euStFUqMceuaM0aYVtAiuHVPjdHo/ml6++utWrut3Oo4AAB0iuXvYmJjY3XkkUfqoYceUkNDg1auXKn//ve/OuGEE6yOBgBhqaSyQQ+9sVwup13XnjVSCSZfV1nzRKNqnmCd2mBks9l03rEDlZkSo6ffW6PyavYTACD0WF7UStJdd90lj8ejqVOn6uqrr9af//xnjRgxwupYABCWVm4pk8fj07VnjlRaYpTp7fm6G/J15/KQYBUZ4dQVpwxVs8enJ99ZLY/XZ3UkAAA6xJJraidMmKAFCxa0fZ+YmKh//vOfVkQBgC7nyDHZGjcwXfExEQFpz/1O65+appM9AWkPHZeZEqMLfzVI23bViMmvAQChJihGagEA5mpq8erRmSu1pbBKkgJW0EpS5IsuRb7oClh76JyxA9N12uF95LDb2yb5AQAgFFDUAkCY8/p8euqd1VqxuVQV1YGZRRiha/uuGt38zAIVFNdaHQUAgHahqAWAMGYYhl76eINWbCnTOb/sr7EDf75eOPBjibERavJ49cR/Vqm+scXqOAAAHBBFLQCEsXe+ydM3K4t0/KSeOmJ0ttVxEAISYt267KShKqtq1IwP1slnMMkXACC4UdQCQJjy+QztKKnVlOGZOmVKL6vjIIT0z0nU6Uf01bJNpfpo/nar4wAAsF+WzH4MADCXYRiy22264pRhMmTIZuGUttUzWPs0FP1ibLa2FlZpy85q+QxDdqZFBgAEKYpaAAgzG/Ir9Obszbry1OFKinNLsrYYMVI4fTUU2Ww2XfCrQXI67RS0AICgxunHABBGdhTX6tFZq9TY7JXLGRwv8e7XnXK/zmeooSjC5ZDdZlNZVaNe/XSjPF6W+gEABJ/geMcDADhopVUN+seby+V22fWnM0YqNio41oaNfN2lyNeDIws6Z0thlb5YukMz52yxOgoAAD9DUQsAYaC2oUUPv7lCTS0+/emMkUpJiLQ6EsLI+EHddOSYbH26qECL1xdbHQcAgD1Q1AJAGGjx+OR2OXT19GHKTo+1Og7C0JnT+qpPVrye/3CdisrqrI4DAEAbiloACGFen08+n6GkOLduOXesBvRIsjoSwpTTYddlJw+V02HXrK+2Wh0HAIA2zNwBACHKMAz938cb1NDk0WUnDZXdzgy1MFdyfKSuPXOk0pOirI4CAEAbRmoBIET955s8zV1ZpKyUmKAuaKv+3aCqfzdYHQN+kpsRpyi3U00tXq3bVm51HAAAKGoBIBR9uXSH/jtvm6YMz9TJU3pZHWf/or//h7Ay66stevitFcorqrY6CgCgi6OoBYBO2l2/W5d+dqEGv9BHfZ/L0RWfX6zyxjLT2126sUSvfrpRI/um6nfHDJDNFryjtJIU+bxLVTPKLPlZYd8O9vg98dBeSohx68n/rFJtQ4spbcC/2B8AwhVFLQB0QrO3Wae/d6Le3vSWesT1UHxEvN7a+LrOev9UeXweU9uOj47QsD4puuSkIXLYg/9l3Pa+TyeVHW/Jzwp754/jNzbKpctPGaqqumY9+/5a+QzD723Af9gfAMJZ8L8bAoAg9Nn2T7S+fJ1+mXuMPj5ttr7+9QJlx+ZoeckyfZz3oSltNjS1vvHsm52gP54+Qm6Xw5R2/O2jtA+1NnZNQH9W2D9/Hb+9MuP166P6a9XWMn00f7spbcA/2B8AwhlFLQB0Ql5V65ImA5MHS5JiXbEan3mIJGnuzq/83l51fbP+8I85+nhBvt+f22ybo7dICtzPCgfmz+P38JFZOmlyL40dmG5aGzh47A8A4YwlfQCgE7rHdpckLS9ZJkny+rxaV7ZWkrSjpsCvbTW1ePXozJUqq2xQv+wEvz53IOQ0ZksKzM8K7ePP49dms+mkya2TlRmGoYYmr6IjnQH9HcGBsT8AhDOKWgDohF/0PEbdY7P19Y7ZOvLNKWryNmpjxQZJUoO30W/t+HyGnnlvjfIKq/WX88apT0ac3547UH5VcpxyGnJM/1mh/cw6fl/8aL12ltbpxt+MDtjvCNqH/QEgnHH6MQB0QqwrVm+d8K6mZB+uvKqt6hadoTMHnC1JinH6b/2a1z7fpGWbSvXro/pp4rAsvz1vIHlnOfTGBe+Y/rNC+5l1/A7rnaKthdV6/YtNAfsdQfuwPwCEM0ZqAaCT+ib106wT32v7/k+zr5Ik5Sb4b93YHt1ideyEHjpqbI7fntMKgfhZoWPM2CdjB6br6PE5+mRhgXpmxGvycPZ7MOH3EEC4YqQWADphU8VGHfLqKB0760hJUm1Lrb7aMVuSdETOkQf9/PWNrTMdTxmRpdOP6HvQz2el/Ce2auITo037WaHjzDx+Tzu8jwblJumJT7/QmP8bwX4PEma/ZgGAlRipBYBO6J3QR17DqyW7F+kXb01VRVOFCmryNSX78IN+g7ixoFKPzlypK04ZqkE9k/2U2DqDPxso32SfKT8rdI6Zx6/DbtelJw3Rg280aZ1JbaDjzNznAGA1RmoBoBMcdode/tUbOjRrijZVbFBDS70uGnaJ/u/Yf8tms3X6eYvK6vTYrJWKj4lQTrfQmxRqbxxy6O1lb/v9Z4XOM+v4/UFcdIRuP2+CXj/xLR2aNUUb2e+WM3ufA4CVGKkFgE4amDxI/zn5A789X1Vdsx5+c4UcdpuuOWOEYqNcfntuqw2uG+LXnxUOnr+P35+y2WwakDRQF6Q/odNjm3X2Uf1NawvtY/Y+BwCrMFILAEGgxePV47NWqrquWX84fYTSEqOsjgQcNJvNprqGFn2+eIfmriyyOg4AIEwxUgsAQcBut6lXVryOmdBDvTLjrY7jX5FWB4CVTj+ijwqKa/XSJxvUPS0m/I5vAIDlKGoB4CdsNrvS0819453VPUfLl62RJDU1e+WOcITk6ZkjRw1R4c6C9t053dws+B+zj1+H0yWvp6Xd93dFxmnKbx7STY9/rG9evVbN9VUHfEx2Tg8tXbL6YGJ2KR36XQSAMENRCwA/YRg+PTNrualtXDx9pCRp3uoizfpqq274zWilh+Apx4U7CwL2s0L7BWKfdLSNqtomfbt6l2565ENlpcS0qw20H7+LALoyiloAsMjGgkq9+NF69e2eoOQ4t9VxTDPqrdYh2mWnF1ucBFZKiHXrqDHZinA5rI4CAAgzTBQFABaITszQ42+vUkpClC4/ZZicjvB9Oc5aFaesVeGxPBEOzg8F7a6yem3eeeBTkAEAaA9GagEgwJo9Xo0/+RYZhqE/nj48rJbuAdqjsKxOO0rqFO12Kiv1wKciAwCwP+E7NAAAQcomqa5yl648dZi6JUVbHQcIuBF9U5QU59ayTaWqrGmyOg4AIMRR1AJAgBiGIZ/PkMvp0KJ37taAHklWRwIs4bDbNX5guiJcdi1YV6yGJo/VkQAAIYyiFgACZMvOan27epdaPD6rowRUU6xHTbEULdiTO8KhCYO6yevzaUdJndVxAAAhjGtqASAAisrqtHZ7hbJSouV02KyOE1CfX7/d6ggIUvExEZo6MkvRbt6OAAA6j5FaADBZVW2Tlm4sVWJshEb1S5XN1rWKWmB/YiJdstlsqq5v1vr8ChmGYXUkAECIoagFABM1NXu1cH2xXE67xg9KlyOMl+7Zl3GvZGjcKxlWx0CQKyyt08aCKm3awVI/AICO4XwfADBRi9cnp8OuUX1TFRnRNV9y0zeyZAsObEBOouobPVqfXyn39+vZAgDQHl3zHRYABIBhGIqNcunwkVmccgwcgM1m08i+qWpu8WnFljJ16z3O6kgAgBDR9c6DA4AA2FZUreWby+TzGRS0QDvZ7TaNHZimxNgI9Rh+NNfXAgDahaIWAPystKpRq/LK1dTiFfUs0DFOh12HDO6mJe/fxwdCAIB2oagFAD+qb2zR4vXFiol0akz/NN6US6pLaVFdSovVMRBCIlwO+bwe1Ta06Ml3Vqu8utHqSACAIEZRCwB+4vH6tHB9sXyGofGDusnl5CVWkub8IV9z/pBvdQyEoMraJq3JK9MDry9XVW2T1XEAAEGKd1wA4Cc19S1qaPJq7IA0xUa5rI4DhLzstFj98fQRqqxp0oOvL1dNfbPVkQAAQYiiFgD8JCnOraPGZCs9KdrqKEHlkOezdMjzWVbHQIjql52oq08bruLKBj30xnLVNXIqOwBgTxS1AHCQyqoatbWwWoZhcMrxXqRsi1LKtiirYyCEDcpN0pWnDlNTi08NjR6r4wAAgkz733317i1ddtnPtx93nDR4sB8jAUDoaGzyaPGGYuUVVcvrY/kRwCzDeqforgvHKzUxSj7DUEMTxS0AoJVzv7e+9560fHnr19u2SV99Jd155/9u9/mkJUuk6mrTAgJAsPL5DC3aUCKP19DEoelyOkJzlHZ3/W7d/u3N+nrHHDV5mzQifZRun3S3hqUOtzoasIcffsf+/dlGbd5ZpevOGqU6o5zjFwC6uP0XtTk50qmnSoYh2WzShg3SHXfseR/DkCZMMDEiAASnNdvKVVHTpDH90xQfHWF1nE77/Sfnan7RPPWIy1XvxD76Zsccnfn+Kfr214uUFJlsdTzgZ4b3SdXXK4r0wGvLtDj+Fi0qns/xCwBd2P6L2lGjpIceklavlmbMkHJzpaOO+t/tdruUliZddJHJMQEguNTUNyuvqEa9s+LVPS3G6jidVtVUqflF8xTtjNGcM+cpNiJOV35xid7c8JoWFM3XMb1+dfBtZLIUC/xreJ8UXX3aMP1j1nda1Dhf0c5o045fAEDw239RK0l/+EPr/9nZ0sCB0plnmhwJAIJfXHSEDh2WoaRYt9VRDkqkM0oxrlgZxv+uB/7h6wR3gl/amHvZDr88D/BjQ3ul6NrTx+nj/0ap2eOT1+eT5P/jFwAQ/A5c1P7gr3+V6uqkpUulpqbW045/bNIkP0cDgODT4vGpqq5JqQlRSomPtDrOQXM73Hpw6iO67qs/6vA3D1VWTJbmF83Taf3P1MSsQ62OB+zXkNxuun38A7pn6Q06cuYUjl8A6KLaX9S+95507rl7nxTKZpM8zEIIILwZhqEVm0u1q7xeR43NVmRE+19Cg1mLr3Xdz/zqbcqv3iaHzaHs2BwZhiGbzXbQzz/5X9mSGLGFOeLjHLLbbW3Hr93Pxy8AIPi1f6rO666Tqqokp1PKypJ69Pjfv5wcEyMCQHDYvrtWhWX1GtAjMWwK2p01O3TN7CsVYXdp9hnztPq8zRqVPkaPLH1Qz69+1i9tJBS5lVAU2qdpIzj9+Pj98vRvdVH0TCV4+vr1+AUABL/2F7UFBa3F686drV/n5e35DwDCWFVds1ZvLVNaYqT6dg+fa/UW714or+HVlOzDNSR1qNKj03XagNa5E77aMdvidMD+/fj4HZo2TLedPU3jE46TJL227L/ysXY0AHQJ7S9qJ0xoLWpTU02MAwDBx+P1afH6YrmcDo3ulxZWpzQmuBMlSatLV6rZ29z6dclKSVK36AyrYgHt8tPjNzLCqZTsUklSVXmkHpu1Ur6fzgECAAg77T9/7u67pRNPlK6/vnVZn5iY1mtpf3CQE0UtXbpUd999t7Zt26a0tDRdeeWVOuGEEw7qOQHAHxx2m3pmxCkhNkLuCIfVcfzq0KwpGpg8SOvL1+nQ18YqLSpdi3cvlMvu0u8Gn2d1PGC/9nf8XjbmImW4EmUPow+hAAB71/6i9rDDWovYhx5q/fdjBzlRlNfr1RVXXKG//vWvOuaYY7R48WKde+65GjVqlLKzszv9vABwsLw+Qw67TX3C6JTjH3M5XJp54vu6b8Fd+mz7J1pXvlbjMibopgm3aVjaCL+0UdazwS/PA/zU/o7fQ7tPabvfmm3lamr2anT/NAvTAgDM0v6itkePPUdm/ai6ulrl5eXyer1tsxW6XC45HOE1IgIgtFTXN2v+mt0a0z9NKQmhv3zPvqRHp+sfRzxm2vPPv6DQtOcG2nP8fraoQCu3lOno8TmaPrWPnI72X30FAAh+7S9qt20zLURSUpLOPvts/elPf9Kf//xn+Xw+3XPPPcrMzDStTQDYH4/XpyXrS+QzDMVEhcdMx0BXdcUpw/T6l5v0ycICbdlZrUtOHBLWH1QBQFfT/ndqhQf4pD0rq9MhfD6fIiMj9c9//lPTpk3TvHnzdO2112rIkCEaOHBgu54jJSW20+0jdKWlxVkdwTLB2veYGPOXbglEGxsKqlTT0KIjxmQrJSnGlDY6sw878picHrnaUZDf4TY66kD7Y+L9rR9QfndDkWlt+EswHr8dub/Dbu9UG51hdhs2m13p6fF+fc6sAZPl+cUV+uPDhfrm1WuVHB+hgvztfm3DXzrz+hBM+/1gjsVg/fsWCPS9a+qqffdnv9tf1O5vLdqDvKb2008/1cqVK3XDDTdIkg4//HAdfvjheuedd3TjjTe26znKymqZur+LSUuLU0lJjdUxLBHMfa+rawr5Nrr1maAtO6vUt3u84iKdprXX0X3Y0f2+oyBfz8xa3sFUHXPx9JEH/Pm4i1svJTmYn2MgjqtAtdORNmJi3B26v9fn63AbnWV2G4bhM+X4rWtsUcHuWp064yNdctoo7d5dLbs9uCaT6uxrfDDt94M5FoP175vZgvlvu9noe9fre0f7bbfb9juI2f6LSgxj7/+ioqR+/dr9NHtTVFSk5ubmPbY5nU6uqQVgidQew5QQE6GBPZKsjgLAz2IiXRqYmySbzaao+HTd9Ox8LdlQbHUsAMBBaH9R6/Pt+a++Xvr669alff7+94MKMWnSJK1bt06zZs2SYRhauHChPvvsMx1zzDEH9bwA0BlrZj+nSUMzgm70BoB/OZwRioxw6In/rNYTb69SZW1gzggAAPhX56f/i4yUJk+WfvUr6ZZbDirEgAED9Oijj+qll17SmDFjdOedd+r+++/XsGHDDup5AaAjdpbWqaa+9awRl5PZUYFwV1u+Q7f8bqxOO7yPVm4t083PztdniwusjgUA6KDOTxTl9UoFBdLs2VLxwZ+2M23aNE2bNu2gnwcAOqOmvlnLNpUqPTHK6ihhp7h/ndURgH1yOuz61SG5GtM/Ta9+vlG7yuqtjgQA6KCDnyjKMKRJk/wUBwACz+cztHRjqZx2m4b3SbY6TthZdM4uqyMAB9QtOVrXnD5C3u8nndy0o1Lvz9um6Yf1UW5G15yZFABCxcFNFBUZKR12mPT88yZGBABzrc+vVFVds0b0TVVkBGvSAl2VzWaT09H61qiipkl5hdW648VFevq9NdpVzgguAASr9r97+35qdgAIJ+U1jdq8s0q53WKVmRJtdZywdNTfcyVJn18fnOuBAnszflA3De2VrI8W5OuzRQVauHa3jhjdXef8coDV0QAAP9HxIYmFC6W5c1vXpj3sMGnMGBNiAUBgtC7dk6jeWfFWRwlb7lpGvxGaoiNdmj61j44am6NPF+UrMcYtqXUN1o35lW1LAwEArNX+dxper/Tb30pvvLHn9t/+VnrhhdYiFwBCiM9nyGG3q39OotVRAASxhJgInX5437bvl20s1ZPvrFZWaoyOHJOtQwZ3U5SbD28AwCrtv6b2b3+TXn9dio2VTjml9V9srPTyy9J995kYEQD8r7iiQV8u3ana+harowAIMSP6purC4wbJ6bDp5U826JrH52rGB2vV0OSxOhoAdEnt/1jxhRekpCRp+fL/zYScny+NHCnNmCH95S+mBAQAf2vx+LRiS6kcdruiIh1WxwEQYlxOuw4dlqlJQzO0taha36wo0vZdNYqMaH09WbKhROlJUcpOi+H0ZAAIgPYXtTt3SlOm7Lm0T48erdfUfvONCdEAwBxrt5WrocmrycPS5LC3/4QVdE7hsBqrIwCmsNls6pOVoD5ZCTIMQzabTT6foZc/Wa/q+halJ0VpeJ8UjeiTqv45iXI5eb0BADN0bJ3apUtbi9vu3Vu3FRRIS5a0FrcAEAJKKhu0fXet+mTFKzk+0uo4XcKy04utjgCY7ocRWbvdpjsvmqAlG0q0fFOp5iwr1OeLd+iX43J01pH95PMZqq5vVmKs2+LEABA+2l/UnnOOdMcd0tCh0lFHtW77/HOpulr6wx9MigcA/lVQXKuYSKcG9ki0OgqAMBUfHaEjRnXXEaO6q6nZq3XbK5SW2Poh2pbCKv3tlaXqlhytATkJ6pedqAE5iUpJiORUZQDopPYXtTffLK1eLc2a1frvB8cey/W0AELGqH6pamz2yuHgNMBAOebuXpKkj2/JszgJEHjuCIdG9ktt+z4lPlKnH9FHG/MrtXh9ib5eUSRJuumcMeqbnaDdFfUqr29RXIRdLifX/ANAe7S/qHU6pbfekhYtal2n1uuVJk1q/QcAQa6qtknuCIciI5wsvRFgjmY+QAB+kBwfqWMn5OrYCbnyGYYKS+q0oaBSuRmxkqSvVxTqo/n5ctht6p4ao56ZceqZGa/JwzLl5MM4ANirA786fvih1K+ftGFD6/fjxknXXCOVlLSO3q5aZXJEADg4Hq9PizaUaOG6YhmGYXUcAJAk2W02ZafH6sgx2W2jsr8Ym6ObzhunYyb0UFxMhJZsKNGsOVvksLeemvz+vG16+dMN+mZloXaU1Mrn4zUNAPY/XDFvnnTSSZLPJ82ZIw0Y8L/b/vMfafNm6bDDpO++kwYONDcpAHTS+u0Vqm/0aOTQDK5ZAxDUEmPd6tcrVX0z4iRJhmGouq657bWrrKpBC9cVa/bSnZKkCJddY/qntz2+sdkjt8vBax2ALmX/Re0997SeZnz++dKpp+5523vvSTfcIL3/vnTXXdKrr5oYEwA6p6KmSVuLatQzI06pCcx2DCC02Gw2JfxopuTzjh2k3x0zULvL67WtqEZ5RdWKi3ZJai2A5ywrlGFICbERSopzKznOreR4N9fnAghrBx6p7dNHeu456aef+A0cKM2cKfXtyzq1AIKSzzC0ckuZ3C6HBuUmWR2nw15f/6qu/vKyvd525oCz9diRTwU4Uefkj6m2OgIQVuw2mzJTYpSZEqOJQzPathuSBuUmqbK2SZW1zdq8s0qGIfXOitfQXsny+QztrqhXcnyk3K7QLXLD5bURgP/sv6htbJRyc39e0P7A5Wq93vbbb02IBgAHx+c1FBftUr/sBLmcoTfBSvfYbB3T67i2790RTn2z/RuVN5ZrSOpQC5N1zKqTSqyOAHQJdptNuRlxylXrqcser0+VtU1tBWxlbZMWrW/9fYyLdqlbUpS6JUcrKc4tewidrvzT10ZJWlj0Xci9NgLwn/0Xtb17S0uWSKWlUmrqz28vLW29PSfHpHgA0HlOp12j+6dZHaPTpmRP1ZTsqW3fF3q3auyzYzW5+2G6ZPgVFiYDEAqcDrtSE6Lavk+MdWvysAyVVTeqpLJRWwqrtXlntSYO6aa0xCg1NXtls0sRQX6q8k9fG1eXrtIvZ07ltRHowvY/dHHGGVJVVetatF98IdXUtG6vqpI++6x1e3W1dOaZAYgKAO23fnuFquqarY7hN4Zh6OL/XizDMHTP5L+H1CQwx93WR8fd1sfqGECXZ7fblBwfqX7ZiZo0NEPHjO+hsQPSlBLfOt/AlsIqfbKgQPNW79L23TVq9ngtTnxghmHoujlXh+RrIwD/2f9I7Z//3Doh1JIl0i9/+fPbDUMaPly68UaT4gFAxxWV1Wvjjio5HHYlxERYHccvvsj/VAt3LtRJfU7VoJTBVscBEAZcTruyUmPavu+eGiObzabC0jqt2FymlVvKlJUSo9H9U4O2WPwi/1MtLV7CayPQxe1/pDY6Wvr6a+mqq6TY2NYi9od/kZHSJZe03h4Ts9+nAYBA8Xh9Wr21THHRLvXJirc6jt88s/JfkqTfD9/75CgAcLASYt0alJukaaO767ARmeqdGa/IiP8tD9R7zEmqbWixOOWeeG0EIB1opFZqLVj/+U/p4YelDRukigopLq519mOXKwARAaD91udXqqHZq8kD0mS3B+fIQkftrtulrwpmKysuS+MzJ1gdB0CYs9lsSox1K/FHSwnVN3o0cPJv9eXSnUpPilKvjDilJ0VZOoL7w2tjRkwmr41AF9f+6UDtdmnQIGnSJGnYMApaAEGnqq5ZWwurldstVsnx4bMm7Vc7ZsuQoWP7Hmt1FABdVHSkU18893sNyElUVW2zFqwr1uxlO1Vdb93cBT+8Nh7Z4xeWZQAQHA48UgsAISI20qmBPRLVMzPO6ih+9e3O1rXAx2WNszhJ52ydVGl1BAB+0FRXoQE9EtUvO0GFZXXK312raHfrW8ma+mZFuZ1yOgK3fNoPr40j00cHrE0AwYmiFkBYMAxDDodd/XMSrY7idztqCiRJg9NCcxKUdceUWR0BgB/Z7TZlp8UqOy1WUuvr78J1xfJ4feqbnaCe3QLzweIPr40DkgYGpD0AwStwH6cBgEmaW7z6ZmWRyqoarY5iipKGYklSavRe1gsPAY4mmxxN4XF9M4Cfs9lsGtk3VXHREVqTV6Evlu5UU7NXMsxt94fXxuTIFHMbAhD0GKkFEPLW51eqqrZZLmd4fk739VkLJElpaXEqKamxOE3HHXNPb0nSB3dusTgJALOkJERqUkKGSqsatG57pWobWkyfROqH10YACM93gAC6jKq6Zm3bVaOemXGKD5M1aQEgVKUmRGnysAzFR0co4vsPGneV1wfdUkAAwgsjtQBClmEYWr21TBFOuwb0SLQ6DgBAracju1ytBa3PZ2jVljI1tXjVp3uC+mUnBHQyKQBdA0UtgJBVXNmgsuomDe+Toginw+o4HWKz2ZWeHm91DAAwld1u05QRmVq7rUKbdlRpZ0mdhvdJUXpS1F7vH4jXxqzuOVq+bI2pbQAILIpaACErPTFKYwemKTM52uooHWYYPj0za3mHHhMT41ZdXVO773/x9JEdCwUAJoiMcGp0/zTldovTii2lmr92tw4fmbXXS0Y689rYUbw2AuGHohZASPL6DDnsNmWlxFgdBQew8fByqyMACAIpCZGaOjJLu8sb2gra2oYWxUa5LE4GINRxUQOAkFPX0KLPFxeouKLB6ihoh03TKrRpWoXVMQAEAYfdrqzU1g8jq+qaNXvZTi3dWKIWj9fiZABCGSO1AELOmm3l8ngNxUfz6X4ocFe3Xu/cFM+bVgD/ExflUr/uCdq0o0qlVY0a0z/N6kgAQhQjtQBCSlruSO0qb1D/nERFuvlcLhQc9WBPHfVgT6tjAAgydrtNA3OTNHl4phx2m75dvUt9xp1qdSwAIYiiFkDI8PkMDT78QsVEOtU7i5mDASAcJMW5NXVElrqnxsju4MNKAB1HUQsgZJRUNiguJUdDeibLYbdZHQcA4CdOp12j+6dq0/y3JLW+3pdUMm8CgPahqAUQMrolR+vrl69Rt+S9r28IAAhdNptNkiHDMLSxoFLfrdmt9fkVMgzD6mgAghxFLYCQ0Pz9zJjVJXnfv/EBAIQjm82mCYO7KSc9RhsLqvTdmt1qbmGiOQD7RlELIOjVN3n02aIdKiiutToKOmHd0WVad3SZ1TEAhBCnw65R/dI0sm+Kyqsb9fXKIjU2U9gC2DuuxgcQ9NZvbz39LCUh0uoo6ISth1ZaHQFAiOrRLU6x0S7tLKmT28VYDIC9o6gFENQqa5u0o6ROfbsnKJolfEJSTGnresJ1qS0WJwEQipLjIpUc1/qhZl1ji4rK6tUnK55LUQC04SMvAEHLMAytyatQhMuuftkJVsdBJx3+aA8d/mgPq2MACAP5u2u1dluFlm4slcfrszoOgCDBsAeAoFXb0KKKmkYN6ZUsl5PP4ACgqxvYI1FOh03rtleqtqFFEwalK5KzeIAuj3eJAIJWXHSEjhjdXbnd4qyOAgAIAjabTf2yEzV+ULpqG1r0zcoi1TVwaQPQ1VHUAghKjc0eSVJMpEt2O9dNAQD+JyM5WocOy1B8TITcEQ6r4wCwGEUtgKDT4vFpzvJCrdteYXUUAECQSox1a8LgbnI67PJ4fNpdUW91JAAW4SIEAEFn884qNbf4lJkcbXUU+MGqE0qsjgAgzG3cUanNO6s1pFeS+mQxsSDQ1VDUAggqjc0ebS2sVlZqtBLj3FbHgR/kj6u2OgKAMDcgJ1F1jR6tyatQQ5NXQ3omseQP0IVw+jGAoLJpR5V8PkMDeyRZHQV+krDTrYSdfEABwDwOh11jB6SpV2acthZWa8mGEvl8htWxAAQIRS2AoOH1+lRUVq8e3WIVG+WyOg78ZPLT2Zr8dLbVMQCEOZvNpqG9kjU4N0ll1U1qbPFaHanLeX39q5r82jj1eDpdR7xxqOYUfGl1pC4tEPsjWPY5RS2AoOFw2HXEqO4alMsoLQCg42w2m/pmJ2ja6O6KdjtlGIY8Xp/VsbqEl9e+qKu/vEw7anZoTLdxWle+Rud+9GttrdpidbQuKRD7I5j2OUUtgKDQ3OKVYRhyOe2KcLE8AwCg81zO1re467ZX6NtVu9TEqK2pvD6v7l94jyTpxWNf1X9O/kC/H36Z4iLitbBovsXpup5A7I9g2+dMFAUgKCzfXKqmFp8mD8tgcg8AgF+kJkQqr6hG364q0sQhGYpy89bXDOvK16q4freinFGamn2EJOmuQ/+muw79m8XJuqZA7I9g2+eM1AKwXHlNo3aVN6hbUhQFLQDAb9KTonXIkG5qbPZq7qoi1Ta0WB0pLG2rypMkJbgTdeu3N6rnM5ma8tp4fZT3gcXJuqZA7I9g2+cUtQAsZRiG1m+vVITLrt5Z8VbHgQmWTd+tZdN3Wx0DQBeVEh+pSUMz5PUa+m7NLtkdTETobw2eeknSrroivbHhNY1KH61NlRt1/se/0YriZRan63oCsT+CbZ9T1AKwVElVo0qrGtU/O1FOBy9J4ahwRK0KR9RaHQNAF5YY69ahwzI0rHeKfF5Ga/0t0hnZ9vUbx7+t/5z8gf487i/yGT69tPZF64J1UYHYH8G2z3kHCcBSBbtrFeV2KDcjzuooMElyXqSS8yIPfEcAMFFcdIQykqMlSYvWFyuvqNriROEjK7Z729eDU4ZKkkalj5YkFdXutCRTVxaI/RFs+5yiFoClRvVP1aQhGXLYuZY2XE18obsmvtD9wHcEgACw2Z16+6stevD1Zdqys8rqOGFhWOoIxUckSJLm7vxKkrShfIMkqWdCL8tydVWB2B/Bts+DpqjdtWuXLrnkEo0ePVqHHXaYXnrpJasjATCR7/u1A+02m2KiuL4JABAYhs+jP/96lOKiIvTQG8u1aUel1ZFCXoQjQleN+qMk6cJPfqfp756gu+f/VW6HWxcMvdjacF1QIPZHsO3zoChqDcPQ5Zdfrt69e2vBggWaMWOGHn/8cS1dutTqaABMsrOkTp8v3qE6ZqIEAARYcnykbvjNaCXEuvWPN1ZoQ36F1ZFC3h/GXKu/TrxbKZGpWrJ7sUamj9asE/+rvkn9rI7WJQVifwTTPg+KxbpWrFih4uJiXXfddXI4HOrXr59ef/11JSUlWR0NgAl8PkMbCioV5XYqOjIoXoYAAF1MUpxbN549Sn9/bZnWba/QgB687zxYV4y6WleMutrqGPheIPZHsOzzoBipXbNmjfr166cHHnhAhx56qI4++mitWLGCohYIUztKalXf6NGAHomsSwsAsExCrFu3/G6sTprceg1gi8drcSIAnREUQyRVVVVasGCBDjnkEM2ePVurV6/WRRddpJycHI0dO7Zdz5GSEmtySgSjtLSuO2NusPY9Jsa939u9PkObdlQrOT5SvbM7V9QeqA1/CNY2OvqYYOjH6gvLDjpLIPoRqHbM3IcOu71TbXRGuLQRrK+lnckVTPvkYI5Fq/Z7we4a3fbsAl1+2giNG5xheoa9CcbjMadHrnYU5JvaRnZODxXkbze1jWDWkf0eiP3hdLrk8Zh7eZi/93lQFLURERFKSEjQJZdcIkkaPXq0jj76aH3xxRftLmrLymrl8xlmxkSQSUuLU0lJjdUxLBHMfa+ra9rv7UVl9aprbNHQ3kmqr282pQ1/CMY2YmLcHX5MMPSjLvf72+vMa8NfguHn9WMd3eden6/DbXRWuLQRjK+lnX2ND6Z9cjDHolX73dPUopgol+55YaEuP3moRvVPMz3HjwXr3/YdBfl6ZtZyU9u4ePrIoOx7IHR0vwdqfwTbPrfbbfsdxAyK04979eolr9crr/d/p3x4vV4ZBkUqEG4yU6I1ZXim0hOjrI6CAElfH6309dFWxwCA/YqNcunPZ41UbkacnnxntZZsKLY6EoB2Coqi9tBDD1VkZKQef/xxeTweLV26VJ999pmOOeYYq6MB8KMfzqZIinNzLW0XMu7fmRr370yrYwDAAUVHunTtmSPVMzNOT727Ruu2MysyEAqCoqiNjIzUyy+/rJUrV2rSpEm67rrrdMstt2jkyJFWRwPgJ16fT18u26m8omqrowAAsE9Rbqf+dMZI/WJsjnpnxVsdB0A7BMU1tZKUm5urGTNmWB0DgEnyd7fOeBwb5bI6CgAA+xXlduqMaX0lSfWNHm0prNKw3ikWpwKwL0ExUgsgvHm9Pm0sqFJKvFupCZFWxwEAoN3+881WPfLWCs1fu8vqKAD2gaIWgOm27a5RU4tXA3okcS0tACCkTJ/aW/2yE/Xs+2s1fw2FLRCMgub0YwDhyWcY2rKzWqkJkYzSdlHfnb/T6ggA0GmREU5dc/oI/XPmCj3737UyDGniUGvWsQWwd4zUAjCV3WbTpCEZGto72eoosEh5r0aV92q0OgYAdJo7wqE/nDZCA3IS9Z9vtqq5xXvgBwEIGEZqAZjGMAzZbDbFRjM5VFeWtaJ1sfTCEbUWJwGAznNHOPSH00eopr5ZES6H1XEA/AgjtQBMk1dUo4Xrdsvj9VkdBRYaNaubRs3qZnUMADhobpdDqQlR8hmGXv5kg75ZWWh1JABipBaASbw+nzbtqFJslEtOB5+fAQDCh9drqLiiXnOW7ZQMacqILKsjAV0a7zQBmCJ/d23rjMc5CVZHAQDAr1xOu66aPlyDeyXrhY/W6+sVjNgCVqKoBeB3Xp+hTTuqlBzvVgozHgMAwlCEy6Grpw/T0N7JepHCFrAURS0AvysorlVjs1f9sxNZlxYAELZcToeuOnWYRvdPU2Ks2+o4QJfFNbUA/C4zJVqGYSgtkVFaSHMv2WF1BAAwjcvp0JWnDmv7fnd5vbolR1uYCOh6GKkF4Hdul0O9MuMZpYUkqap7k6q6N1kdAwBMt3ZbuW56dr6+XMqHeUAgUdQC8Bubza5F64tVWtVodRQEkR6L4tVjUbzVMQDAdP2yEzWiT6pe+XSjvlhCYQsECkUtAL/JGniYisrq1eJhXVr8z7D30zTs/TSrYwCA6VxOuy4/ZahG9UvVq59t1GeLC6yOBHQJFLUA/MLnM9RvwumKj3YpIznK6jgAAFjC6bDrspOHanT/NL32+SZt2VlldSQg7DFRFAC/WLS+WLHJ3dU/hxmPAYSXrVVbdMiro362/R+HP6ZzBp8bcu3AfE6HXZeeNERLN5aoT/d9r9fOPgf8g6IWwEHzGYben7dNNaX5ypyUa3UcAPCr1SUrJUn9EvurT1K/tu05cT1MaWdg6kD1jOtjWjsIDKfDrvGDukmStu+q0brtFTpmwp778sfH1uBug9TU7JHEPgc6iqIWwEEzDENHju6ud579i2wnHWZ1HADwq1WlrYXHlaP+qF8POsf0dq6fdL2Ozz7NtHYQeHNXFemLJTtU19iiUw/r3XZG04+PrasPu0wlJTVWxgRCFkUtgIPmsNt1xOhsFecttjoKgtCcq/OtjgAclFWlKyRJC4q+05yCL5QTl6uLR1yu9Oh0U9qZmz9X76/9wLR2EHi/PqqfPF6fPvhuuxqbvfr1Uf1kt9n2OLZ+Petrpbuy2OdAJ1DUAgBMVZfaYnUE4KCs+v4U0X+vf7lt28yNb2jOmfOUGJnk93aeX/68qe0g8Ow2m3539AC5XQ59uqhATS1enXfMwIAdW0C4Y/ZjAICpen+bqN7fJlodA+iURk+jJmRO1OE50/TFGXO15rwtGp9xiArrduqRpQ+Z0s6yS5aZ1g6sY7PZdOa0vjrx0J6qqm1WfUvDHsfW7ut2s8+BTmKkFgBgqkGfpEiSth5aaW0QoBMinZF6/piX99h2yYjLtXDXfC3atcCUdtLS4lRSUmNKO7CWzWbTyVN6y+vzyWG369Gpz8vtssvldCgtJo59DnQSI7UAAAD70Ohp1MbyDVpTurptW4TDLUny+Px3an2g2kFwcNjtqmuu182vvaubXvuPGppaZz1mnwOdw0gtAADAPmyq2KAj35qi5MhkfXf2UiVFJuuzbZ9IksZ0G2dKO5t6bpLkMqUdBI+tVZv0WuMFiqiPk/PfSXrwsmPZ50AnUdQCAADsw7C0EZqSfbi+2TFHU9+YqOzYHC3evVAJ7kRdPvJqU9oZ9q9hyorONqUdBI8f7/NX6y7Ufx/O0G5jLfsc6AROPwYAANiPGb/8P5075EJJ0pqyVTo0a4rePvF9ZcflhGQ7CB4/7PPYaJdKfVuU4xzJPgc6gZFaAICpPr9um9URgIOSGJmkB6Y+rAemPhyQdtLSnlNJSY2pbSE4/PjYqvcYqq9tVGpilNWxgJDDSC0AwFRN8V41xXutjgEAQS03M16piVHyGYZe/Gidlm8utToSEDIoagEApur3ZZL6fZlkdQwACAmNTV5t312rx2et0lfLd1odBwgJnH4MADBV/znJkqRN0yosTgLsyWazKz093tQ2HE6XvB6WZ+lqRo4aosKdBZ1+vMMVqTEnXK//+9jQLXfcow3fvirJ2OM+Wd1ztHzZmoNMCoQHiloAANAlGYZPz8xabmobF08f2eE2YmLcqqtr6nA7CB6FOwsOer/7fIZWbS2TJpymo048TyP6pu5xf/Y58D8UtQAAAECQsdttGt4nRdGRLiXFRlgdBwhqFLUAAABAELLZbOqXndD2/fZdNUpJiFRslMvCVEDwoagFAAAAglyzx6t121vnJhg/KN3iNEBwoagFAJjq45u3Wh0BAEJehNOhycMztWDtbs1bvUvZg6dZHQkIGizpAwAwlddtyOs2DnxHAMB+xUa5NGV4ppLjIzXymKv15pebrY4EBAWKWgCAqQZ9nKJBH6dYHQMAwkKEy6FDhnTT1iXvKSUh0uo4QFCgqAUAmKr3vET1npdodQwACBt2m01rv3peR47JliSt2lqmHSW1FqcCrMM1tQAAAECI8vp8+vdnG1VZ16zfHz9Yo/unWR0JCDhGagEAAIAQ5bDbdf3Zo5WVEqPH316lWV9tkdfnszoWEFAUtQAAAEAIS4pz68bfjNJhIzL1wXfb9cBry9Xc4rU6FhAwnH4MAAAAhDiX06Hzjh2k/jmJ2rarRhEuh9WRgIChqAUAmOqDO7dYHQEAuoxJQzM1aWimJCl/d42Wby7V8RN7ym63WZwMMA+nHwMAAABhaPGGYr3zTZ7+8eZyVdc1Wx0HMA1FLQDAVMPeTdOwd5mNEwAC7ZQpvXXesQO1aUeV/vr8Qq3cUmp1JMAUFLUAAFP1WBKvHkvirY4BAF2OzWbTYSOydMvvxio22qVH3lqp5ZsobBF+uKYWAAAACGM56bG67dyx+nLpTg3tnSxJam7xMpkUwgYjtQAAAECYczkdOnp8DzkddtU2tOjmZxfo3bl58nhZ0xahj6IWAAAA6ELsNpv65yTq3bl5+tsrS1VUVmd1JOCgUNQCAEzljfDJG8FIAAAEi+hIp35/wmBddvJQFVfU66/PL9S7c/Pk8xlWRwM6haIWAGCqj2/J08e35FkdAwA67akVjyv9yXhd9cWlVkfxq3ED03X37w/RmAHp2lpYLRtL2SJEMVEUAAAAsA9bq7bobwvusjqGaRJiInTJiUPU4vHJZrOppLJBny4q0ClTeis6klIBoYEjFQBgqlFvpUuSlp1ebHESAOgYwzD0xy+vUIOnweoopnM5W0/gXLe9Ql8u3aElG4r1m1/0tzgV0D6cfgwAMFXWqjhlrYqzOgYAdNhzq57S/KJ5Gpo63OooAfPDurZx0RF64j+rNWH67aqua7Y6FrBfFLUAAADAT2yrytM98+/Q6PQxunDoxVbHCahemfG69dyxOvuofkro1lfbd9dYHQnYL4paAAAA4EcMw9AfZ18hj8+jR6Y9KYfdYXWkgHM67DpqbI5mP3+ZBvZIlCSVVTdqa2E1syQj6FDUAgAAAD/y/OpnNa9wrv4w5loNTB5kdRxLtTTWyOVsLeqLSuu0Oq9cc5YXand5vQyD4hbBgaIWAGCqpliPmmI9VscAgHZ7f8s7kqQHFv1N6U/G6+ovL5MkvbHh30p/Mt7CZNYa0itZ4wemyzAMLVhXrLmrdqmsqtHqWACzHwMAzPX59dutjgAAHTIh8xDFuxPavt9Zs0OrSleoe2y2hqWNsDCZtWw2mzJSopWeFKX84lptLKhUZV2TUhIiZRiGbCx0C4sEXVFbWlqqE044Qffee6+OOOIIq+MAAACgi/nLhNv2+P719a/q6i8v0+Tuh+mxI5+yKFXwsNtt6pkRp5z0GEmthWxBca2Kyuo1sEeiEmLd1gZElxN0Re3NN9+syspKq2MAAPxk3CsZkqRF5+yyOAkAwJ8c9v9dyWgYUnlNk75aUaT0pCj17Z6glHg3o7cIiKAqal977TVFRUUpMzPT6igAAD9J3xhjdQQAOChnDfyNzhr4G6tjBLXcjDhlpUYrr6hGW4uqNW/1LvVIj9XIfqlWR0MXEDQTReXl5emFF17Q7bffbnUUAAAAAB3kcjrUPydRvxiTrWG9k5WZEi1JavZ4tX1Xjbw+n8UJEa6CYqTW4/Ho+uuv180336zExMROPUdKSqx/QyEkpKXFWR3BMsHa95gY86+j6cptdPQxwdCPH05PO5gsgehHoNoxcx/642fdXrRhbhuBeoxZbRzMsWh2P2w2u9LTzZ/BOBB9D9R7gc70ZWh8VNvXRTsqtWJLmdbnV6p3doL6ZicqNsq1x/2D9X1NIHS078H0u34w/LnPg6KoffLJJzVo0CBNnTq1089RVlbLQtBdTFpanEpKaqyOYYlg7ntdXRNtmNRGTIy7w48Jhn788Mn8wWQJRD8C1U5H2ujoPvfHz7q9aMO8Njrzu96ZdjqjvW0czLFodj8Mw6dnZi03tY2Lp48MyH4P1HuBg90nGYmRmjikm/KKarQur1zr8srVLSlK4wamy25vveY2WN/XmK0z7+mC6Xf9YHSk33a7bb+DmEFR1H744YcqKSnRhx9+KEmqra3Vn/70J1122WW6+OKLLU4HADgYdSktVkcAAFjIZrMpLTFKaYlRamjyaPuuGtU3edoK2ox+E1VZ26REZk1GJwVFUfvxxx/v8f20adN06623sqQPAISBOX/ItzoCACBIRLmdGpib1PZ9U4tXo4+7Ttc+8a2G9ErWpKEZGtUvTW6Xw8KUCDVBM1EUAAAAgK7F7XLoq/+7SsdNzFVRaZ2eeW+trnlsrlZuKbU6GkJIUIzU/tSXX35pdQQAgJ8c8nyWJGn+BYUWJwEABKO6ikKdelgfnTyltzbkV2re6iJlp7VeP7lsU4k25Fdq7MB09c6Kl511b7EXQVnUAgDCR8q2qAPfCQDQ5dltNg3KTdKgH52evKOkTl8u3aFPFxUoKc6tMf3TNHZguvplJ8hGgYvvcfoxAAAAgKB0wqSeeuSqKfr9CYPVMyNOc5YX6uVPN7QVtHlF1Wpq8VqcElZjpBYAAABA0IqOdGrikAxNHJKhhiaPyqsbJUktHp/+/u9l8hmGBuUmaUSfFA3vk6qUhEiLEyPQKGoBAAAAhIQot1Pdv7/e1m6Xrpw+TCs2l2rF5lKt3FImaaN+fVQ//WJsjjxen7w+g5mUuwCKWgCAqaoyzV/AHQDQ9Tjsdg3pmawhPZP16yP7aVd5vVZsLtOAnERJ0rrtFXps1ir1y07Q4J5JGtIrWT26xTHZVBiiqAUAmGruZTusjgAACHM2m02ZKTHKTIlp25YSH6kjx3TXmrxyzfpqq2Z9tVWxUS7deu5YpSVGyeP1yelgiqFwQFELAAAAIOxkpcbozGn9JElVtU1au61CG3dUKiW+9Zrb1z7fpDXbyjU4N0mDeiZrYI9ExUVHWBkZnURRCwAw1eR/ZUtixBYAYJ2EWLcmDs3QxKEZbdv6dk9QeXWj5q/drTnLC2WTNKxPiv54+ghJktfnk8POSG4ooKgFAJgqochtdQQAAH7mhyLX4/Vp264ard1W3nY6smEY+svT85Uc59bgnska1DNJvTLjOV05SFHUAgAAAOiynA67+nZPUN/uCW3bPF5D4wama+22Cr07N0/vzM2TO8Kh06b20ZFjsmUYhgyJSaeCBEUtAAAAAPyIy2nX6Uf0lSTVNrRo/fYKrdteoYzkaElS/u5a/ePN5RqUm9T6r2ey0hOjrIzcpVHUAgAAAMA+xEa5NHZgusYOTG/b5nDYNLRXitZuL9fCdcWSpPSkKF01fbi6p8bs66lgEopaAICpyno2WB0BAAC/yk6L1e9PGCzDMFRUVq+128q1dluFUhNaZ1b+eEG+tuys0vC+KRreJ1UJMcyqbCaKWgCAqeZfUGh1BAAATGGz2ZSVGqOs1BgdNTanbbshQ1uLqrVkY4lskvpmJ+iQwd10xOhs68KGMYpaAAAAAPCjYyfk6pjxPVRQXKvlm0q1eEOxVm4paytqv1u9S/1yEpSWFmdx0vBAUQsAMNXh/+whSZrzh3yLkwBA11NUW6i/zrtJX+R/LrcjQlOzp+muyfcpNSrV6mgdFmp9sdls6tEtTj26xenEyb3U1OKVJG0o3qbLvrhcxc6lctkjNCZlih75xYPqkZRpceLQxUJLAABTxZS5FFPmsjoGAHQ5hmHoNx+eoXc2v62cuB5KdCdp1qY3dfZ/p8tn+KyO1yHh0Be3yyHDMHTZnHNU6JqrzOhsuRWnuaXv66hXjtPyzcVWRwxZFLUAAABAGNpcuUnbqvI0Im2UZp/xrb4841vFRcRreckybarYaHW8DgmXvvy4H4vPW6TCv2xQjDNOlY7N8kbvliQtXl+sN7/crN3l9RanDR2cfgwAAACEoX5J/bXloh2qbamRzWZTVVOlmr1NctgcSnAnWB2vQ8KlLz/tR2VjpTxGsxw2h7ontJ5GXVBcq88WF+jjhfka2jtZR43J1tDeKbLbbBanD16M1AIAAABhymazKS4iXo8te0RT3zhEHp9Ht028SxkxoXf9Zrj05cf9GPavYT/rxymH9dYDl0/SSZN7qWB3rR55a6Uen7XK4tTBjZFaAICpivvXWR0BALq8OflfqLyxXInuxJAf8QuXvszJ/0JlDWV77UdirFsnTe6l4ybmasmGErldDkmSMyJKq7aWqU9WvKIjma/iBxS1AABTLTpnl9URAKDLe/6Yl1XXUqfT3ztJt377F2XFZuuEPidZHatTwqUvzx/zsiLjbZr2wpH77IfTYdeEwd3avk/M6Kdtu2q0bVeNstNi1S87QbFRFLecfgwAAACEqaqmSpXUlyjBnais2O76Ve8TJElzd35lcbKOC5e+/Lgf2fHZHepHaf5KHTUmWz0z4rSztE5fLt2pJRtK5PWFxgzQZqGoBQCY6qi/5+qov+daHQMAupyP8j5Qvxk9dN7HZ8swDBmGoWXFSyVJaVHpFqfrmHDpiz/6EeV2aljvFB01Jlt9u8fL6/PJYW8t635YC7er4fRjAICp3LX8qQEAK0zNPkL9Evtr0a4FOvyNibLbHFpTtkqpUan67eDzrI7XIeHSl5/2I8Ll0ordKzrVj8gIhwb3TJZhGJKk+kaPZi/bqazUaA3skaQod9f5+8tILQAAABCGol3ReuvEd3Vqv9NU0lCsorqd+lWvE/TR9C/VLSbD6ngdEi59+Wk/dlTvOOh+2L6fZMrltKlnZpx2ltTpiyU7tHZbuVo8XWPktuuU7wAAAEAXkxXbXU/94nmrY/hFuPTlx/1IS4tTSUmNX57X5XRoSM9k9cqM1/rtFdq8s1r5xbU6anS2nM7wHsukqAUAAACAMBHtdmp0/zT1yYpXeU1TW0FbVdeshJgIi9OZg6IWAGCqwmH++QQaAAC0X0KsWwmxbklSeU2j5q7cpYzkaA3tnazoMLveNrx6AwAIOstOL7Y6AgCEHZvNrvT0eKtj+EUg+pLVPUfLl60xtY2Ro4aocGeBqW10VmKMW4Nyk7SxoFKzl+7UgJxE9c6Kl91uszqaX1DUAgAAACHGMHx6ZtZy09u5ePpI09sIRF8C0Y/CnQUd7kdMjFt1dU3tvn9n+2G329QvO0HdU2O0Oq9Ma7dXqKi8XpOHZbRNNBXKKGoBAKY65u5ekqSPb8mzOAkAAF1bdKRT4wd1067yejW3eGWz2WQYhrw+Q05H6E4mRVELADCVozl0/0gCABCOMpKj277eUVKn9fkVGtk3VWmJURam6jyKWgAAAADoomKjXHLYbfpuzW71zIiTwxVpdaQO4+NzAAAAAOiikuLcmjoiS72z4rVtV40O++0jKqtutDpWh1DUAgAAAEAX5nDYNbRXsg4dmiHJUHOL1+pIHUJRCwAwVf6YauWPqbY6BgAAOICUhEh99X9XKTMlRpK0o7hWNfXNFqc6MK6pBQCYatVJJVZHAAAA7eTzeiRJHq9Pa7dXqMXj07DeycpJjw3a5X8YqQUAAAAA7MHpsGvK8Ewlxrq1fHOZlm0qlcfjszrWXlHUAgBMddxtfXTcbX2sjgEAADooyu3UpKHdNKBHonaU1OnrlYXy+oKvsOX0YwAAAADAXtlsNg3ISVRqfKSq6prlsAffuGjwJQIAAAAABJWUhEj1zoqXJJVUNmjZphJ5vMExaktRCwAAAABot+r6ZhUU12nuql2qa2yxOg5FLQAAAACg/fpkJWjCoHQ1NHr09YoiFVc0WJqHohYAYKqtkyq1dVKl1TEAAIAfdUuO1mEjMhUZ4dD8tbtVXtNoWRYmigIAmGrdMWVWRwAAACaIiXJpyvBMFRTXKinWbVkORmoBAKZyNNnkaArOxdoBAMDBcTrs6pUZL5vNptqGFn27qijg19lS1AIATHXMPb11zD29rY4BAABM1tTsVXVdi75ZUaSy6sCdjkxRCwAAAAA4aCkJkZoyIlMup13zVu9S/u6agLRLUQsAAAAA8IvYKJemjMhUSnyklm8u046SWtPbpKgFAAAAAEm763fr6i8v09AX+6nPc9k6+Z1facnuRVbHCjkRTocOGdxNg3KTlJkcbXp7FLUAAAAAujyf4dO5H56l19e/qriIOPVPGqB5hXM1/d0TlVe11ep4Icdut6lfdoIcDrtaPD4t2VCihiaPOW2Z8qwAAHxv4+Hl2nh4udUxAADYr1UlK7S0eIl6xPfUN2ct1EfTv9BJfU5VvadOb296y+p4Ia22oUW7K+r1zcoiVdU2+f35WacWAGCqTdMqrI4AAMABZcRk6ulfPK9IZ5Sc9tYyKT06XZJU1lBqZbSQlxTn1uRhmVqwdrfmrtql9F5j/Pr8FLUAAFO5qx2SpKZ4r8VJAADYt24xGTql32lt35c2lOo/m2dJksZmjLcqVtiIj4nQlOGZWrCuWCk5w/z63Jx+DAAw1VEP9tRRD/a0OgYAAO1W2VihX/93ukobStQ/aYBO6H2y1ZHCQqTbqUOHZWjdNy/59XkpagEAAADgexWN5Trt/ZO0omSZEt2Jeu7ol+RyuKyOFTacDrtk+Pz6nBS1AAAAACCptqVWZ75/ilaWLFdyZLJmnfi+BiYPsjoWDoBragEAAABA0jVfXqnlJcsUH5GgmSe+r6Gp/r32E+YImqJ28eLFuv/++7V161YlJSXpoosu0llnnWV1LAAAAABdwNLdi/XulrclSYnuRP190b1tt03NPkIXDrvYqmg4gKAoaquqqnT55Zfr1ltv1XHHHad169bp/PPPV48ePTRp0iSr4wEADsK6o8usjgAAwAF9sPX9tq/za7Yrv2Z72/cpkSlWREI7BUVRW1hYqKlTp+qEE06QJA0ZMkQTJkzQ0qVLKWoBIMRtPbTS6ggAABzQrRPv0K0T77A6BjohKCaKGjRokB544IG276uqqrR48WINHDjQwlQAAH+IKXUpppRZIwEAgDmCYqT2x2pqanTppZdqyJAhmjZtWrsfl5ISa2IqBKu0tDirI1gmWPseE+OmDRPb6OhjgqEfR97eQ5L0xQP5prXhL8Hw8zqY+zvs9k610Rm0YW4bgXqMWW0czLEYTP0IdBvB+BofqHbMbsNmsys9Pd7UNqTw2e+BaMOf72WDqqgtKCjQpZdeqpycHD3yyCOy29s/kFxWViufzzAxHYJNWlqcSkpqrI5hiWDue11dE22Y1EZMjLvDjwmGfnh9voPOEoh+BKqdjrTR0X3uj591e9GGeW105ne9M+10RnvbOJhjMZj6Ecg2gvU1PlDtmN2GYfj0zKzlprZx8fSRYbPfA9FGR97L2u22/Q5iBsXpx5K0Zs0anXHGGZo8ebKefPJJRUZGWh0JAAAAABDkgmKktrS0VBdddJHOP/98XXwxU2UDAAAAANonKEZqZ86cqfLycv3rX//SqFGj2v49/PDDVkcDAAAAAASxoBipvfTSS3XppZdaHQMAYIJVJ5RYHQEAAISxoChqAQDhK39ctdURAABAGAuK048BAOErYadbCTsDs+wEAADoeihqAQCmmvx0tiY/nW11DAAAEKYoagEAAAAAIYuiFgAAAAAQsihqAQAAAAAhi6IWAAAAABCyWNIHAGCqZdN3Wx0BAACEMYpaAICpCkfUWh0BAACEMU4/BgCYKjkvUsl5kVbHAAAAYYqiFgBgqokvdNfEF7pbHQMAAIQpiloAAAAAQMiiqAUAAAAAhCyKWgAAAABAyKKoBQAAAACELJb0AQCYatHZRVZHAAAAYYyiFgBgquKB9VZHAAAAYYzTjwEApkpfH6309dFWxwAAAGGKohYAYKpx/87UuH9nWh0DAACEKYpaAAAAAEDIoqgFAAAAAIQsiloAAAAAQMiiqAUAAAAAhCyW9AEAmOq783daHQEAAIQxiloAgKnKezVaHQEAAIQxTj8GAJgqa0WsslbEWh0DAACEKUZqAQCmGjWrmySpcEStxUkAAEA4YqQWAAAAABCyKGoBAAAAACGLohYAAAAAELIoagEAAAAAIYuJogAAppp7yQ6rIwAAgDBGUQsAMFVV9yarIwAAgDDG6ccAAFP1WBSvHovirY4BAADCFCO1AABTDXs/TZKUP67a4iQAACAcMVILAAAAAAhZFLUAAAAAgJBFUQsAAAAACFkUtQAAAACAkMVEUQAAU825Ot/qCAAAIIxR1AIATFWX2mJ1BAAAEMY4/RgAYKre3yaq97eJVscAAABhipFaAICpBn2SIknaemiltUEAAEBYYqQWAAAAABCyKGoBAAAAACGLohYAAAAAELIoagEAAAAAIYuJogAApvr8um1WRwAAAGGMohYAYKqmeK/VEQAAQBjj9GMAgKn6fZmkfl8mWR0DAACEKYpaAICp+s9JVv85yVbHAAAAYYqiFgAAAAAQsihqAQAAAAAhi6IWAAAAABCyKGoBAAAAACGLJX0AAKb6+OatVkcAAABhjKIWAGAqr9uwOgIAAAhjnH4MADDVoI9TNOjjFKtjAACAMEVRCwAwVe95ieo9L9HqGAAAIEwFTVG7du1anXbaaRo5cqROOukkLV++3OpIAAAAAIAgFxRFbVNTky699FKdeuqpWrRokX7729/qsssuU11dndXRAAAAAABBLCiK2vnz58tut+vss8+Wy+XSaaedptTUVH311VdWRwMAAAAABLGgmP04Ly9Pffr02WNbr169tHVr+5eBsNtt/o6FENCV93sw9j03N1ex0S7aMKmN6EiXbIbP1DY6qj1tOLJaj9XOZglEPwLVTkfb6Og+d2RlKrI2+PpBG+b+rne2nY7qSBuOuExJHf+9D7Z+BLKNYHyND1Q7XbmNYNzvgWqjI+9lD3Rfm2EYlq+18OSTT2rt2rV6/PHH27Zdf/31Sk9P13XXXWdhMgAAAABAMAuK04+joqLU2Ni4x7bGxkZFR0dblAgAAAAAEAqCoqjt3bu38vLy9tiWl5envn37WpQIAAAAABAKgqKonThxopqbm/Xyyy+rpaVFM2fOVGlpqSZPnmx1NAAAAABAEAuKa2olaf369br99tu1YcMG5ebm6vbbb9fIkSOtjgUAAAAACGJBU9QCAAAAANBRQXH6MQAAAAAAnUFRCwAAAAAIWRS1AAAAAICQRVELAAAAAAhZIV3Url27VqeddppGjhypk046ScuXL7c6Eky0cuXKPZZ5qqqq0hVXXKExY8bo8MMP11tvvWVhOnP9tO+rVq3SoEGDNGrUqLZ/Tz31lOW5du/erUsvvVTjxo3T5MmT9dBDD8nn83XquRcvXqzTTz9dY8aM0VFHHaXXX39dUtfY7/vqe7DsdzN9+OGHOvbYYzVq1Cgdd9xx+vzzzyV1jf2+r753hf0uSaWlpZo4caJmz54tSdqxY4fOPfdcjRo1SkcffXTb9nD0075//PHHGjx48B77/L333rM4pX/NmDFDQ4cO3aOPixcv7hK/6/vqe1f4Xd+1a5cuueQSjR49WocddpheeuklSV3jNX5ffQ/3/f7ee+/t0bdRo0Zp4MCBuvXWW/27340Q1djYaEyZMsV49dVXjebmZuOtt94yDjnkEKO2ttbqaPAzn89nvPXWW8aYMWOM8ePHt22/6qqrjOuuu85obGw0VqxYYYwfP95YtmyZdUFNsK++v/HGG8bFF18cdLmuvPJK45577jFaWlqMoqIiY9q0acZ//vOfDj9/ZWWlMW7cOOO9994zvF6vsXr1amPcuHHGt99+G/b7fX99t3q/m23r1q3GiBEjjCVLlhiGYRjffvutMWTIEKOsrCzs9/v++h7u+/0HF198sTFw4EDjyy+/NAzDME499VTjwQcfNJqbm405c+YYo0aNMnbu3GlxSnP8tO//+Mc/jDvuuMPiVOb605/+ZDz33HM/2x7uv+uGse++h/vvus/nM0455RTjvvvuM5qbm42NGzca48aNM5YsWRL2+31/fQ/3/f5T3377rXHooYcaRUVFft3vITtSO3/+fNntdp199tlyuVw67bTTlJqaqq+++srqaPCzp556Si+99JIuvfTStm11dXX6/PPPdfXVV8vtdmv48OE6/vjj9c4771gX1AR767vUepbCwIEDLUq171zbtm2T1+ttG5212+1yu90dfv7CwkJNnTpVJ5xwgux2u4YMGaIJEyZo6dKlYb/f99d3q/e72Xr16qVvv/1Wo0ePlsfjUWlpqWJiYhQRERH2+31/fQ/3/S5Jr732mqKiopSZmSlJ2rJlizZu3KgrrrhCLpdLU6dO1fjx4/XBBx9YnNT/ftp3qfU1ftCgQRamMt+6det+1seu8rd9b32XrP/bbrYVK1aouLhY1113nVwul/r166fXX39d3bp1C/v9vq++9+rVK+z3+4/V1dXpxhtv1O233664uDi/7veQLWrz8vLUp0+fPbb16tVLW7dutSgRzDJ9+nS9++67GjZsWNu27du3y+l0Kicnp21bOO7/vfVdav2DuHTpUk2bNk2HH3647r//fjU3N1ue68ILL9Sbb76pkSNHaurUqRozZoyOPfbYDj//oEGD9MADD7R9X1VVpcWLF0tS2O/3ffV94MCBlu/3QIiJiVFBQYGGDx+u66+/Xtdcc43y8/PDfr9Le+97bGxs2O/3vLw8vfDCC7r99tvbtm3dulXdu3dXZGRk27Zw3Od767vU+hr/8ccfa8qUKTrqqKP09NNPyzAMa0KaoKGhQXl5eXrppZd06KGH6thjj9XMmTO7xN/2ffVdsv5vu9nWrFmjfv366YEHHtChhx6qo48+WitWrFBVVVXY7/d99T0pKSns9/uPPffcc+rfv7+OOuoov/++h2xRW19fr6ioqD22RUZGqrGx0aJEMEt6erpsNtse2+rr6/d4syOF5/7fW98lKSkpSdOmTdN///tfvfzyy1qwYIEeffRRy3NJ0iWXXKIlS5bogw8+0OLFi9uuB+2smpoaXXrppW0jll1hv//gx32fNm2a5fs9UDIzM7VixQq98MILuv/++/Xll192mf3+075/9913Yb3fPR6Prr/+et18881KTExs294V/sbvr+89e/bUCSecoM8//1yPP/643njjjYN+LQ0mpaWlGjNmjH79619r9uzZuuuuu3Tfffdp9uzZYf+7vq++f/XVV2H9uy61fki7YMECJSUlafbs2frb3/6mu+66q0u8p9tX3xcvXhz2+/0HdXV1euWVV3TllVdK8v97+ZAtaqOion7W6cbGRkVHR1uUCIEUFRWlpqamPbZ1pf3/1FNP6fzzz1d0dLRycnJ0ySWX6LPPPrM0U3Fxsf7617/q4osvVlRUlPr+f3t3FxrF+cVx/KfRVUJLsC20Wl9aFaMp4rhuioZIEoQERYgp+AaCmosEWupFLL2zN4VKiojaEIm9CJjtCypYaDUXMRhpiRZNlZIgNMGERtPW0NpQXzqum9OLYWNW/yv8JclkZ78fWHZ5ZhjO4TDsHp5nnl28WFVVVTpx4sRzX7O/v1/btm1TTk6O6urqlJ2dnTF1fzL3qVOnTsq6j4dp06Zp+vTpWrNmjUpLS9XZ2ZkxdX8y99bW1kDXvb6+XsuWLVNRUVHSeCZ8x6fKPTs7W9FoVJs2bdKMGTO0dOlS7dixY2TjsCCYN2+eotGoioqKFAqFFIlEVF5eritXrgT+Xk+Ve9DvdUkKhULKyclRdXW1QqGQwuGwysrKdOTIkcDXPVXumVD3hHPnzmnOnDlyHEfS2P+WT9umduHChert7U0a6+3t1eLFi32KCBNpwYIFisViGhgYGBnLlPoPDQ2ptrZWd+/eHRlzXfe5nl0dS4ODg4rFYorFYiNjWVlZysrKeq7rdXV1acuWLSosLFR9fb1mzpyZMXX/X7lP1rqPpQsXLmjXrl1JY7FYTPPnzw983VPlbmaBrvvZs2d15swZRSIRRSIRDQwMqKamRr29vbp161bSEryg1TxV7g0NDTpw4EDScmPXdRUKhXyMdmx1dXXp2LFjSWOu62r27NmBv9dT5R4KhQJ9r0ve0tJ4PK54PD4yFo/HlZeXF/i6p8o9E77bE86fP5/0SNqY/6Ybw82sJpTrulZYWGjHjx9P2v343r17foeGcXLp0qWndtqtqamx+/fvj+yYdu3aNR8jHD+jc4/H47Zu3Trbv3+/PXz40Pr6+mz9+vXW2Njoa1yu61pJSYnt27fPXNe1/v5+27Bhw3PFNTg4aKtXr7aGhoanjgW97qlyn0x1Hy+3b9+2VatW2enTpy0ej1tbW5uFw2Hr6ekJfN1T5d7d3R34uo9WUlIysgNwRUWF1dbWmuu61tbWZo7j2MDAgM8Rjp9E7kNDQxaJRKyxsXFkB/SCggJraWnxO8Qxc+PGDVu+fLk1NzdbPB639vZ2cxzHOjs7A3+vPyv3oN/rDx48sLVr19qhQ4csFotZR0eHOY5jV69eDXzdU+Xe0dER+LonFBcX28WLF5PGxrLuadvUmpldv37dtm7dao7jWHl5eaC2/sbTnmxq79y5Y3v27LH8/HwrKiqykydP+hjd+Hoy9+7ubtu5c6eFw2ErKCiww4cP2/Dw8KSIa/fu3Zafn2/FxcVWV1dn8Xj8/77u0aNHbcmSJeY4TtLr4MGDga/7s3KfLHUfT5cvX7aKigpbuXKlVVRUjHwBBr3uZqlzz4S6J4xuam/evGmVlZUWDoettLR0ZDyoRufe0dFhmzdvNsdxrLi42KLRqM/Rjb3W1lbbuHGjrVixwkpLS625udnMMuNeT5V7JtzrfX19VllZafn5+VZSUmKnTp0ys8yoe6rcM6Hujx49stzcXOvp6UkaH8u6TzEL0HZ6AAAAAICMkrbP1AIAAAAAQFMLAAAAAEhbNLUAAAAAgLRFUwsAAAAASFs0tQAAAACAtEVTCwAAAABIWzS1AABMFi0t0pQp3qu93e9oAABICzS1AABMFl988fhzU5N/cQAAkEammJn5HQQAABnvwQPp1Vcl15UePpRmzZJ+/10KhfyODACASY2ZWgAAJoNvv5X++UcqK5MiEenOHem775LPuXtX2rlTeuEF6c03pdOnpddek9544/E57e3S229LM2ZIixZJR49OaBoAAEw0mloAACaDxNLjigrpnXe8z8ePJ5+zd683lp3tNbI7dkh///34+B9/eE3xtWvS2rXerO+777KUGQAQaCw/BgDAb3/95c24Dg97S47//FNaulSaPl367Tfp5Ze9WdpZs7yxX36R5s6VGhulykppwQKpr0/66CPp44+lhgapqsqb7Z07V8rNlX76ye8sAQAYF8zUAgDgt5MnpVhMKiyUXnnFa0Lz8ryxr7/2zrlxQ3r0SFq50mtUpcczugldXd57dbW3g/JLL0n370s//+xdCwCAAJrmdwAAAGS8xNLjCxe8ZnS0pibpvfe8hlaSnrXAKtG4FhZ6s7uj/fuvN8sLAEDAMFMLAICffv1V+uEHaepU6a23kl+S9OOP3nLjRYu8pvTqVenmTe9YYhY3IS/Pey8vl775Rvr8c2nOHO853RdfnLCUAACYSDS1AAD46csvvdnXsjKpszP5VVzsndPUJOXkSNu3ezOu4bB3bO/e5GtVVXm7Hn/4oVRUJDmOt/txZ+cEJwUAwMShqQUAwE+JpceVlU8fq6723qNRr/H97DNp61Zv06hbt6SvvvKOJ/7LduFCqblZys/3ZniHh6UPPpD27x//PAAA8Am7HwMAkC727ZNmz/aWF7/+urcsOTfXe4b2++/9jg4AAF+wURQAAOmipcWbgf30U++Z28uXvfENG/yNCwAAHzFTCwBAuujpkd5/X2pvl+7d8/7bdvt26ZNP2NkYAJCxaGoBAAAAAGmLjaIAAAAAAGmLphYAAAAAkLZoagEAAAAAaYumFgAAAACQtmhqAQAAAABpi6YWAAAAAJC2/gO1rvH0OsSlZAAAAABJRU5ErkJggg==\n",
      "text/plain": [
       "<Figure size 1152x720 with 1 Axes>"
      ]
     },
     "metadata": {},
     "output_type": "display_data"
    }
   ],
   "source": [
    "sns.set(style=\"darkgrid\")\n",
    "plt.figure(figsize=(16,10))\n",
    "\n",
    "ax=sns.histplot(data=mall_customers_df, x=\"Age\", kde=True,binwidth = 2,element=\"bars\",edgecolor='black',line_kws= {'color':'red','linestyle': 'dashed'})\n",
    "ax.bar_label(ax.containers[0],color='green',fontsize=15,weight=\"bold\")\n",
    "ax.set_xlim(16, 70)\n",
    "plt.xlim(18, 71)\n",
    "plt.xticks(b,fontsize=13)\n",
    "plt.yticks(rotation=0,fontsize=13)\n",
    "plt.xlabel('Age', fontsize=14,color='red',weight=\"bold\")\n",
    "plt.ylabel('Count', fontsize=15,color='red',weight=\"bold\")\n",
    "plt.axvline(lower_quantile, color='magenta', linestyle='--', label=\"lower_quantile\")\n",
    "plt.axvline(median, color='red', linestyle='-', label=\"median\")\n",
    "plt.axvline(upper_quantile, color='darkorange', label=\"upper_quantile\")\n",
    "plt.legend()\n",
    "plt.show()"
   ]
  },
  {
   "cell_type": "markdown",
   "id": "ea9f1e18",
   "metadata": {},
   "source": [
    "- **Nhận xét**: \n",
    "    - Khách hàng từ độ tuổi từ **18-28** chiếm `25%`, 29-36 chiếm 25%, **36-49** chiếm `25%`, **49- 70** chiếm `25%`\n",
    "    - Độ tuổi từ 18-50 có số lượng khách hàng chiếm nhiều nhất. Lý do là đây những khách hàng nằm trong độ tuổi lao động có nguồn thu nhập đa dạng(làm 2-3 công việc, còn trẻ nên sưc khỏe tốt,...)\n",
    "    - Số lượng khách hàng trong độ tuổi từ 30-35 nhiều hơn khoảng độ tuổi khác"
   ]
  },
  {
   "cell_type": "markdown",
   "id": "ef94e2d9",
   "metadata": {},
   "source": [
    "### Top 10 độ tuổi có thu nhập cao nhất"
   ]
  },
  {
   "cell_type": "code",
   "execution_count": 55,
   "id": "ad470f8b",
   "metadata": {},
   "outputs": [],
   "source": [
    "age_annual_income=mall_customers_df.groupby(['Age']).agg({'Annual Income (k$)':'sum'})\n",
    "age_annual_income=age_annual_income.sort_values(by=['Annual Income (k$)'],ascending=False)\n",
    "age_annual_income=age_annual_income.head(10)\n",
    "age_annual_income=age_annual_income.reset_index(inplace=False)\n",
    "age_annual_income['Age'] = age_annual_income['Age'].map(str)"
   ]
  },
  {
   "cell_type": "code",
   "execution_count": 62,
   "id": "be40c5c3",
   "metadata": {},
   "outputs": [
    {
     "data": {
      "image/png": "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\n",
      "text/plain": [
       "<Figure size 864x576 with 1 Axes>"
      ]
     },
     "metadata": {},
     "output_type": "display_data"
    }
   ],
   "source": [
    "sns.set(style=\"darkgrid\")\n",
    "plt.figure(figsize=(12,8))\n",
    "ax = sns.barplot(y=age_annual_income['Age'],x=age_annual_income['Annual Income (k$)'],orient = 'h')\n",
    "plt.xlabel('Annual Income (k$)', fontsize=14,color='red',weight=\"bold\")\n",
    "plt.ylabel('Age',fontsize=15,color='red',weight=\"bold\")\n",
    "plt.xticks(fontsize=13,weight=\"bold\")\n",
    "plt.yticks(fontsize=13,weight=\"bold\")\n",
    "ax.bar_label(ax.containers[0],color='green',fontsize=15,weight=\"bold\")\n",
    "plt.show()"
   ]
  },
  {
   "cell_type": "markdown",
   "id": "4d747dc3",
   "metadata": {},
   "source": [
    "- **Nhận xét**: \n",
    "    - Khách hàng ở tuổi 32 có thu nhập nhiều nhất với số tiền **959 ngàn đô la** nhiều hơn gấp đôi so với các độ tuổi khác.\n",
    "    - Nhìn một cách tổng quan thì độ tuổi nhằm trong khoảng 30-40 có thu nhập cao, xuất hiện nhiều nhất trong top 10"
   ]
  },
  {
   "cell_type": "markdown",
   "id": "2e4d8dc0",
   "metadata": {},
   "source": [
    "### Top 10 độ tuổi có điểm đánh giá cao nhất `Spending Score (1-100)`"
   ]
  },
  {
   "cell_type": "code",
   "execution_count": 63,
   "id": "275fd21a",
   "metadata": {},
   "outputs": [],
   "source": [
    "age_annual_income=mall_customers_df.groupby(['Age']).agg({'Spending Score (1-100)':'sum'})\n",
    "age_annual_income=age_annual_income.sort_values(by=['Spending Score (1-100)'],ascending=False)\n",
    "age_annual_income=age_annual_income.head(10)\n",
    "age_annual_income=age_annual_income.reset_index(inplace=False)\n",
    "age_annual_income['Age'] = age_annual_income['Age'].map(str)"
   ]
  },
  {
   "cell_type": "code",
   "execution_count": 65,
   "id": "d83eff16",
   "metadata": {},
   "outputs": [
    {
     "data": {
      "image/png": "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\n",
      "text/plain": [
       "<Figure size 864x576 with 1 Axes>"
      ]
     },
     "metadata": {},
     "output_type": "display_data"
    }
   ],
   "source": [
    "sns.set(style=\"darkgrid\")\n",
    "plt.figure(figsize=(12,8))\n",
    "ax = sns.barplot(y=age_annual_income['Age'],x=age_annual_income['Spending Score (1-100)'],orient = 'h')\n",
    "plt.xlabel('Spending Score (1-100)', fontsize=14,color='red',weight=\"bold\")\n",
    "plt.ylabel('Age',fontsize=15,color='red',weight=\"bold\")\n",
    "plt.xticks(fontsize=13,weight=\"bold\")\n",
    "plt.yticks(fontsize=13,weight=\"bold\")\n",
    "ax.bar_label(ax.containers[0],color='green',fontsize=15,weight=\"bold\")\n",
    "plt.show()"
   ]
  },
  {
   "cell_type": "markdown",
   "id": "661804bc",
   "metadata": {},
   "source": [
    "### Tỉ lệ khách hàng là nam, nữ"
   ]
  },
  {
   "cell_type": "code",
   "execution_count": 18,
   "id": "0b220d8e",
   "metadata": {},
   "outputs": [],
   "source": [
    "gender=mall_customers_df['Gender'].value_counts().to_frame()"
   ]
  },
  {
   "cell_type": "code",
   "execution_count": 19,
   "id": "f69a7786",
   "metadata": {},
   "outputs": [
    {
     "data": {
      "image/png": "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\n",
      "text/plain": [
       "<Figure size 1152x720 with 1 Axes>"
      ]
     },
     "metadata": {},
     "output_type": "display_data"
    }
   ],
   "source": [
    "palette_color = sns.color_palette('pastel')\n",
    "explode = [0, 0]\n",
    "plt.figure(figsize=(16,10))\n",
    "pie=plt.pie(gender['Gender'], labels =gender.index,colors=palette_color,explode=explode, autopct='%.0f%%')\n",
    "plt.show()"
   ]
  },
  {
   "cell_type": "markdown",
   "id": "6f31e59a",
   "metadata": {},
   "source": [
    "- **Nhận xét**: Số lượng khách hàng `female` nhiều hơn `male`"
   ]
  },
  {
   "cell_type": "markdown",
   "id": "075c05a3",
   "metadata": {},
   "source": [
    "### Female or male who has higher income ?"
   ]
  },
  {
   "cell_type": "code",
   "execution_count": 20,
   "id": "d9b6fd4a",
   "metadata": {},
   "outputs": [
    {
     "data": {
      "text/html": [
       "<div>\n",
       "<style scoped>\n",
       "    .dataframe tbody tr th:only-of-type {\n",
       "        vertical-align: middle;\n",
       "    }\n",
       "\n",
       "    .dataframe tbody tr th {\n",
       "        vertical-align: top;\n",
       "    }\n",
       "\n",
       "    .dataframe thead th {\n",
       "        text-align: right;\n",
       "    }\n",
       "</style>\n",
       "<table border=\"1\" class=\"dataframe\">\n",
       "  <thead>\n",
       "    <tr style=\"text-align: right;\">\n",
       "      <th></th>\n",
       "      <th>Annual Income (k$)</th>\n",
       "    </tr>\n",
       "    <tr>\n",
       "      <th>Gender</th>\n",
       "      <th></th>\n",
       "    </tr>\n",
       "  </thead>\n",
       "  <tbody>\n",
       "    <tr>\n",
       "      <th>Female</th>\n",
       "      <td>6636</td>\n",
       "    </tr>\n",
       "    <tr>\n",
       "      <th>Male</th>\n",
       "      <td>5476</td>\n",
       "    </tr>\n",
       "  </tbody>\n",
       "</table>\n",
       "</div>"
      ],
      "text/plain": [
       "        Annual Income (k$)\n",
       "Gender                    \n",
       "Female                6636\n",
       "Male                  5476"
      ]
     },
     "execution_count": 20,
     "metadata": {},
     "output_type": "execute_result"
    }
   ],
   "source": [
    "annual_income=mall_customers_df.groupby(['Gender']).agg({'Annual Income (k$)':'sum'})\n",
    "annual_income"
   ]
  },
  {
   "cell_type": "code",
   "execution_count": 21,
   "id": "41c27813",
   "metadata": {},
   "outputs": [
    {
     "data": {
      "image/png": "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\n",
      "text/plain": [
       "<Figure size 1152x720 with 1 Axes>"
      ]
     },
     "metadata": {},
     "output_type": "display_data"
    }
   ],
   "source": [
    "plt.figure(figsize=(16,10))\n",
    "ax = sns.barplot(x=annual_income.index, y=\"Annual Income (k$)\", data=annual_income)\n",
    "plt.xlabel('Gender', fontsize=15,color='red')\n",
    "plt.ylabel('Annual Income (k$)', fontsize=15,color='red')\n",
    "plt.xticks(rotation=0,color='brown',fontsize=13)\n",
    "plt.yticks(rotation=0,color='brown',fontsize=13)\n",
    "\n",
    "ax.bar_label(ax.containers[0],fontsize=15,weight=\"bold\")\n",
    "plt.show()"
   ]
  },
  {
   "cell_type": "markdown",
   "id": "0000244c",
   "metadata": {},
   "source": [
    "- **Nhận xét**: Female thu nhập nhiều hơn male. Chắc có thể do số lượng khách hàng female nhiều hơn male"
   ]
=======
   "execution_count": null,
   "id": "f62b9fc5",
   "metadata": {},
   "outputs": [],
   "source": []
>>>>>>> aae1977bdae98b7b6e6519b20c8b54e88b641e62
  },
  {
   "cell_type": "markdown",
   "id": "f9ffc07d",
   "metadata": {},
   "source": [
    "#### Trương Chí Toàn"
   ]
  },
  {
   "cell_type": "markdown",
   "id": "e61f52d2",
   "metadata": {},
   "source": []
  },
  {
   "cell_type": "code",
   "execution_count": null,
   "id": "935f1a58",
   "metadata": {},
   "outputs": [],
   "source": []
  },
  {
   "cell_type": "markdown",
   "id": "98c2405e",
   "metadata": {},
   "source": [
    "#### Nhận xét"
   ]
  },
  {
   "cell_type": "markdown",
   "id": "88e80ce4",
   "metadata": {},
   "source": [
    "## Clustering"
   ]
  },
  {
   "cell_type": "markdown",
<<<<<<< HEAD
   "id": "6d98ab32",
   "metadata": {},
   "source": [
    "#### Lê Minh Trí"
=======
   "id": "e0342f35",
   "metadata": {},
   "source": [
    "### Find suitable number of clusters"
   ]
  },
  {
   "cell_type": "code",
   "execution_count": 22,
   "id": "d913fa27",
   "metadata": {},
   "outputs": [],
   "source": [
    "import numpy as np\n",
    "import pandas as pd\n",
    "import matplotlib.pyplot as plt\n",
    "import seaborn as sns\n",
    "import os"
   ]
  },
  {
   "cell_type": "code",
   "execution_count": 86,
   "id": "600d6685",
   "metadata": {},
   "outputs": [],
   "source": [
    "from sklearn.cluster import KMeans\n",
    "from sklearn.metrics import silhouette_score\n",
    "WCSS = []\n",
    "s_score = []\n",
    "X = mall_customers_df[['Age', 'Annual Income (k$)', 'Spending Score (1-100)']]\n",
    "for k in range(2,11):\n",
    "    kmeans = KMeans(n_clusters=k, init=\"k-means++\").fit(X)\n",
    "    wcss_value = kmeans.inertia_\n",
    "    WCSS.append(wcss_value)\n",
    "    silhouette_value = silhouette_score(X, kmeans.labels_)\n",
    "    s_score.append(silhouette_value)"
   ]
  },
  {
   "cell_type": "code",
   "execution_count": 96,
   "id": "d73e3c72",
   "metadata": {},
   "outputs": [
    {
     "data": {
      "image/png": "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",
      "text/plain": [
       "<Figure size 864x432 with 1 Axes>"
      ]
     },
     "metadata": {
      "needs_background": "light"
     },
     "output_type": "display_data"
    }
   ],
   "source": [
    "fig, ax = plt.subplots(figsize=(12, 6))\n",
    "plt.grid()\n",
    "plt.plot(range(2,11),WCSS, linewidth=3, color=\"blue\")\n",
    "ax.set_title('Elbow Method')\n",
    "ax.set_xlabel('K-Clusters')\n",
    "ax.set_ylabel('WCSS')\n",
    "\n",
    "ax.annotate('Possible Elbow Point', xy=(3, 137000), xytext=(3, 60000),\n",
    "            arrowprops=dict(arrowstyle='-|>', color='red', lw=3))\n",
    "\n",
    "ax.annotate('Possible Elbow Point', xy=(5.04, 80000), xytext=(5.1, 135000),\n",
    "            arrowprops=dict(arrowstyle='-|>', color='red', lw=3))\n",
    "\n",
    "ax.annotate('Possible Elbow Point', xy=(6, 60000), xytext=(7.07, 110000),\n",
    "            arrowprops=dict(arrowstyle='-|>', color='red', lw=3))\n",
    "plt.show()"
   ]
  },
  {
   "cell_type": "code",
   "execution_count": 102,
   "id": "ae15e33f",
   "metadata": {},
   "outputs": [
    {
     "data": {
      "image/png": "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",
      "text/plain": [
       "<Figure size 864x432 with 1 Axes>"
      ]
     },
     "metadata": {
      "needs_background": "light"
     },
     "output_type": "display_data"
    }
   ],
   "source": [
    "fig, ax = plt.subplots(figsize=(12, 6))\n",
    "plt.grid()\n",
    "plt.plot(range(2,11),s_score, linewidth=3, color=\"blue\", marker =\"8\")\n",
    "plt.plot(3,s_score[1],'ro')\n",
    "plt.plot(5,s_score[3],'ro')\n",
    "plt.plot(6,s_score[4],'ro')\n",
    "ax.set_title('Average silhouette Method')\n",
    "ax.set_xlabel('K-Clusters')\n",
    "ax.set_ylabel('Silhouette')\n",
    "\n",
    "plt.show()"
   ]
  },
  {
   "cell_type": "markdown",
   "id": "61f89907",
   "metadata": {},
   "source": [
    "We choose k = 5 and k = 6 as the number of clusters. We would want to plot both of them to compare."
   ]
  },
  {
   "cell_type": "markdown",
   "id": "8f63b228",
   "metadata": {},
   "source": [
    "### k_clusters = 5"
   ]
  },
  {
   "cell_type": "code",
   "execution_count": 155,
   "id": "f82ecd01",
   "metadata": {},
   "outputs": [],
   "source": [
    "k_clusters = 5\n",
    "kmean_model = KMeans(n_clusters=k_clusters, init='k-means++').fit(X)\n",
    "kmean_clusters = X.copy()\n",
    "kmean_clusters.loc[:,'Cluster'] = kmean_model.labels_"
   ]
  },
  {
   "cell_type": "code",
   "execution_count": 156,
   "id": "e63c7243",
   "metadata": {},
   "outputs": [
    {
     "name": "stderr",
     "output_type": "stream",
     "text": [
      "C:\\Users\\HP\\AppData\\Roaming\\Python\\Python310\\site-packages\\seaborn\\_decorators.py:36: FutureWarning:\n",
      "\n",
      "Pass the following variables as keyword args: x, y. From version 0.12, the only valid positional argument will be `data`, and passing other arguments without an explicit keyword will result in an error or misinterpretation.\n",
      "\n",
      "C:\\Users\\HP\\AppData\\Roaming\\Python\\Python310\\site-packages\\seaborn\\_decorators.py:36: FutureWarning:\n",
      "\n",
      "Pass the following variables as keyword args: x, y. From version 0.12, the only valid positional argument will be `data`, and passing other arguments without an explicit keyword will result in an error or misinterpretation.\n",
      "\n"
     ]
    },
    {
     "data": {
      "image/png": "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",
      "text/plain": [
       "<Figure size 1080x360 with 2 Axes>"
      ]
     },
     "metadata": {
      "needs_background": "light"
     },
     "output_type": "display_data"
    }
   ],
   "source": [
    "fig, ax = plt.subplots(1,2,figsize=(15,5))\n",
    "\n",
    "sns.scatterplot('Annual Income (k$)', 'Spending Score (1-100)', data=kmean_clusters,\n",
    "                    hue='Cluster', palette='Set1', ax=ax[0], legend='full')\n",
    "\n",
    "sns.scatterplot('Age', 'Spending Score (1-100)', data=kmean_clusters,\n",
    "                    hue='Cluster', palette='Set1', ax=ax[1], legend='full')\n",
    "\n",
    "centroids_1 = [kmean_model.cluster_centers_[:,1],kmean_model.cluster_centers_[:,2]]\n",
    "centroids_2 = [kmean_model.cluster_centers_[:,0],kmean_model.cluster_centers_[:,2]]\n",
    "\n",
    "ax[0].scatter(centroids_1[0],centroids_1[1], marker='D', s=50, c=\"blue\")\n",
    "ax[1].scatter(centroids_2[0],centroids_2[1], marker='D', s=50, c=\"blue\")\n",
    "plt.show()"
   ]
  },
  {
   "cell_type": "markdown",
   "id": "8679708b",
   "metadata": {},
   "source": [
    "Nhận xét: ..."
   ]
  },
  {
   "cell_type": "code",
   "execution_count": 140,
   "id": "2c5a90d1",
   "metadata": {},
   "outputs": [
    {
     "data": {
      "application/vnd.plotly.v1+json": {
       "config": {
        "linkText": "Export to plot.ly",
        "plotlyServerURL": "https://plot.ly",
        "showLink": false
       },
       "data": [
        {
         "marker": {
          "size": 5
         },
         "mode": "markers",
         "name": "Customer 1",
         "type": "scatter3d",
         "x": [
          19,
          20,
          31,
          35,
          64,
          67,
          58,
          37,
          35,
          52,
          35,
          46,
          54,
          45,
          40,
          60,
          53,
          49,
          42,
          36,
          65,
          48,
          49
         ],
         "y": [
          39,
          6,
          40,
          6,
          3,
          14,
          15,
          13,
          35,
          29,
          35,
          5,
          14,
          32,
          31,
          4,
          4,
          14,
          17,
          26,
          35,
          36,
          28
         ],
         "z": [
          15,
          16,
          17,
          18,
          19,
          19,
          20,
          20,
          21,
          23,
          24,
          25,
          28,
          28,
          29,
          30,
          33,
          33,
          34,
          37,
          38,
          39,
          39
         ]
        },
        {
         "marker": {
          "size": 5
         },
         "mode": "markers",
         "name": "Customer 2",
         "type": "scatter3d",
         "x": [
          39,
          31,
          40,
          38,
          39,
          31,
          29,
          32,
          35,
          32,
          32,
          28,
          32,
          34,
          39,
          38,
          27,
          30,
          30,
          29,
          31,
          36,
          33,
          32,
          28,
          36,
          30,
          27,
          35,
          32,
          29,
          30,
          28,
          36,
          32,
          38,
          35,
          32,
          30
         ],
         "y": [
          91,
          77,
          95,
          75,
          75,
          71,
          88,
          73,
          72,
          93,
          87,
          97,
          74,
          90,
          88,
          76,
          89,
          78,
          73,
          83,
          93,
          75,
          95,
          63,
          75,
          92,
          86,
          69,
          90,
          86,
          88,
          97,
          68,
          85,
          69,
          91,
          79,
          74,
          83
         ],
         "z": [
          69,
          70,
          71,
          71,
          71,
          72,
          73,
          73,
          74,
          75,
          76,
          77,
          77,
          78,
          78,
          78,
          78,
          78,
          78,
          79,
          81,
          85,
          86,
          87,
          87,
          87,
          88,
          88,
          93,
          97,
          98,
          99,
          101,
          103,
          103,
          113,
          120,
          126,
          137
         ]
        },
        {
         "marker": {
          "size": 5
         },
         "mode": "markers",
         "name": "Customer 3",
         "type": "scatter3d",
         "x": [
          50,
          27,
          29,
          31,
          49,
          33,
          31,
          59,
          50,
          47,
          51,
          69,
          27,
          53,
          70,
          19,
          67,
          54,
          63,
          18,
          43,
          68,
          19,
          32,
          70,
          47,
          60,
          60,
          59,
          26,
          45,
          40,
          23,
          49,
          57,
          38,
          67,
          46,
          21,
          48,
          55,
          22,
          34,
          50,
          68,
          18,
          48,
          40,
          32,
          24,
          47,
          27,
          48,
          20,
          23,
          49,
          67,
          26,
          49,
          21,
          66,
          54,
          68,
          66,
          65,
          19,
          38,
          19,
          18,
          19,
          63,
          49,
          51,
          50,
          27,
          38,
          40,
          43,
          28
         ],
         "y": [
          55,
          47,
          42,
          42,
          52,
          60,
          54,
          60,
          45,
          41,
          50,
          46,
          51,
          46,
          56,
          55,
          52,
          59,
          51,
          59,
          50,
          48,
          59,
          47,
          55,
          42,
          49,
          56,
          47,
          54,
          53,
          48,
          52,
          42,
          51,
          55,
          41,
          44,
          57,
          46,
          58,
          55,
          60,
          46,
          55,
          41,
          49,
          40,
          42,
          52,
          47,
          50,
          42,
          49,
          41,
          48,
          59,
          55,
          56,
          42,
          50,
          46,
          43,
          48,
          52,
          54,
          42,
          46,
          48,
          50,
          43,
          59,
          43,
          57,
          56,
          40,
          58,
          35,
          40
         ],
         "z": [
          40,
          40,
          40,
          40,
          42,
          42,
          43,
          43,
          43,
          43,
          44,
          44,
          46,
          46,
          46,
          46,
          47,
          47,
          48,
          48,
          48,
          48,
          48,
          48,
          49,
          49,
          50,
          50,
          54,
          54,
          54,
          54,
          54,
          54,
          54,
          54,
          54,
          54,
          54,
          54,
          57,
          57,
          58,
          58,
          59,
          59,
          60,
          60,
          60,
          60,
          60,
          60,
          61,
          61,
          62,
          62,
          62,
          62,
          62,
          62,
          63,
          63,
          63,
          63,
          63,
          63,
          64,
          64,
          65,
          65,
          65,
          65,
          67,
          67,
          67,
          67,
          69,
          71,
          76
         ]
        },
        {
         "marker": {
          "size": 5
         },
         "mode": "markers",
         "name": "Customer 4",
         "type": "scatter3d",
         "x": [
          23,
          59,
          47,
          25,
          20,
          44,
          19,
          57,
          25,
          48,
          34,
          43,
          44,
          47,
          37,
          34,
          56,
          19,
          50,
          42,
          36,
          40,
          36,
          52,
          58,
          59,
          37,
          46,
          41,
          54,
          41,
          34,
          33,
          47,
          45,
          32
         ],
         "y": [
          29,
          11,
          9,
          34,
          5,
          7,
          10,
          5,
          12,
          36,
          22,
          17,
          20,
          16,
          1,
          1,
          35,
          5,
          26,
          20,
          27,
          13,
          10,
          13,
          15,
          14,
          32,
          15,
          39,
          24,
          17,
          23,
          8,
          16,
          28,
          18
         ],
         "z": [
          70,
          71,
          71,
          72,
          73,
          73,
          74,
          75,
          77,
          77,
          78,
          78,
          78,
          78,
          78,
          78,
          79,
          81,
          85,
          86,
          87,
          87,
          87,
          88,
          88,
          93,
          97,
          98,
          99,
          101,
          103,
          103,
          113,
          120,
          126,
          137
         ]
        },
        {
         "marker": {
          "size": 5
         },
         "mode": "markers",
         "name": "Customer 5",
         "type": "scatter3d",
         "x": [
          21,
          23,
          22,
          23,
          30,
          35,
          24,
          22,
          20,
          35,
          25,
          31,
          29,
          35,
          23,
          21,
          18,
          21,
          30,
          20,
          24,
          31,
          24
         ],
         "y": [
          81,
          77,
          76,
          94,
          72,
          99,
          77,
          79,
          66,
          98,
          73,
          73,
          82,
          61,
          87,
          73,
          92,
          81,
          73,
          75,
          92,
          61,
          65
         ],
         "z": [
          15,
          16,
          17,
          18,
          19,
          19,
          20,
          20,
          21,
          23,
          24,
          25,
          28,
          28,
          29,
          30,
          33,
          33,
          34,
          37,
          38,
          39,
          39
         ]
        }
       ],
       "layout": {
        "height": 800,
        "scene": {
         "xaxis": {
          "title": {
           "text": "Age"
          }
         },
         "yaxis": {
          "title": {
           "text": "Spending Score"
          }
         },
         "zaxis": {
          "title": {
           "text": "Annual Income"
          }
         }
        },
        "template": {
         "data": {
          "bar": [
           {
            "error_x": {
             "color": "#2a3f5f"
            },
            "error_y": {
             "color": "#2a3f5f"
            },
            "marker": {
             "line": {
              "color": "#E5ECF6",
              "width": 0.5
             },
             "pattern": {
              "fillmode": "overlay",
              "size": 10,
              "solidity": 0.2
             }
            },
            "type": "bar"
           }
          ],
          "barpolar": [
           {
            "marker": {
             "line": {
              "color": "#E5ECF6",
              "width": 0.5
             },
             "pattern": {
              "fillmode": "overlay",
              "size": 10,
              "solidity": 0.2
             }
            },
            "type": "barpolar"
           }
          ],
          "carpet": [
           {
            "aaxis": {
             "endlinecolor": "#2a3f5f",
             "gridcolor": "white",
             "linecolor": "white",
             "minorgridcolor": "white",
             "startlinecolor": "#2a3f5f"
            },
            "baxis": {
             "endlinecolor": "#2a3f5f",
             "gridcolor": "white",
             "linecolor": "white",
             "minorgridcolor": "white",
             "startlinecolor": "#2a3f5f"
            },
            "type": "carpet"
           }
          ],
          "choropleth": [
           {
            "colorbar": {
             "outlinewidth": 0,
             "ticks": ""
            },
            "type": "choropleth"
           }
          ],
          "contour": [
           {
            "colorbar": {
             "outlinewidth": 0,
             "ticks": ""
            },
            "colorscale": [
             [
              0,
              "#0d0887"
             ],
             [
              0.1111111111111111,
              "#46039f"
             ],
             [
              0.2222222222222222,
              "#7201a8"
             ],
             [
              0.3333333333333333,
              "#9c179e"
             ],
             [
              0.4444444444444444,
              "#bd3786"
             ],
             [
              0.5555555555555556,
              "#d8576b"
             ],
             [
              0.6666666666666666,
              "#ed7953"
             ],
             [
              0.7777777777777778,
              "#fb9f3a"
             ],
             [
              0.8888888888888888,
              "#fdca26"
             ],
             [
              1,
              "#f0f921"
             ]
            ],
            "type": "contour"
           }
          ],
          "contourcarpet": [
           {
            "colorbar": {
             "outlinewidth": 0,
             "ticks": ""
            },
            "type": "contourcarpet"
           }
          ],
          "heatmap": [
           {
            "colorbar": {
             "outlinewidth": 0,
             "ticks": ""
            },
            "colorscale": [
             [
              0,
              "#0d0887"
             ],
             [
              0.1111111111111111,
              "#46039f"
             ],
             [
              0.2222222222222222,
              "#7201a8"
             ],
             [
              0.3333333333333333,
              "#9c179e"
             ],
             [
              0.4444444444444444,
              "#bd3786"
             ],
             [
              0.5555555555555556,
              "#d8576b"
             ],
             [
              0.6666666666666666,
              "#ed7953"
             ],
             [
              0.7777777777777778,
              "#fb9f3a"
             ],
             [
              0.8888888888888888,
              "#fdca26"
             ],
             [
              1,
              "#f0f921"
             ]
            ],
            "type": "heatmap"
           }
          ],
          "heatmapgl": [
           {
            "colorbar": {
             "outlinewidth": 0,
             "ticks": ""
            },
            "colorscale": [
             [
              0,
              "#0d0887"
             ],
             [
              0.1111111111111111,
              "#46039f"
             ],
             [
              0.2222222222222222,
              "#7201a8"
             ],
             [
              0.3333333333333333,
              "#9c179e"
             ],
             [
              0.4444444444444444,
              "#bd3786"
             ],
             [
              0.5555555555555556,
              "#d8576b"
             ],
             [
              0.6666666666666666,
              "#ed7953"
             ],
             [
              0.7777777777777778,
              "#fb9f3a"
             ],
             [
              0.8888888888888888,
              "#fdca26"
             ],
             [
              1,
              "#f0f921"
             ]
            ],
            "type": "heatmapgl"
           }
          ],
          "histogram": [
           {
            "marker": {
             "pattern": {
              "fillmode": "overlay",
              "size": 10,
              "solidity": 0.2
             }
            },
            "type": "histogram"
           }
          ],
          "histogram2d": [
           {
            "colorbar": {
             "outlinewidth": 0,
             "ticks": ""
            },
            "colorscale": [
             [
              0,
              "#0d0887"
             ],
             [
              0.1111111111111111,
              "#46039f"
             ],
             [
              0.2222222222222222,
              "#7201a8"
             ],
             [
              0.3333333333333333,
              "#9c179e"
             ],
             [
              0.4444444444444444,
              "#bd3786"
             ],
             [
              0.5555555555555556,
              "#d8576b"
             ],
             [
              0.6666666666666666,
              "#ed7953"
             ],
             [
              0.7777777777777778,
              "#fb9f3a"
             ],
             [
              0.8888888888888888,
              "#fdca26"
             ],
             [
              1,
              "#f0f921"
             ]
            ],
            "type": "histogram2d"
           }
          ],
          "histogram2dcontour": [
           {
            "colorbar": {
             "outlinewidth": 0,
             "ticks": ""
            },
            "colorscale": [
             [
              0,
              "#0d0887"
             ],
             [
              0.1111111111111111,
              "#46039f"
             ],
             [
              0.2222222222222222,
              "#7201a8"
             ],
             [
              0.3333333333333333,
              "#9c179e"
             ],
             [
              0.4444444444444444,
              "#bd3786"
             ],
             [
              0.5555555555555556,
              "#d8576b"
             ],
             [
              0.6666666666666666,
              "#ed7953"
             ],
             [
              0.7777777777777778,
              "#fb9f3a"
             ],
             [
              0.8888888888888888,
              "#fdca26"
             ],
             [
              1,
              "#f0f921"
             ]
            ],
            "type": "histogram2dcontour"
           }
          ],
          "mesh3d": [
           {
            "colorbar": {
             "outlinewidth": 0,
             "ticks": ""
            },
            "type": "mesh3d"
           }
          ],
          "parcoords": [
           {
            "line": {
             "colorbar": {
              "outlinewidth": 0,
              "ticks": ""
             }
            },
            "type": "parcoords"
           }
          ],
          "pie": [
           {
            "automargin": true,
            "type": "pie"
           }
          ],
          "scatter": [
           {
            "marker": {
             "colorbar": {
              "outlinewidth": 0,
              "ticks": ""
             }
            },
            "type": "scatter"
           }
          ],
          "scatter3d": [
           {
            "line": {
             "colorbar": {
              "outlinewidth": 0,
              "ticks": ""
             }
            },
            "marker": {
             "colorbar": {
              "outlinewidth": 0,
              "ticks": ""
             }
            },
            "type": "scatter3d"
           }
          ],
          "scattercarpet": [
           {
            "marker": {
             "colorbar": {
              "outlinewidth": 0,
              "ticks": ""
             }
            },
            "type": "scattercarpet"
           }
          ],
          "scattergeo": [
           {
            "marker": {
             "colorbar": {
              "outlinewidth": 0,
              "ticks": ""
             }
            },
            "type": "scattergeo"
           }
          ],
          "scattergl": [
           {
            "marker": {
             "colorbar": {
              "outlinewidth": 0,
              "ticks": ""
             }
            },
            "type": "scattergl"
           }
          ],
          "scattermapbox": [
           {
            "marker": {
             "colorbar": {
              "outlinewidth": 0,
              "ticks": ""
             }
            },
            "type": "scattermapbox"
           }
          ],
          "scatterpolar": [
           {
            "marker": {
             "colorbar": {
              "outlinewidth": 0,
              "ticks": ""
             }
            },
            "type": "scatterpolar"
           }
          ],
          "scatterpolargl": [
           {
            "marker": {
             "colorbar": {
              "outlinewidth": 0,
              "ticks": ""
             }
            },
            "type": "scatterpolargl"
           }
          ],
          "scatterternary": [
           {
            "marker": {
             "colorbar": {
              "outlinewidth": 0,
              "ticks": ""
             }
            },
            "type": "scatterternary"
           }
          ],
          "surface": [
           {
            "colorbar": {
             "outlinewidth": 0,
             "ticks": ""
            },
            "colorscale": [
             [
              0,
              "#0d0887"
             ],
             [
              0.1111111111111111,
              "#46039f"
             ],
             [
              0.2222222222222222,
              "#7201a8"
             ],
             [
              0.3333333333333333,
              "#9c179e"
             ],
             [
              0.4444444444444444,
              "#bd3786"
             ],
             [
              0.5555555555555556,
              "#d8576b"
             ],
             [
              0.6666666666666666,
              "#ed7953"
             ],
             [
              0.7777777777777778,
              "#fb9f3a"
             ],
             [
              0.8888888888888888,
              "#fdca26"
             ],
             [
              1,
              "#f0f921"
             ]
            ],
            "type": "surface"
           }
          ],
          "table": [
           {
            "cells": {
             "fill": {
              "color": "#EBF0F8"
             },
             "line": {
              "color": "white"
             }
            },
            "header": {
             "fill": {
              "color": "#C8D4E3"
             },
             "line": {
              "color": "white"
             }
            },
            "type": "table"
           }
          ]
         },
         "layout": {
          "annotationdefaults": {
           "arrowcolor": "#2a3f5f",
           "arrowhead": 0,
           "arrowwidth": 1
          },
          "autotypenumbers": "strict",
          "coloraxis": {
           "colorbar": {
            "outlinewidth": 0,
            "ticks": ""
           }
          },
          "colorscale": {
           "diverging": [
            [
             0,
             "#8e0152"
            ],
            [
             0.1,
             "#c51b7d"
            ],
            [
             0.2,
             "#de77ae"
            ],
            [
             0.3,
             "#f1b6da"
            ],
            [
             0.4,
             "#fde0ef"
            ],
            [
             0.5,
             "#f7f7f7"
            ],
            [
             0.6,
             "#e6f5d0"
            ],
            [
             0.7,
             "#b8e186"
            ],
            [
             0.8,
             "#7fbc41"
            ],
            [
             0.9,
             "#4d9221"
            ],
            [
             1,
             "#276419"
            ]
           ],
           "sequential": [
            [
             0,
             "#0d0887"
            ],
            [
             0.1111111111111111,
             "#46039f"
            ],
            [
             0.2222222222222222,
             "#7201a8"
            ],
            [
             0.3333333333333333,
             "#9c179e"
            ],
            [
             0.4444444444444444,
             "#bd3786"
            ],
            [
             0.5555555555555556,
             "#d8576b"
            ],
            [
             0.6666666666666666,
             "#ed7953"
            ],
            [
             0.7777777777777778,
             "#fb9f3a"
            ],
            [
             0.8888888888888888,
             "#fdca26"
            ],
            [
             1,
             "#f0f921"
            ]
           ],
           "sequentialminus": [
            [
             0,
             "#0d0887"
            ],
            [
             0.1111111111111111,
             "#46039f"
            ],
            [
             0.2222222222222222,
             "#7201a8"
            ],
            [
             0.3333333333333333,
             "#9c179e"
            ],
            [
             0.4444444444444444,
             "#bd3786"
            ],
            [
             0.5555555555555556,
             "#d8576b"
            ],
            [
             0.6666666666666666,
             "#ed7953"
            ],
            [
             0.7777777777777778,
             "#fb9f3a"
            ],
            [
             0.8888888888888888,
             "#fdca26"
            ],
            [
             1,
             "#f0f921"
            ]
           ]
          },
          "colorway": [
           "#636efa",
           "#EF553B",
           "#00cc96",
           "#ab63fa",
           "#FFA15A",
           "#19d3f3",
           "#FF6692",
           "#B6E880",
           "#FF97FF",
           "#FECB52"
          ],
          "font": {
           "color": "#2a3f5f"
          },
          "geo": {
           "bgcolor": "white",
           "lakecolor": "white",
           "landcolor": "#E5ECF6",
           "showlakes": true,
           "showland": true,
           "subunitcolor": "white"
          },
          "hoverlabel": {
           "align": "left"
          },
          "hovermode": "closest",
          "mapbox": {
           "style": "light"
          },
          "paper_bgcolor": "white",
          "plot_bgcolor": "#E5ECF6",
          "polar": {
           "angularaxis": {
            "gridcolor": "white",
            "linecolor": "white",
            "ticks": ""
           },
           "bgcolor": "#E5ECF6",
           "radialaxis": {
            "gridcolor": "white",
            "linecolor": "white",
            "ticks": ""
           }
          },
          "scene": {
           "xaxis": {
            "backgroundcolor": "#E5ECF6",
            "gridcolor": "white",
            "gridwidth": 2,
            "linecolor": "white",
            "showbackground": true,
            "ticks": "",
            "zerolinecolor": "white"
           },
           "yaxis": {
            "backgroundcolor": "#E5ECF6",
            "gridcolor": "white",
            "gridwidth": 2,
            "linecolor": "white",
            "showbackground": true,
            "ticks": "",
            "zerolinecolor": "white"
           },
           "zaxis": {
            "backgroundcolor": "#E5ECF6",
            "gridcolor": "white",
            "gridwidth": 2,
            "linecolor": "white",
            "showbackground": true,
            "ticks": "",
            "zerolinecolor": "white"
           }
          },
          "shapedefaults": {
           "line": {
            "color": "#2a3f5f"
           }
          },
          "ternary": {
           "aaxis": {
            "gridcolor": "white",
            "linecolor": "white",
            "ticks": ""
           },
           "baxis": {
            "gridcolor": "white",
            "linecolor": "white",
            "ticks": ""
           },
           "bgcolor": "#E5ECF6",
           "caxis": {
            "gridcolor": "white",
            "linecolor": "white",
            "ticks": ""
           }
          },
          "title": {
           "x": 0.05
          },
          "xaxis": {
           "automargin": true,
           "gridcolor": "white",
           "linecolor": "white",
           "ticks": "",
           "title": {
            "standoff": 15
           },
           "zerolinecolor": "white",
           "zerolinewidth": 2
          },
          "yaxis": {
           "automargin": true,
           "gridcolor": "white",
           "linecolor": "white",
           "ticks": "",
           "title": {
            "standoff": 15
           },
           "zerolinecolor": "white",
           "zerolinewidth": 2
          }
         }
        },
        "title": {
         "text": "Clusters by K-Means"
        },
        "width": 1000
       }
      }
     },
     "metadata": {},
     "output_type": "display_data"
    }
   ],
   "source": [
    "import plotly as py\n",
    "import plotly.graph_objs as go\n",
    "\n",
    "def plot_cluster(cluster, n, name):\n",
    "    return go.Scatter3d(\n",
    "        x = cluster[cluster['Cluster']==n]['Age'],\n",
    "        y = cluster[cluster['Cluster']==n]['Spending Score (1-100)'],\n",
    "        z = cluster[cluster['Cluster']==n]['Annual Income (k$)'],\n",
    "        mode = 'markers',\n",
    "        name = name,\n",
    "        marker = dict(size = k_clusters)\n",
    "    )\n",
    "\n",
    "data = []\n",
    "for i in range(0,k_clusters):\n",
    "    cluster_name = 'Customer ' + str(i + 1)\n",
    "    cluster = plot_cluster(kmean_clusters, i, cluster_name)\n",
    "    data.append(cluster)\n",
    "\n",
    "layout = go.Layout(\n",
    "    title = 'Clusters by K-Means',\n",
    "    height=800,\n",
    "    width = 1000,\n",
    "    scene = dict(\n",
    "        xaxis = dict(title = 'Age'),\n",
    "        yaxis = dict(title = 'Spending Score'),\n",
    "        zaxis = dict(title = 'Annual Income')\n",
    "        )\n",
    ")\n",
    "\n",
    "fig = go.Figure(data=data, layout=layout)\n",
    "py.offline.iplot(fig)"
   ]
  },
  {
   "cell_type": "markdown",
   "id": "0c6cea80",
   "metadata": {},
   "source": [
    "### k_clusters = 6"
   ]
  },
  {
   "cell_type": "code",
   "execution_count": 143,
   "id": "5a5de93a",
   "metadata": {},
   "outputs": [],
   "source": [
    "k_clusters = 6\n",
    "kmean_model = KMeans(n_clusters=k_clusters, init='k-means++').fit(X)\n",
    "kmean_clusters = X.copy()\n",
    "kmean_clusters.loc[:,'Cluster'] = kmean_model.labels_"
   ]
  },
  {
   "cell_type": "code",
   "execution_count": 153,
   "id": "d9081082",
   "metadata": {},
   "outputs": [
    {
     "name": "stderr",
     "output_type": "stream",
     "text": [
      "C:\\Users\\HP\\AppData\\Roaming\\Python\\Python310\\site-packages\\seaborn\\_decorators.py:36: FutureWarning:\n",
      "\n",
      "Pass the following variables as keyword args: x, y. From version 0.12, the only valid positional argument will be `data`, and passing other arguments without an explicit keyword will result in an error or misinterpretation.\n",
      "\n",
      "C:\\Users\\HP\\AppData\\Roaming\\Python\\Python310\\site-packages\\seaborn\\_decorators.py:36: FutureWarning:\n",
      "\n",
      "Pass the following variables as keyword args: x, y. From version 0.12, the only valid positional argument will be `data`, and passing other arguments without an explicit keyword will result in an error or misinterpretation.\n",
      "\n"
     ]
    },
    {
     "data": {
      "image/png": "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",
      "text/plain": [
       "<Figure size 1080x360 with 2 Axes>"
      ]
     },
     "metadata": {
      "needs_background": "light"
     },
     "output_type": "display_data"
    }
   ],
   "source": [
    "fig, ax = plt.subplots(1,2,figsize=(15,5))\n",
    "\n",
    "sns.scatterplot('Annual Income (k$)', 'Spending Score (1-100)', data=kmean_clusters,\n",
    "                    hue='Cluster', palette='Set1', ax=ax[0], legend='full')\n",
    "\n",
    "sns.scatterplot('Age', 'Spending Score (1-100)', data=kmean_clusters,\n",
    "                    hue='Cluster', palette='Set1', ax=ax[1], legend='full')\n",
    "\n",
    "centroids_1 = [kmean_model.cluster_centers_[:,1],kmean_model.cluster_centers_[:,2]]\n",
    "centroids_2 = [kmean_model.cluster_centers_[:,0],kmean_model.cluster_centers_[:,2]]\n",
    "\n",
    "ax[0].scatter(centroids_1[0],centroids_1[1], marker='D', s=50, c=\"blue\")\n",
    "ax[1].scatter(centroids_2[0],centroids_2[1], marker='D', s=50, c=\"blue\")\n",
    "plt.show()"
   ]
  },
  {
   "cell_type": "markdown",
   "id": "20e95eff",
   "metadata": {},
   "source": [
    "Nhận xét: ..."
   ]
  },
  {
   "cell_type": "code",
   "execution_count": 126,
   "id": "87e9a33a",
   "metadata": {},
   "outputs": [
    {
     "data": {
      "application/vnd.plotly.v1+json": {
       "config": {
        "linkText": "Export to plot.ly",
        "plotlyServerURL": "https://plot.ly",
        "showLink": false
       },
       "data": [
        {
         "marker": {
          "size": 6
         },
         "mode": "markers",
         "name": "Customer 1",
         "type": "scatter3d",
         "x": [
          31,
          27,
          29,
          31,
          33,
          31,
          27,
          19,
          18,
          19,
          32,
          26,
          40,
          23,
          38,
          21,
          22,
          34,
          18,
          40,
          32,
          24,
          27,
          20,
          23,
          26,
          21,
          19,
          38,
          19,
          18,
          19,
          27,
          38,
          40,
          23,
          25,
          28
         ],
         "y": [
          61,
          47,
          42,
          42,
          60,
          54,
          51,
          55,
          59,
          59,
          47,
          54,
          48,
          52,
          55,
          57,
          55,
          60,
          41,
          40,
          42,
          52,
          50,
          49,
          41,
          55,
          42,
          54,
          42,
          46,
          48,
          50,
          56,
          40,
          58,
          29,
          34,
          40
         ],
         "z": [
          39,
          40,
          40,
          40,
          42,
          43,
          46,
          46,
          48,
          48,
          48,
          54,
          54,
          54,
          54,
          54,
          57,
          58,
          59,
          60,
          60,
          60,
          60,
          61,
          62,
          62,
          62,
          63,
          64,
          64,
          65,
          65,
          67,
          67,
          69,
          70,
          72,
          76
         ]
        },
        {
         "marker": {
          "size": 6
         },
         "mode": "markers",
         "name": "Customer 2",
         "type": "scatter3d",
         "x": [
          65,
          48,
          50,
          49,
          59,
          50,
          47,
          51,
          69,
          53,
          70,
          67,
          54,
          63,
          43,
          68,
          70,
          47,
          60,
          60,
          59,
          45,
          49,
          57,
          67,
          46,
          48,
          55,
          50,
          68,
          48,
          47,
          48,
          49,
          67,
          49,
          66,
          54,
          68,
          66,
          65,
          63,
          49,
          51,
          50
         ],
         "y": [
          35,
          36,
          55,
          52,
          60,
          45,
          41,
          50,
          46,
          46,
          56,
          52,
          59,
          51,
          50,
          48,
          55,
          42,
          49,
          56,
          47,
          53,
          42,
          51,
          41,
          44,
          46,
          58,
          46,
          55,
          49,
          47,
          42,
          48,
          59,
          56,
          50,
          46,
          43,
          48,
          52,
          43,
          59,
          43,
          57
         ],
         "z": [
          38,
          39,
          40,
          42,
          43,
          43,
          43,
          44,
          44,
          46,
          46,
          47,
          47,
          48,
          48,
          48,
          49,
          49,
          50,
          50,
          54,
          54,
          54,
          54,
          54,
          54,
          54,
          57,
          58,
          59,
          60,
          60,
          61,
          62,
          62,
          62,
          63,
          63,
          63,
          63,
          63,
          65,
          65,
          67,
          67
         ]
        },
        {
         "marker": {
          "size": 6
         },
         "mode": "markers",
         "name": "Customer 3",
         "type": "scatter3d",
         "x": [
          43,
          59,
          47,
          20,
          44,
          19,
          57,
          25,
          48,
          34,
          43,
          44,
          47,
          37,
          34,
          56,
          19,
          50,
          42,
          36,
          40,
          36,
          52,
          58,
          59,
          37,
          46,
          41,
          54,
          41,
          34,
          33,
          47,
          45,
          32
         ],
         "y": [
          35,
          11,
          9,
          5,
          7,
          10,
          5,
          12,
          36,
          22,
          17,
          20,
          16,
          1,
          1,
          35,
          5,
          26,
          20,
          27,
          13,
          10,
          13,
          15,
          14,
          32,
          15,
          39,
          24,
          17,
          23,
          8,
          16,
          28,
          18
         ],
         "z": [
          71,
          71,
          71,
          73,
          73,
          74,
          75,
          77,
          77,
          78,
          78,
          78,
          78,
          78,
          78,
          79,
          81,
          85,
          86,
          87,
          87,
          87,
          88,
          88,
          93,
          97,
          98,
          99,
          101,
          103,
          103,
          113,
          120,
          126,
          137
         ]
        },
        {
         "marker": {
          "size": 6
         },
         "mode": "markers",
         "name": "Customer 4",
         "type": "scatter3d",
         "x": [
          39,
          31,
          40,
          38,
          39,
          31,
          29,
          32,
          35,
          32,
          32,
          28,
          32,
          34,
          39,
          38,
          27,
          30,
          30,
          29,
          31,
          36,
          33,
          32,
          28,
          36,
          30,
          27,
          35,
          32,
          29,
          30,
          28,
          36,
          32,
          38,
          35,
          32,
          30
         ],
         "y": [
          91,
          77,
          95,
          75,
          75,
          71,
          88,
          73,
          72,
          93,
          87,
          97,
          74,
          90,
          88,
          76,
          89,
          78,
          73,
          83,
          93,
          75,
          95,
          63,
          75,
          92,
          86,
          69,
          90,
          86,
          88,
          97,
          68,
          85,
          69,
          91,
          79,
          74,
          83
         ],
         "z": [
          69,
          70,
          71,
          71,
          71,
          72,
          73,
          73,
          74,
          75,
          76,
          77,
          77,
          78,
          78,
          78,
          78,
          78,
          78,
          79,
          81,
          85,
          86,
          87,
          87,
          87,
          88,
          88,
          93,
          97,
          98,
          99,
          101,
          103,
          103,
          113,
          120,
          126,
          137
         ]
        },
        {
         "marker": {
          "size": 6
         },
         "mode": "markers",
         "name": "Customer 5",
         "type": "scatter3d",
         "x": [
          21,
          23,
          22,
          23,
          30,
          35,
          24,
          22,
          20,
          35,
          25,
          31,
          29,
          35,
          23,
          21,
          18,
          21,
          30,
          20,
          24,
          24
         ],
         "y": [
          81,
          77,
          76,
          94,
          72,
          99,
          77,
          79,
          66,
          98,
          73,
          73,
          82,
          61,
          87,
          73,
          92,
          81,
          73,
          75,
          92,
          65
         ],
         "z": [
          15,
          16,
          17,
          18,
          19,
          19,
          20,
          20,
          21,
          23,
          24,
          25,
          28,
          28,
          29,
          30,
          33,
          33,
          34,
          37,
          38,
          39
         ]
        },
        {
         "marker": {
          "size": 6
         },
         "mode": "markers",
         "name": "Customer 6",
         "type": "scatter3d",
         "x": [
          19,
          20,
          31,
          35,
          64,
          67,
          58,
          37,
          35,
          52,
          35,
          46,
          54,
          45,
          40,
          60,
          53,
          49,
          42,
          36,
          49
         ],
         "y": [
          39,
          6,
          40,
          6,
          3,
          14,
          15,
          13,
          35,
          29,
          35,
          5,
          14,
          32,
          31,
          4,
          4,
          14,
          17,
          26,
          28
         ],
         "z": [
          15,
          16,
          17,
          18,
          19,
          19,
          20,
          20,
          21,
          23,
          24,
          25,
          28,
          28,
          29,
          30,
          33,
          33,
          34,
          37,
          39
         ]
        }
       ],
       "layout": {
        "height": 800,
        "scene": {
         "xaxis": {
          "title": {
           "text": "Age"
          }
         },
         "yaxis": {
          "title": {
           "text": "Spending Score"
          }
         },
         "zaxis": {
          "title": {
           "text": "Annual Income"
          }
         }
        },
        "template": {
         "data": {
          "bar": [
           {
            "error_x": {
             "color": "#2a3f5f"
            },
            "error_y": {
             "color": "#2a3f5f"
            },
            "marker": {
             "line": {
              "color": "#E5ECF6",
              "width": 0.5
             },
             "pattern": {
              "fillmode": "overlay",
              "size": 10,
              "solidity": 0.2
             }
            },
            "type": "bar"
           }
          ],
          "barpolar": [
           {
            "marker": {
             "line": {
              "color": "#E5ECF6",
              "width": 0.5
             },
             "pattern": {
              "fillmode": "overlay",
              "size": 10,
              "solidity": 0.2
             }
            },
            "type": "barpolar"
           }
          ],
          "carpet": [
           {
            "aaxis": {
             "endlinecolor": "#2a3f5f",
             "gridcolor": "white",
             "linecolor": "white",
             "minorgridcolor": "white",
             "startlinecolor": "#2a3f5f"
            },
            "baxis": {
             "endlinecolor": "#2a3f5f",
             "gridcolor": "white",
             "linecolor": "white",
             "minorgridcolor": "white",
             "startlinecolor": "#2a3f5f"
            },
            "type": "carpet"
           }
          ],
          "choropleth": [
           {
            "colorbar": {
             "outlinewidth": 0,
             "ticks": ""
            },
            "type": "choropleth"
           }
          ],
          "contour": [
           {
            "colorbar": {
             "outlinewidth": 0,
             "ticks": ""
            },
            "colorscale": [
             [
              0,
              "#0d0887"
             ],
             [
              0.1111111111111111,
              "#46039f"
             ],
             [
              0.2222222222222222,
              "#7201a8"
             ],
             [
              0.3333333333333333,
              "#9c179e"
             ],
             [
              0.4444444444444444,
              "#bd3786"
             ],
             [
              0.5555555555555556,
              "#d8576b"
             ],
             [
              0.6666666666666666,
              "#ed7953"
             ],
             [
              0.7777777777777778,
              "#fb9f3a"
             ],
             [
              0.8888888888888888,
              "#fdca26"
             ],
             [
              1,
              "#f0f921"
             ]
            ],
            "type": "contour"
           }
          ],
          "contourcarpet": [
           {
            "colorbar": {
             "outlinewidth": 0,
             "ticks": ""
            },
            "type": "contourcarpet"
           }
          ],
          "heatmap": [
           {
            "colorbar": {
             "outlinewidth": 0,
             "ticks": ""
            },
            "colorscale": [
             [
              0,
              "#0d0887"
             ],
             [
              0.1111111111111111,
              "#46039f"
             ],
             [
              0.2222222222222222,
              "#7201a8"
             ],
             [
              0.3333333333333333,
              "#9c179e"
             ],
             [
              0.4444444444444444,
              "#bd3786"
             ],
             [
              0.5555555555555556,
              "#d8576b"
             ],
             [
              0.6666666666666666,
              "#ed7953"
             ],
             [
              0.7777777777777778,
              "#fb9f3a"
             ],
             [
              0.8888888888888888,
              "#fdca26"
             ],
             [
              1,
              "#f0f921"
             ]
            ],
            "type": "heatmap"
           }
          ],
          "heatmapgl": [
           {
            "colorbar": {
             "outlinewidth": 0,
             "ticks": ""
            },
            "colorscale": [
             [
              0,
              "#0d0887"
             ],
             [
              0.1111111111111111,
              "#46039f"
             ],
             [
              0.2222222222222222,
              "#7201a8"
             ],
             [
              0.3333333333333333,
              "#9c179e"
             ],
             [
              0.4444444444444444,
              "#bd3786"
             ],
             [
              0.5555555555555556,
              "#d8576b"
             ],
             [
              0.6666666666666666,
              "#ed7953"
             ],
             [
              0.7777777777777778,
              "#fb9f3a"
             ],
             [
              0.8888888888888888,
              "#fdca26"
             ],
             [
              1,
              "#f0f921"
             ]
            ],
            "type": "heatmapgl"
           }
          ],
          "histogram": [
           {
            "marker": {
             "pattern": {
              "fillmode": "overlay",
              "size": 10,
              "solidity": 0.2
             }
            },
            "type": "histogram"
           }
          ],
          "histogram2d": [
           {
            "colorbar": {
             "outlinewidth": 0,
             "ticks": ""
            },
            "colorscale": [
             [
              0,
              "#0d0887"
             ],
             [
              0.1111111111111111,
              "#46039f"
             ],
             [
              0.2222222222222222,
              "#7201a8"
             ],
             [
              0.3333333333333333,
              "#9c179e"
             ],
             [
              0.4444444444444444,
              "#bd3786"
             ],
             [
              0.5555555555555556,
              "#d8576b"
             ],
             [
              0.6666666666666666,
              "#ed7953"
             ],
             [
              0.7777777777777778,
              "#fb9f3a"
             ],
             [
              0.8888888888888888,
              "#fdca26"
             ],
             [
              1,
              "#f0f921"
             ]
            ],
            "type": "histogram2d"
           }
          ],
          "histogram2dcontour": [
           {
            "colorbar": {
             "outlinewidth": 0,
             "ticks": ""
            },
            "colorscale": [
             [
              0,
              "#0d0887"
             ],
             [
              0.1111111111111111,
              "#46039f"
             ],
             [
              0.2222222222222222,
              "#7201a8"
             ],
             [
              0.3333333333333333,
              "#9c179e"
             ],
             [
              0.4444444444444444,
              "#bd3786"
             ],
             [
              0.5555555555555556,
              "#d8576b"
             ],
             [
              0.6666666666666666,
              "#ed7953"
             ],
             [
              0.7777777777777778,
              "#fb9f3a"
             ],
             [
              0.8888888888888888,
              "#fdca26"
             ],
             [
              1,
              "#f0f921"
             ]
            ],
            "type": "histogram2dcontour"
           }
          ],
          "mesh3d": [
           {
            "colorbar": {
             "outlinewidth": 0,
             "ticks": ""
            },
            "type": "mesh3d"
           }
          ],
          "parcoords": [
           {
            "line": {
             "colorbar": {
              "outlinewidth": 0,
              "ticks": ""
             }
            },
            "type": "parcoords"
           }
          ],
          "pie": [
           {
            "automargin": true,
            "type": "pie"
           }
          ],
          "scatter": [
           {
            "marker": {
             "colorbar": {
              "outlinewidth": 0,
              "ticks": ""
             }
            },
            "type": "scatter"
           }
          ],
          "scatter3d": [
           {
            "line": {
             "colorbar": {
              "outlinewidth": 0,
              "ticks": ""
             }
            },
            "marker": {
             "colorbar": {
              "outlinewidth": 0,
              "ticks": ""
             }
            },
            "type": "scatter3d"
           }
          ],
          "scattercarpet": [
           {
            "marker": {
             "colorbar": {
              "outlinewidth": 0,
              "ticks": ""
             }
            },
            "type": "scattercarpet"
           }
          ],
          "scattergeo": [
           {
            "marker": {
             "colorbar": {
              "outlinewidth": 0,
              "ticks": ""
             }
            },
            "type": "scattergeo"
           }
          ],
          "scattergl": [
           {
            "marker": {
             "colorbar": {
              "outlinewidth": 0,
              "ticks": ""
             }
            },
            "type": "scattergl"
           }
          ],
          "scattermapbox": [
           {
            "marker": {
             "colorbar": {
              "outlinewidth": 0,
              "ticks": ""
             }
            },
            "type": "scattermapbox"
           }
          ],
          "scatterpolar": [
           {
            "marker": {
             "colorbar": {
              "outlinewidth": 0,
              "ticks": ""
             }
            },
            "type": "scatterpolar"
           }
          ],
          "scatterpolargl": [
           {
            "marker": {
             "colorbar": {
              "outlinewidth": 0,
              "ticks": ""
             }
            },
            "type": "scatterpolargl"
           }
          ],
          "scatterternary": [
           {
            "marker": {
             "colorbar": {
              "outlinewidth": 0,
              "ticks": ""
             }
            },
            "type": "scatterternary"
           }
          ],
          "surface": [
           {
            "colorbar": {
             "outlinewidth": 0,
             "ticks": ""
            },
            "colorscale": [
             [
              0,
              "#0d0887"
             ],
             [
              0.1111111111111111,
              "#46039f"
             ],
             [
              0.2222222222222222,
              "#7201a8"
             ],
             [
              0.3333333333333333,
              "#9c179e"
             ],
             [
              0.4444444444444444,
              "#bd3786"
             ],
             [
              0.5555555555555556,
              "#d8576b"
             ],
             [
              0.6666666666666666,
              "#ed7953"
             ],
             [
              0.7777777777777778,
              "#fb9f3a"
             ],
             [
              0.8888888888888888,
              "#fdca26"
             ],
             [
              1,
              "#f0f921"
             ]
            ],
            "type": "surface"
           }
          ],
          "table": [
           {
            "cells": {
             "fill": {
              "color": "#EBF0F8"
             },
             "line": {
              "color": "white"
             }
            },
            "header": {
             "fill": {
              "color": "#C8D4E3"
             },
             "line": {
              "color": "white"
             }
            },
            "type": "table"
           }
          ]
         },
         "layout": {
          "annotationdefaults": {
           "arrowcolor": "#2a3f5f",
           "arrowhead": 0,
           "arrowwidth": 1
          },
          "autotypenumbers": "strict",
          "coloraxis": {
           "colorbar": {
            "outlinewidth": 0,
            "ticks": ""
           }
          },
          "colorscale": {
           "diverging": [
            [
             0,
             "#8e0152"
            ],
            [
             0.1,
             "#c51b7d"
            ],
            [
             0.2,
             "#de77ae"
            ],
            [
             0.3,
             "#f1b6da"
            ],
            [
             0.4,
             "#fde0ef"
            ],
            [
             0.5,
             "#f7f7f7"
            ],
            [
             0.6,
             "#e6f5d0"
            ],
            [
             0.7,
             "#b8e186"
            ],
            [
             0.8,
             "#7fbc41"
            ],
            [
             0.9,
             "#4d9221"
            ],
            [
             1,
             "#276419"
            ]
           ],
           "sequential": [
            [
             0,
             "#0d0887"
            ],
            [
             0.1111111111111111,
             "#46039f"
            ],
            [
             0.2222222222222222,
             "#7201a8"
            ],
            [
             0.3333333333333333,
             "#9c179e"
            ],
            [
             0.4444444444444444,
             "#bd3786"
            ],
            [
             0.5555555555555556,
             "#d8576b"
            ],
            [
             0.6666666666666666,
             "#ed7953"
            ],
            [
             0.7777777777777778,
             "#fb9f3a"
            ],
            [
             0.8888888888888888,
             "#fdca26"
            ],
            [
             1,
             "#f0f921"
            ]
           ],
           "sequentialminus": [
            [
             0,
             "#0d0887"
            ],
            [
             0.1111111111111111,
             "#46039f"
            ],
            [
             0.2222222222222222,
             "#7201a8"
            ],
            [
             0.3333333333333333,
             "#9c179e"
            ],
            [
             0.4444444444444444,
             "#bd3786"
            ],
            [
             0.5555555555555556,
             "#d8576b"
            ],
            [
             0.6666666666666666,
             "#ed7953"
            ],
            [
             0.7777777777777778,
             "#fb9f3a"
            ],
            [
             0.8888888888888888,
             "#fdca26"
            ],
            [
             1,
             "#f0f921"
            ]
           ]
          },
          "colorway": [
           "#636efa",
           "#EF553B",
           "#00cc96",
           "#ab63fa",
           "#FFA15A",
           "#19d3f3",
           "#FF6692",
           "#B6E880",
           "#FF97FF",
           "#FECB52"
          ],
          "font": {
           "color": "#2a3f5f"
          },
          "geo": {
           "bgcolor": "white",
           "lakecolor": "white",
           "landcolor": "#E5ECF6",
           "showlakes": true,
           "showland": true,
           "subunitcolor": "white"
          },
          "hoverlabel": {
           "align": "left"
          },
          "hovermode": "closest",
          "mapbox": {
           "style": "light"
          },
          "paper_bgcolor": "white",
          "plot_bgcolor": "#E5ECF6",
          "polar": {
           "angularaxis": {
            "gridcolor": "white",
            "linecolor": "white",
            "ticks": ""
           },
           "bgcolor": "#E5ECF6",
           "radialaxis": {
            "gridcolor": "white",
            "linecolor": "white",
            "ticks": ""
           }
          },
          "scene": {
           "xaxis": {
            "backgroundcolor": "#E5ECF6",
            "gridcolor": "white",
            "gridwidth": 2,
            "linecolor": "white",
            "showbackground": true,
            "ticks": "",
            "zerolinecolor": "white"
           },
           "yaxis": {
            "backgroundcolor": "#E5ECF6",
            "gridcolor": "white",
            "gridwidth": 2,
            "linecolor": "white",
            "showbackground": true,
            "ticks": "",
            "zerolinecolor": "white"
           },
           "zaxis": {
            "backgroundcolor": "#E5ECF6",
            "gridcolor": "white",
            "gridwidth": 2,
            "linecolor": "white",
            "showbackground": true,
            "ticks": "",
            "zerolinecolor": "white"
           }
          },
          "shapedefaults": {
           "line": {
            "color": "#2a3f5f"
           }
          },
          "ternary": {
           "aaxis": {
            "gridcolor": "white",
            "linecolor": "white",
            "ticks": ""
           },
           "baxis": {
            "gridcolor": "white",
            "linecolor": "white",
            "ticks": ""
           },
           "bgcolor": "#E5ECF6",
           "caxis": {
            "gridcolor": "white",
            "linecolor": "white",
            "ticks": ""
           }
          },
          "title": {
           "x": 0.05
          },
          "xaxis": {
           "automargin": true,
           "gridcolor": "white",
           "linecolor": "white",
           "ticks": "",
           "title": {
            "standoff": 15
           },
           "zerolinecolor": "white",
           "zerolinewidth": 2
          },
          "yaxis": {
           "automargin": true,
           "gridcolor": "white",
           "linecolor": "white",
           "ticks": "",
           "title": {
            "standoff": 15
           },
           "zerolinecolor": "white",
           "zerolinewidth": 2
          }
         }
        },
        "title": {
         "text": "Clusters by K-Means"
        },
        "width": 1000
       }
      }
     },
     "metadata": {},
     "output_type": "display_data"
    }
   ],
   "source": [
    "import plotly as py\n",
    "import plotly.graph_objs as go\n",
    "\n",
    "def plot_cluster(cluster, n, name):\n",
    "    return go.Scatter3d(\n",
    "        x = cluster[cluster['Cluster']==n]['Age'],\n",
    "        y = cluster[cluster['Cluster']==n]['Spending Score (1-100)'],\n",
    "        z = cluster[cluster['Cluster']==n]['Annual Income (k$)'],\n",
    "        mode = 'markers',\n",
    "        name = name,\n",
    "        marker = dict(size = k_clusters)\n",
    "    )\n",
    "\n",
    "data = []\n",
    "for i in range(0,k_clusters):\n",
    "    cluster_name = 'Customer ' + str(i + 1)\n",
    "    cluster = plot_cluster(kmean_clusters, i, cluster_name)\n",
    "    data.append(cluster)\n",
    "\n",
    "layout = go.Layout(\n",
    "    title = 'Clusters by K-Means',\n",
    "    height=800,\n",
    "    width = 1000,\n",
    "    scene = dict(\n",
    "        xaxis = dict(title = 'Age'),\n",
    "        yaxis = dict(title = 'Spending Score'),\n",
    "        zaxis = dict(title = 'Annual Income')\n",
    "        )\n",
    ")\n",
    "\n",
    "fig = go.Figure(data=data, layout=layout)\n",
    "py.offline.iplot(fig)"
>>>>>>> aae1977bdae98b7b6e6519b20c8b54e88b641e62
   ]
  }
 ],
 "metadata": {
  "kernelspec": {
   "display_name": "Python 3 (ipykernel)",
   "language": "python",
   "name": "python3"
  },
  "language_info": {
   "codemirror_mode": {
    "name": "ipython",
    "version": 3
   },
   "file_extension": ".py",
   "mimetype": "text/x-python",
   "name": "python",
   "nbconvert_exporter": "python",
   "pygments_lexer": "ipython3",
<<<<<<< HEAD
   "version": "3.8.9"
=======
   "version": "3.9.7"
>>>>>>> aae1977bdae98b7b6e6519b20c8b54e88b641e62
  }
 },
 "nbformat": 4,
 "nbformat_minor": 5
}
